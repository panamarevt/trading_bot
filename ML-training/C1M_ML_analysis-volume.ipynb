{
 "cells": [
  {
   "cell_type": "code",
   "execution_count": 2,
   "metadata": {},
   "outputs": [],
   "source": [
    "import numpy as np\n",
    "import pandas as pd\n",
    "import matplotlib.pyplot as plt\n",
    "\n",
    "# Import ML libraries\n",
    "from sklearn.ensemble import RandomForestClassifier\n",
    "from sklearn.metrics import mean_absolute_error, classification_report, confusion_matrix\n",
    "from sklearn.model_selection import train_test_split, GridSearchCV, RandomizedSearchCV\n",
    "from sklearn.linear_model import LogisticRegression\n",
    "from sklearn import preprocessing\n",
    "from xgboost import XGBClassifier\n",
    "from sklearn.pipeline import Pipeline\n",
    "import pickle # to save and load pre-trained models"
   ]
  },
  {
   "cell_type": "code",
   "execution_count": 25,
   "metadata": {},
   "outputs": [],
   "source": [
    "%matplotlib inline"
   ]
  },
  {
   "cell_type": "code",
   "execution_count": 26,
   "metadata": {},
   "outputs": [
    {
     "name": "stdout",
     "output_type": "stream",
     "text": [
      " ’®¬ ў гбва®©бвўҐ D Ё¬ҐҐв ¬ҐвЄг Ќ®ўл© в®¬\n",
      " ‘ҐаЁ©­л© ­®¬Ґа в®¬ : F89F-7E89\n",
      "\n",
      " ‘®¤Ґа¦Ё¬®Ґ Ї ЇЄЁ D:\\PROJECTS\\Binance\\Trading_bot_working\\ML-training\n",
      "\n",
      "25.10.2020  15:10    <DIR>          .\n",
      "25.10.2020  15:10    <DIR>          ..\n",
      "04.10.2020  16:17    <DIR>          .ipynb_checkpoints\n",
      "12.09.2020  21:07        10я294я827 buy_signals_backtest_ML_Jan2019-Aug2020.dat\n",
      "13.09.2020  06:27         3я578я133 buy_signals_backtest_ML_July-Aug2020.dat\n",
      "25.10.2020  11:49         4я068я842 buy_signals_backtest_ML_July-Aug2020_volume.dat\n",
      "25.10.2020  15:10           151я829 C1M_ML_analysis-volume.ipynb\n",
      "04.10.2020  16:16           128я423 C1M_ML_analysis.ipynb\n",
      "16.09.2020  07:54             8я867 C1M_ML_analysis.py\n",
      "16.09.2020  07:54             1я034 logregression.pickle\n",
      "               7 д ©«®ў     18я231я955 Ў ©в\n",
      "               3 Ї Ї®Є  30я652я940я288 Ў ©в бў®Ў®¤­®\n"
     ]
    }
   ],
   "source": [
    "!dir"
   ]
  },
  {
   "cell_type": "code",
   "execution_count": 27,
   "metadata": {},
   "outputs": [],
   "source": [
    "#trades_df = pd.read_csv('buy_signals_backtest_ML_July-Aug2020.dat')\n",
    "trades_df = pd.read_csv('buy_signals_backtest_ML_July-Aug2020_volume.dat')\n",
    "#trades_df.set_index('time_curr', inplace=True)\n",
    "#trades_df.index=pd.to_datetime(trades_df.index)"
   ]
  },
  {
   "cell_type": "code",
   "execution_count": 28,
   "metadata": {},
   "outputs": [
    {
     "data": {
      "text/plain": [
       "Index(['time_curr', 'symbol', 'price', 'pattern', 'origin', 'ranging',\n",
       "       'd_ranging', 'lower', 'upper', 'middle', 'd_lower', 'd_upper',\n",
       "       'd_middle', 'ema_10', 'ema_200', 'd_ema_10', 'd_ema_200', 'k_15',\n",
       "       'd_15', 'd_k_15', 'd_d_15', 'stoch_cond_5', 'candle_color', 'volume',\n",
       "       'ntrades', 'tb_volume', 'vol_inc', 'dist_to_BB', 'profit', 'elapsed',\n",
       "       'min_price', 'max_price', 'profit_s15', 'elapsed_s15', 'min_price_s15',\n",
       "       'max_price_s15', 'Unnamed: 36'],\n",
       "      dtype='object')"
      ]
     },
     "execution_count": 28,
     "metadata": {},
     "output_type": "execute_result"
    }
   ],
   "source": [
    "trades_df.columns"
   ]
  },
  {
   "cell_type": "code",
   "execution_count": 29,
   "metadata": {},
   "outputs": [],
   "source": [
    "profitability = [0 if item < 0 else 1 for item in trades_df['profit']]\n",
    "trades_df['profitability'] = profitability\n",
    "profitability_s15 = [0 if item < 0 else 1 for item in trades_df['profit_s15']]\n",
    "trades_df['profitability_s15'] = profitability_s15\n"
   ]
  },
  {
   "cell_type": "markdown",
   "metadata": {},
   "source": [
    "Convert 'time_curr' to `datetime` object"
   ]
  },
  {
   "cell_type": "code",
   "execution_count": 30,
   "metadata": {},
   "outputs": [],
   "source": [
    "trades_df['time_curr'] = pd.to_datetime(trades_df['time_curr'])"
   ]
  },
  {
   "cell_type": "code",
   "execution_count": 31,
   "metadata": {},
   "outputs": [],
   "source": [
    "# Sort the dataframe by the date:\n",
    "trades_df.sort_values(by=['time_curr'], inplace=True)"
   ]
  },
  {
   "cell_type": "code",
   "execution_count": 32,
   "metadata": {},
   "outputs": [
    {
     "data": {
      "text/plain": [
       "Index(['time_curr', 'symbol', 'price', 'pattern', 'origin', 'ranging',\n",
       "       'd_ranging', 'lower', 'upper', 'middle', 'd_lower', 'd_upper',\n",
       "       'd_middle', 'ema_10', 'ema_200', 'd_ema_10', 'd_ema_200', 'k_15',\n",
       "       'd_15', 'd_k_15', 'd_d_15', 'stoch_cond_5', 'candle_color', 'volume',\n",
       "       'ntrades', 'tb_volume', 'vol_inc', 'dist_to_BB', 'profit', 'elapsed',\n",
       "       'min_price', 'max_price', 'profit_s15', 'elapsed_s15', 'min_price_s15',\n",
       "       'max_price_s15', 'Unnamed: 36', 'profitability', 'profitability_s15'],\n",
       "      dtype='object')"
      ]
     },
     "execution_count": 32,
     "metadata": {},
     "output_type": "execute_result"
    }
   ],
   "source": [
    "trades_df.columns"
   ]
  },
  {
   "cell_type": "code",
   "execution_count": 33,
   "metadata": {},
   "outputs": [
    {
     "data": {
      "text/html": [
       "<div>\n",
       "<style scoped>\n",
       "    .dataframe tbody tr th:only-of-type {\n",
       "        vertical-align: middle;\n",
       "    }\n",
       "\n",
       "    .dataframe tbody tr th {\n",
       "        vertical-align: top;\n",
       "    }\n",
       "\n",
       "    .dataframe thead th {\n",
       "        text-align: right;\n",
       "    }\n",
       "</style>\n",
       "<table border=\"1\" class=\"dataframe\">\n",
       "  <thead>\n",
       "    <tr style=\"text-align: right;\">\n",
       "      <th></th>\n",
       "      <th>symbol</th>\n",
       "      <th>price</th>\n",
       "      <th>pattern</th>\n",
       "      <th>origin</th>\n",
       "      <th>ranging</th>\n",
       "      <th>d_ranging</th>\n",
       "      <th>lower</th>\n",
       "      <th>upper</th>\n",
       "      <th>middle</th>\n",
       "      <th>d_lower</th>\n",
       "      <th>...</th>\n",
       "      <th>elapsed</th>\n",
       "      <th>min_price</th>\n",
       "      <th>max_price</th>\n",
       "      <th>profit_s15</th>\n",
       "      <th>elapsed_s15</th>\n",
       "      <th>min_price_s15</th>\n",
       "      <th>max_price_s15</th>\n",
       "      <th>Unnamed: 36</th>\n",
       "      <th>profitability</th>\n",
       "      <th>profitability_s15</th>\n",
       "    </tr>\n",
       "    <tr>\n",
       "      <th>time_curr</th>\n",
       "      <th></th>\n",
       "      <th></th>\n",
       "      <th></th>\n",
       "      <th></th>\n",
       "      <th></th>\n",
       "      <th></th>\n",
       "      <th></th>\n",
       "      <th></th>\n",
       "      <th></th>\n",
       "      <th></th>\n",
       "      <th></th>\n",
       "      <th></th>\n",
       "      <th></th>\n",
       "      <th></th>\n",
       "      <th></th>\n",
       "      <th></th>\n",
       "      <th></th>\n",
       "      <th></th>\n",
       "      <th></th>\n",
       "      <th></th>\n",
       "      <th></th>\n",
       "    </tr>\n",
       "  </thead>\n",
       "  <tbody>\n",
       "    <tr>\n",
       "      <td>2020-09-01 00:48:00</td>\n",
       "      <td>OMGBTC</td>\n",
       "      <td>0.000437</td>\n",
       "      <td>no</td>\n",
       "      <td>lower</td>\n",
       "      <td>5.694</td>\n",
       "      <td>-0.050</td>\n",
       "      <td>0.000431</td>\n",
       "      <td>0.000459</td>\n",
       "      <td>0.000445</td>\n",
       "      <td>-1.000000e-07</td>\n",
       "      <td>...</td>\n",
       "      <td>346.0</td>\n",
       "      <td>-2.50</td>\n",
       "      <td>1.21</td>\n",
       "      <td>-1.5</td>\n",
       "      <td>309.0</td>\n",
       "      <td>-1.25</td>\n",
       "      <td>1.21</td>\n",
       "      <td>NaN</td>\n",
       "      <td>0</td>\n",
       "      <td>0</td>\n",
       "    </tr>\n",
       "    <tr>\n",
       "      <td>2020-09-01 07:10:00</td>\n",
       "      <td>OMGBTC</td>\n",
       "      <td>0.000428</td>\n",
       "      <td>no</td>\n",
       "      <td>lower</td>\n",
       "      <td>4.432</td>\n",
       "      <td>0.020</td>\n",
       "      <td>0.000426</td>\n",
       "      <td>0.000444</td>\n",
       "      <td>0.000435</td>\n",
       "      <td>-1.100000e-07</td>\n",
       "      <td>...</td>\n",
       "      <td>243.0</td>\n",
       "      <td>-2.50</td>\n",
       "      <td>1.40</td>\n",
       "      <td>-1.5</td>\n",
       "      <td>243.0</td>\n",
       "      <td>-1.25</td>\n",
       "      <td>1.40</td>\n",
       "      <td>NaN</td>\n",
       "      <td>0</td>\n",
       "      <td>0</td>\n",
       "    </tr>\n",
       "    <tr>\n",
       "      <td>2020-09-01 07:16:00</td>\n",
       "      <td>OMGBTC</td>\n",
       "      <td>0.000428</td>\n",
       "      <td>no</td>\n",
       "      <td>lower</td>\n",
       "      <td>4.433</td>\n",
       "      <td>0.000</td>\n",
       "      <td>0.000425</td>\n",
       "      <td>0.000444</td>\n",
       "      <td>0.000435</td>\n",
       "      <td>-8.000000e-08</td>\n",
       "      <td>...</td>\n",
       "      <td>237.0</td>\n",
       "      <td>-2.50</td>\n",
       "      <td>1.47</td>\n",
       "      <td>-1.5</td>\n",
       "      <td>237.0</td>\n",
       "      <td>-1.25</td>\n",
       "      <td>1.47</td>\n",
       "      <td>NaN</td>\n",
       "      <td>0</td>\n",
       "      <td>0</td>\n",
       "    </tr>\n",
       "    <tr>\n",
       "      <td>2020-09-01 16:05:00</td>\n",
       "      <td>LRCBTC</td>\n",
       "      <td>0.000018</td>\n",
       "      <td>no</td>\n",
       "      <td>lower</td>\n",
       "      <td>5.087</td>\n",
       "      <td>0.000</td>\n",
       "      <td>0.000018</td>\n",
       "      <td>0.000019</td>\n",
       "      <td>0.000018</td>\n",
       "      <td>-1.000000e-08</td>\n",
       "      <td>...</td>\n",
       "      <td>35.0</td>\n",
       "      <td>0.00</td>\n",
       "      <td>1.29</td>\n",
       "      <td>1.5</td>\n",
       "      <td>35.0</td>\n",
       "      <td>0.00</td>\n",
       "      <td>1.29</td>\n",
       "      <td>NaN</td>\n",
       "      <td>1</td>\n",
       "      <td>1</td>\n",
       "    </tr>\n",
       "    <tr>\n",
       "      <td>2020-09-01 16:15:00</td>\n",
       "      <td>QTUMBTC</td>\n",
       "      <td>0.000287</td>\n",
       "      <td>Harami</td>\n",
       "      <td>lower</td>\n",
       "      <td>4.533</td>\n",
       "      <td>0.012</td>\n",
       "      <td>0.000287</td>\n",
       "      <td>0.000299</td>\n",
       "      <td>0.000293</td>\n",
       "      <td>-5.000000e-08</td>\n",
       "      <td>...</td>\n",
       "      <td>24.0</td>\n",
       "      <td>-0.24</td>\n",
       "      <td>1.77</td>\n",
       "      <td>1.5</td>\n",
       "      <td>24.0</td>\n",
       "      <td>-0.24</td>\n",
       "      <td>1.77</td>\n",
       "      <td>NaN</td>\n",
       "      <td>1</td>\n",
       "      <td>1</td>\n",
       "    </tr>\n",
       "    <tr>\n",
       "      <td>...</td>\n",
       "      <td>...</td>\n",
       "      <td>...</td>\n",
       "      <td>...</td>\n",
       "      <td>...</td>\n",
       "      <td>...</td>\n",
       "      <td>...</td>\n",
       "      <td>...</td>\n",
       "      <td>...</td>\n",
       "      <td>...</td>\n",
       "      <td>...</td>\n",
       "      <td>...</td>\n",
       "      <td>...</td>\n",
       "      <td>...</td>\n",
       "      <td>...</td>\n",
       "      <td>...</td>\n",
       "      <td>...</td>\n",
       "      <td>...</td>\n",
       "      <td>...</td>\n",
       "      <td>...</td>\n",
       "      <td>...</td>\n",
       "      <td>...</td>\n",
       "    </tr>\n",
       "    <tr>\n",
       "      <td>2020-09-30 19:15:00</td>\n",
       "      <td>FETBTC</td>\n",
       "      <td>0.000006</td>\n",
       "      <td>no</td>\n",
       "      <td>lower</td>\n",
       "      <td>6.759</td>\n",
       "      <td>0.013</td>\n",
       "      <td>0.000006</td>\n",
       "      <td>0.000007</td>\n",
       "      <td>0.000007</td>\n",
       "      <td>-0.000000e+00</td>\n",
       "      <td>...</td>\n",
       "      <td>109.0</td>\n",
       "      <td>-0.31</td>\n",
       "      <td>1.26</td>\n",
       "      <td>1.5</td>\n",
       "      <td>109.0</td>\n",
       "      <td>-0.31</td>\n",
       "      <td>1.26</td>\n",
       "      <td>NaN</td>\n",
       "      <td>1</td>\n",
       "      <td>1</td>\n",
       "    </tr>\n",
       "    <tr>\n",
       "      <td>2020-09-30 19:16:00</td>\n",
       "      <td>SXPBTC</td>\n",
       "      <td>0.000155</td>\n",
       "      <td>Harami</td>\n",
       "      <td>lower</td>\n",
       "      <td>4.184</td>\n",
       "      <td>0.005</td>\n",
       "      <td>0.000155</td>\n",
       "      <td>0.000161</td>\n",
       "      <td>0.000158</td>\n",
       "      <td>-2.000000e-08</td>\n",
       "      <td>...</td>\n",
       "      <td>56.0</td>\n",
       "      <td>-0.94</td>\n",
       "      <td>1.60</td>\n",
       "      <td>1.5</td>\n",
       "      <td>56.0</td>\n",
       "      <td>-0.94</td>\n",
       "      <td>1.60</td>\n",
       "      <td>NaN</td>\n",
       "      <td>1</td>\n",
       "      <td>1</td>\n",
       "    </tr>\n",
       "    <tr>\n",
       "      <td>2020-09-30 19:17:00</td>\n",
       "      <td>RENBTC</td>\n",
       "      <td>0.000022</td>\n",
       "      <td>Hammer</td>\n",
       "      <td>lower</td>\n",
       "      <td>5.630</td>\n",
       "      <td>0.025</td>\n",
       "      <td>0.000022</td>\n",
       "      <td>0.000023</td>\n",
       "      <td>0.000022</td>\n",
       "      <td>-0.000000e+00</td>\n",
       "      <td>...</td>\n",
       "      <td>19.0</td>\n",
       "      <td>0.00</td>\n",
       "      <td>0.00</td>\n",
       "      <td>1.5</td>\n",
       "      <td>19.0</td>\n",
       "      <td>-0.19</td>\n",
       "      <td>1.76</td>\n",
       "      <td>NaN</td>\n",
       "      <td>1</td>\n",
       "      <td>1</td>\n",
       "    </tr>\n",
       "    <tr>\n",
       "      <td>2020-09-30 20:15:00</td>\n",
       "      <td>FTMBTC</td>\n",
       "      <td>0.000003</td>\n",
       "      <td>Doji</td>\n",
       "      <td>upper</td>\n",
       "      <td>4.149</td>\n",
       "      <td>-0.002</td>\n",
       "      <td>0.000003</td>\n",
       "      <td>0.000004</td>\n",
       "      <td>0.000003</td>\n",
       "      <td>0.000000e+00</td>\n",
       "      <td>...</td>\n",
       "      <td>205.0</td>\n",
       "      <td>-2.29</td>\n",
       "      <td>2.00</td>\n",
       "      <td>-1.5</td>\n",
       "      <td>64.0</td>\n",
       "      <td>-1.25</td>\n",
       "      <td>0.29</td>\n",
       "      <td>NaN</td>\n",
       "      <td>1</td>\n",
       "      <td>0</td>\n",
       "    </tr>\n",
       "    <tr>\n",
       "      <td>2020-09-30 20:46:00</td>\n",
       "      <td>DIABTC</td>\n",
       "      <td>0.000129</td>\n",
       "      <td>no</td>\n",
       "      <td>upper</td>\n",
       "      <td>7.843</td>\n",
       "      <td>-0.101</td>\n",
       "      <td>0.000124</td>\n",
       "      <td>0.000135</td>\n",
       "      <td>0.000129</td>\n",
       "      <td>1.400000e-07</td>\n",
       "      <td>...</td>\n",
       "      <td>31.0</td>\n",
       "      <td>-2.50</td>\n",
       "      <td>0.23</td>\n",
       "      <td>-1.5</td>\n",
       "      <td>29.0</td>\n",
       "      <td>-1.25</td>\n",
       "      <td>0.23</td>\n",
       "      <td>NaN</td>\n",
       "      <td>0</td>\n",
       "      <td>0</td>\n",
       "    </tr>\n",
       "  </tbody>\n",
       "</table>\n",
       "<p>4244 rows × 38 columns</p>\n",
       "</div>"
      ],
      "text/plain": [
       "                      symbol     price pattern origin  ranging  d_ranging  \\\n",
       "time_curr                                                                   \n",
       "2020-09-01 00:48:00   OMGBTC  0.000437      no  lower    5.694     -0.050   \n",
       "2020-09-01 07:10:00   OMGBTC  0.000428      no  lower    4.432      0.020   \n",
       "2020-09-01 07:16:00   OMGBTC  0.000428      no  lower    4.433      0.000   \n",
       "2020-09-01 16:05:00   LRCBTC  0.000018      no  lower    5.087      0.000   \n",
       "2020-09-01 16:15:00  QTUMBTC  0.000287  Harami  lower    4.533      0.012   \n",
       "...                      ...       ...     ...    ...      ...        ...   \n",
       "2020-09-30 19:15:00   FETBTC  0.000006      no  lower    6.759      0.013   \n",
       "2020-09-30 19:16:00   SXPBTC  0.000155  Harami  lower    4.184      0.005   \n",
       "2020-09-30 19:17:00   RENBTC  0.000022  Hammer  lower    5.630      0.025   \n",
       "2020-09-30 20:15:00   FTMBTC  0.000003    Doji  upper    4.149     -0.002   \n",
       "2020-09-30 20:46:00   DIABTC  0.000129      no  upper    7.843     -0.101   \n",
       "\n",
       "                        lower     upper    middle       d_lower  ...  elapsed  \\\n",
       "time_curr                                                        ...            \n",
       "2020-09-01 00:48:00  0.000431  0.000459  0.000445 -1.000000e-07  ...    346.0   \n",
       "2020-09-01 07:10:00  0.000426  0.000444  0.000435 -1.100000e-07  ...    243.0   \n",
       "2020-09-01 07:16:00  0.000425  0.000444  0.000435 -8.000000e-08  ...    237.0   \n",
       "2020-09-01 16:05:00  0.000018  0.000019  0.000018 -1.000000e-08  ...     35.0   \n",
       "2020-09-01 16:15:00  0.000287  0.000299  0.000293 -5.000000e-08  ...     24.0   \n",
       "...                       ...       ...       ...           ...  ...      ...   \n",
       "2020-09-30 19:15:00  0.000006  0.000007  0.000007 -0.000000e+00  ...    109.0   \n",
       "2020-09-30 19:16:00  0.000155  0.000161  0.000158 -2.000000e-08  ...     56.0   \n",
       "2020-09-30 19:17:00  0.000022  0.000023  0.000022 -0.000000e+00  ...     19.0   \n",
       "2020-09-30 20:15:00  0.000003  0.000004  0.000003  0.000000e+00  ...    205.0   \n",
       "2020-09-30 20:46:00  0.000124  0.000135  0.000129  1.400000e-07  ...     31.0   \n",
       "\n",
       "                     min_price  max_price  profit_s15  elapsed_s15  \\\n",
       "time_curr                                                            \n",
       "2020-09-01 00:48:00      -2.50       1.21        -1.5        309.0   \n",
       "2020-09-01 07:10:00      -2.50       1.40        -1.5        243.0   \n",
       "2020-09-01 07:16:00      -2.50       1.47        -1.5        237.0   \n",
       "2020-09-01 16:05:00       0.00       1.29         1.5         35.0   \n",
       "2020-09-01 16:15:00      -0.24       1.77         1.5         24.0   \n",
       "...                        ...        ...         ...          ...   \n",
       "2020-09-30 19:15:00      -0.31       1.26         1.5        109.0   \n",
       "2020-09-30 19:16:00      -0.94       1.60         1.5         56.0   \n",
       "2020-09-30 19:17:00       0.00       0.00         1.5         19.0   \n",
       "2020-09-30 20:15:00      -2.29       2.00        -1.5         64.0   \n",
       "2020-09-30 20:46:00      -2.50       0.23        -1.5         29.0   \n",
       "\n",
       "                     min_price_s15  max_price_s15  Unnamed: 36  profitability  \\\n",
       "time_curr                                                                       \n",
       "2020-09-01 00:48:00          -1.25           1.21          NaN              0   \n",
       "2020-09-01 07:10:00          -1.25           1.40          NaN              0   \n",
       "2020-09-01 07:16:00          -1.25           1.47          NaN              0   \n",
       "2020-09-01 16:05:00           0.00           1.29          NaN              1   \n",
       "2020-09-01 16:15:00          -0.24           1.77          NaN              1   \n",
       "...                            ...            ...          ...            ...   \n",
       "2020-09-30 19:15:00          -0.31           1.26          NaN              1   \n",
       "2020-09-30 19:16:00          -0.94           1.60          NaN              1   \n",
       "2020-09-30 19:17:00          -0.19           1.76          NaN              1   \n",
       "2020-09-30 20:15:00          -1.25           0.29          NaN              1   \n",
       "2020-09-30 20:46:00          -1.25           0.23          NaN              0   \n",
       "\n",
       "                     profitability_s15  \n",
       "time_curr                               \n",
       "2020-09-01 00:48:00                  0  \n",
       "2020-09-01 07:10:00                  0  \n",
       "2020-09-01 07:16:00                  0  \n",
       "2020-09-01 16:05:00                  1  \n",
       "2020-09-01 16:15:00                  1  \n",
       "...                                ...  \n",
       "2020-09-30 19:15:00                  1  \n",
       "2020-09-30 19:16:00                  1  \n",
       "2020-09-30 19:17:00                  1  \n",
       "2020-09-30 20:15:00                  0  \n",
       "2020-09-30 20:46:00                  0  \n",
       "\n",
       "[4244 rows x 38 columns]"
      ]
     },
     "execution_count": 33,
     "metadata": {},
     "output_type": "execute_result"
    }
   ],
   "source": [
    "trades_df.set_index('time_curr')[\"2020-09\"]"
   ]
  },
  {
   "cell_type": "code",
   "execution_count": 34,
   "metadata": {},
   "outputs": [
    {
     "data": {
      "text/plain": [
       "Timestamp('2020-10-25 11:03:00')"
      ]
     },
     "execution_count": 34,
     "metadata": {},
     "output_type": "execute_result"
    }
   ],
   "source": [
    "trades_df.time_curr.iloc[-1]"
   ]
  },
  {
   "cell_type": "code",
   "execution_count": 35,
   "metadata": {},
   "outputs": [
    {
     "name": "stdout",
     "output_type": "stream",
     "text": [
      "Start trade: 2020-07-02 00:00:00, end trade: 2020-10-25 11:03:00 \n",
      "Total profitability in 115 days 11:03:00:  0.6163383874167493\n",
      "total n trades:  14114\n",
      "Total profitability in 115 days 11:03:00 with 0.15 stop loss:  0.4427518775683718\n",
      "total n trades:  14114\n"
     ]
    }
   ],
   "source": [
    "time_span = trades_df.time_curr.iloc[-1] - trades_df.time_curr.iloc[0]\n",
    "print(f\"Start trade: {trades_df.time_curr.iloc[0]}, end trade: {trades_df.time_curr.iloc[-1]} \")\n",
    "print(f\"Total profitability in {time_span}: \", trades_df['profitability'].sum()/len(trades_df['profitability']) )\n",
    "print(\"total n trades: \", len(trades_df['profitability']))\n",
    "print(f\"Total profitability in {time_span} with 0.15 stop loss: \", trades_df['profitability_s15'].sum()/len(trades_df['profitability_s15']) )\n",
    "print(\"total n trades: \", len(trades_df['profitability_s15']))"
   ]
  },
  {
   "cell_type": "code",
   "execution_count": 36,
   "metadata": {},
   "outputs": [],
   "source": [
    "trades_df.drop(['Unnamed: 36'], axis=1, inplace=True)"
   ]
  },
  {
   "cell_type": "code",
   "execution_count": 37,
   "metadata": {},
   "outputs": [
    {
     "data": {
      "text/plain": [
       "12643    1\n",
       "12644    1\n",
       "12645    1\n",
       "11653    0\n",
       "11654    0\n",
       "        ..\n",
       "13351    1\n",
       "14084    1\n",
       "13837    1\n",
       "13792    0\n",
       "14113    1\n",
       "Name: profitability, Length: 14114, dtype: int64"
      ]
     },
     "execution_count": 37,
     "metadata": {},
     "output_type": "execute_result"
    }
   ],
   "source": [
    "trades_df['profitability']"
   ]
  },
  {
   "cell_type": "code",
   "execution_count": 38,
   "metadata": {},
   "outputs": [],
   "source": [
    "pd.set_option('max_columns',100)"
   ]
  },
  {
   "cell_type": "code",
   "execution_count": 39,
   "metadata": {},
   "outputs": [],
   "source": [
    "#trades_df.dropna(axis=1, inplace=True)\n",
    "trades_df.fillna(-9999, inplace=True)"
   ]
  },
  {
   "cell_type": "code",
   "execution_count": 40,
   "metadata": {},
   "outputs": [],
   "source": [
    "trades_df = trades_df[trades_df.d_ema_200 != -9999]"
   ]
  },
  {
   "cell_type": "code",
   "execution_count": 41,
   "metadata": {},
   "outputs": [],
   "source": [
    "# Remove the problematic coin that has been identified later\n",
    "#trades_df = trades_df[trades_df.symbol != 'UMABTC']"
   ]
  },
  {
   "cell_type": "code",
   "execution_count": 42,
   "metadata": {},
   "outputs": [
    {
     "data": {
      "text/html": [
       "<div>\n",
       "<style scoped>\n",
       "    .dataframe tbody tr th:only-of-type {\n",
       "        vertical-align: middle;\n",
       "    }\n",
       "\n",
       "    .dataframe tbody tr th {\n",
       "        vertical-align: top;\n",
       "    }\n",
       "\n",
       "    .dataframe thead th {\n",
       "        text-align: right;\n",
       "    }\n",
       "</style>\n",
       "<table border=\"1\" class=\"dataframe\">\n",
       "  <thead>\n",
       "    <tr style=\"text-align: right;\">\n",
       "      <th></th>\n",
       "      <th>price</th>\n",
       "      <th>ranging</th>\n",
       "      <th>d_ranging</th>\n",
       "      <th>lower</th>\n",
       "      <th>upper</th>\n",
       "      <th>middle</th>\n",
       "      <th>d_lower</th>\n",
       "      <th>d_upper</th>\n",
       "      <th>d_middle</th>\n",
       "      <th>ema_10</th>\n",
       "      <th>ema_200</th>\n",
       "      <th>d_ema_10</th>\n",
       "      <th>d_ema_200</th>\n",
       "      <th>k_15</th>\n",
       "      <th>d_15</th>\n",
       "      <th>d_k_15</th>\n",
       "      <th>d_d_15</th>\n",
       "      <th>volume</th>\n",
       "      <th>ntrades</th>\n",
       "      <th>tb_volume</th>\n",
       "      <th>vol_inc</th>\n",
       "      <th>dist_to_BB</th>\n",
       "      <th>profit</th>\n",
       "      <th>elapsed</th>\n",
       "      <th>min_price</th>\n",
       "      <th>max_price</th>\n",
       "      <th>profit_s15</th>\n",
       "      <th>elapsed_s15</th>\n",
       "      <th>min_price_s15</th>\n",
       "      <th>max_price_s15</th>\n",
       "      <th>profitability</th>\n",
       "      <th>profitability_s15</th>\n",
       "    </tr>\n",
       "  </thead>\n",
       "  <tbody>\n",
       "    <tr>\n",
       "      <td>count</td>\n",
       "      <td>13562.000000</td>\n",
       "      <td>13562.000000</td>\n",
       "      <td>13562.000000</td>\n",
       "      <td>13562.000000</td>\n",
       "      <td>13562.000000</td>\n",
       "      <td>13562.000000</td>\n",
       "      <td>1.356200e+04</td>\n",
       "      <td>1.356200e+04</td>\n",
       "      <td>1.356200e+04</td>\n",
       "      <td>13562.000000</td>\n",
       "      <td>13562.000000</td>\n",
       "      <td>1.356200e+04</td>\n",
       "      <td>1.356200e+04</td>\n",
       "      <td>13562.000000</td>\n",
       "      <td>13562.000000</td>\n",
       "      <td>13562.000000</td>\n",
       "      <td>13562.000000</td>\n",
       "      <td>13562.000000</td>\n",
       "      <td>13562.000000</td>\n",
       "      <td>13562.000000</td>\n",
       "      <td>13562.000000</td>\n",
       "      <td>13562.000000</td>\n",
       "      <td>13562.000000</td>\n",
       "      <td>13562.000000</td>\n",
       "      <td>13562.000000</td>\n",
       "      <td>13562.000000</td>\n",
       "      <td>13562.000000</td>\n",
       "      <td>13562.000000</td>\n",
       "      <td>13562.000000</td>\n",
       "      <td>13562.000000</td>\n",
       "      <td>13562.000000</td>\n",
       "      <td>13562.000000</td>\n",
       "    </tr>\n",
       "    <tr>\n",
       "      <td>mean</td>\n",
       "      <td>0.000374</td>\n",
       "      <td>8.736665</td>\n",
       "      <td>0.018527</td>\n",
       "      <td>0.000370</td>\n",
       "      <td>0.000400</td>\n",
       "      <td>0.000385</td>\n",
       "      <td>-1.101106e-07</td>\n",
       "      <td>4.999263e-10</td>\n",
       "      <td>-5.459740e-08</td>\n",
       "      <td>0.000379</td>\n",
       "      <td>0.000387</td>\n",
       "      <td>-9.477511e-08</td>\n",
       "      <td>-9.643120e-09</td>\n",
       "      <td>17.985580</td>\n",
       "      <td>11.538269</td>\n",
       "      <td>0.511211</td>\n",
       "      <td>0.265893</td>\n",
       "      <td>12.384139</td>\n",
       "      <td>483.760581</td>\n",
       "      <td>5.738814</td>\n",
       "      <td>1.291381</td>\n",
       "      <td>3.362969</td>\n",
       "      <td>-0.235695</td>\n",
       "      <td>116.094971</td>\n",
       "      <td>-1.426470</td>\n",
       "      <td>1.423317</td>\n",
       "      <td>-0.179177</td>\n",
       "      <td>60.396697</td>\n",
       "      <td>-0.887215</td>\n",
       "      <td>1.153465</td>\n",
       "      <td>0.614290</td>\n",
       "      <td>0.440274</td>\n",
       "    </tr>\n",
       "    <tr>\n",
       "      <td>std</td>\n",
       "      <td>0.000962</td>\n",
       "      <td>5.157826</td>\n",
       "      <td>0.048464</td>\n",
       "      <td>0.000952</td>\n",
       "      <td>0.001028</td>\n",
       "      <td>0.000990</td>\n",
       "      <td>4.455224e-07</td>\n",
       "      <td>2.236064e-07</td>\n",
       "      <td>2.107911e-07</td>\n",
       "      <td>0.000975</td>\n",
       "      <td>0.001000</td>\n",
       "      <td>3.198659e-07</td>\n",
       "      <td>7.064269e-08</td>\n",
       "      <td>6.331302</td>\n",
       "      <td>5.631111</td>\n",
       "      <td>0.269665</td>\n",
       "      <td>0.163142</td>\n",
       "      <td>30.131103</td>\n",
       "      <td>731.098935</td>\n",
       "      <td>13.987773</td>\n",
       "      <td>2.993101</td>\n",
       "      <td>2.113424</td>\n",
       "      <td>2.190512</td>\n",
       "      <td>224.325547</td>\n",
       "      <td>1.023047</td>\n",
       "      <td>1.295999</td>\n",
       "      <td>1.489315</td>\n",
       "      <td>116.914853</td>\n",
       "      <td>0.484092</td>\n",
       "      <td>1.146830</td>\n",
       "      <td>0.486781</td>\n",
       "      <td>0.496438</td>\n",
       "    </tr>\n",
       "    <tr>\n",
       "      <td>min</td>\n",
       "      <td>0.000002</td>\n",
       "      <td>4.000000</td>\n",
       "      <td>-0.515000</td>\n",
       "      <td>0.000002</td>\n",
       "      <td>0.000002</td>\n",
       "      <td>0.000002</td>\n",
       "      <td>-9.980000e-06</td>\n",
       "      <td>-1.008000e-05</td>\n",
       "      <td>-4.110000e-06</td>\n",
       "      <td>0.000002</td>\n",
       "      <td>0.000002</td>\n",
       "      <td>-6.850000e-06</td>\n",
       "      <td>-2.170000e-06</td>\n",
       "      <td>10.000000</td>\n",
       "      <td>3.330000</td>\n",
       "      <td>0.000000</td>\n",
       "      <td>0.000000</td>\n",
       "      <td>0.007000</td>\n",
       "      <td>2.000000</td>\n",
       "      <td>0.000400</td>\n",
       "      <td>0.000000</td>\n",
       "      <td>1.500000</td>\n",
       "      <td>-3.000000</td>\n",
       "      <td>1.000000</td>\n",
       "      <td>-2.500000</td>\n",
       "      <td>-5.020000</td>\n",
       "      <td>-1.500000</td>\n",
       "      <td>1.000000</td>\n",
       "      <td>-1.250000</td>\n",
       "      <td>-5.020000</td>\n",
       "      <td>0.000000</td>\n",
       "      <td>0.000000</td>\n",
       "    </tr>\n",
       "    <tr>\n",
       "      <td>25%</td>\n",
       "      <td>0.000011</td>\n",
       "      <td>5.421000</td>\n",
       "      <td>0.001000</td>\n",
       "      <td>0.000011</td>\n",
       "      <td>0.000011</td>\n",
       "      <td>0.000011</td>\n",
       "      <td>-6.000000e-08</td>\n",
       "      <td>0.000000e+00</td>\n",
       "      <td>-3.000000e-08</td>\n",
       "      <td>0.000011</td>\n",
       "      <td>0.000011</td>\n",
       "      <td>-5.000000e-08</td>\n",
       "      <td>-0.000000e+00</td>\n",
       "      <td>12.110000</td>\n",
       "      <td>6.940000</td>\n",
       "      <td>0.320000</td>\n",
       "      <td>0.150000</td>\n",
       "      <td>1.887000</td>\n",
       "      <td>140.000000</td>\n",
       "      <td>0.797400</td>\n",
       "      <td>0.271000</td>\n",
       "      <td>2.001000</td>\n",
       "      <td>-3.000000</td>\n",
       "      <td>20.000000</td>\n",
       "      <td>-2.500000</td>\n",
       "      <td>0.470000</td>\n",
       "      <td>-1.500000</td>\n",
       "      <td>11.000000</td>\n",
       "      <td>-1.250000</td>\n",
       "      <td>0.270000</td>\n",
       "      <td>0.000000</td>\n",
       "      <td>0.000000</td>\n",
       "    </tr>\n",
       "    <tr>\n",
       "      <td>50%</td>\n",
       "      <td>0.000050</td>\n",
       "      <td>7.250500</td>\n",
       "      <td>0.016000</td>\n",
       "      <td>0.000049</td>\n",
       "      <td>0.000054</td>\n",
       "      <td>0.000051</td>\n",
       "      <td>-1.000000e-08</td>\n",
       "      <td>0.000000e+00</td>\n",
       "      <td>-0.000000e+00</td>\n",
       "      <td>0.000051</td>\n",
       "      <td>0.000051</td>\n",
       "      <td>-1.000000e-08</td>\n",
       "      <td>-0.000000e+00</td>\n",
       "      <td>16.750000</td>\n",
       "      <td>10.550000</td>\n",
       "      <td>0.500000</td>\n",
       "      <td>0.240000</td>\n",
       "      <td>4.295500</td>\n",
       "      <td>266.000000</td>\n",
       "      <td>1.907893</td>\n",
       "      <td>0.678000</td>\n",
       "      <td>2.722500</td>\n",
       "      <td>1.500000</td>\n",
       "      <td>51.000000</td>\n",
       "      <td>-1.505000</td>\n",
       "      <td>1.510000</td>\n",
       "      <td>-1.500000</td>\n",
       "      <td>26.500000</td>\n",
       "      <td>-1.250000</td>\n",
       "      <td>0.970000</td>\n",
       "      <td>1.000000</td>\n",
       "      <td>0.000000</td>\n",
       "    </tr>\n",
       "    <tr>\n",
       "      <td>75%</td>\n",
       "      <td>0.000257</td>\n",
       "      <td>10.327750</td>\n",
       "      <td>0.034000</td>\n",
       "      <td>0.000254</td>\n",
       "      <td>0.000278</td>\n",
       "      <td>0.000266</td>\n",
       "      <td>-0.000000e+00</td>\n",
       "      <td>0.000000e+00</td>\n",
       "      <td>0.000000e+00</td>\n",
       "      <td>0.000261</td>\n",
       "      <td>0.000271</td>\n",
       "      <td>-0.000000e+00</td>\n",
       "      <td>0.000000e+00</td>\n",
       "      <td>23.357500</td>\n",
       "      <td>15.350000</td>\n",
       "      <td>0.690000</td>\n",
       "      <td>0.370000</td>\n",
       "      <td>10.649750</td>\n",
       "      <td>538.000000</td>\n",
       "      <td>4.820838</td>\n",
       "      <td>1.384000</td>\n",
       "      <td>4.015000</td>\n",
       "      <td>1.500000</td>\n",
       "      <td>126.000000</td>\n",
       "      <td>-0.380000</td>\n",
       "      <td>1.920000</td>\n",
       "      <td>1.500000</td>\n",
       "      <td>66.000000</td>\n",
       "      <td>-0.450000</td>\n",
       "      <td>1.720000</td>\n",
       "      <td>1.000000</td>\n",
       "      <td>1.000000</td>\n",
       "    </tr>\n",
       "    <tr>\n",
       "      <td>max</td>\n",
       "      <td>0.008671</td>\n",
       "      <td>86.989000</td>\n",
       "      <td>1.274000</td>\n",
       "      <td>0.008469</td>\n",
       "      <td>0.008904</td>\n",
       "      <td>0.008673</td>\n",
       "      <td>4.440000e-06</td>\n",
       "      <td>5.350000e-06</td>\n",
       "      <td>1.560000e-06</td>\n",
       "      <td>0.008670</td>\n",
       "      <td>0.008404</td>\n",
       "      <td>4.900000e-07</td>\n",
       "      <td>9.800000e-07</td>\n",
       "      <td>30.000000</td>\n",
       "      <td>29.900000</td>\n",
       "      <td>2.000000</td>\n",
       "      <td>0.670000</td>\n",
       "      <td>942.345000</td>\n",
       "      <td>18510.000000</td>\n",
       "      <td>369.195413</td>\n",
       "      <td>175.207000</td>\n",
       "      <td>35.896000</td>\n",
       "      <td>1.500000</td>\n",
       "      <td>5916.000000</td>\n",
       "      <td>0.830000</td>\n",
       "      <td>36.020000</td>\n",
       "      <td>1.500000</td>\n",
       "      <td>3498.000000</td>\n",
       "      <td>0.830000</td>\n",
       "      <td>33.920000</td>\n",
       "      <td>1.000000</td>\n",
       "      <td>1.000000</td>\n",
       "    </tr>\n",
       "  </tbody>\n",
       "</table>\n",
       "</div>"
      ],
      "text/plain": [
       "              price       ranging     d_ranging         lower         upper  \\\n",
       "count  13562.000000  13562.000000  13562.000000  13562.000000  13562.000000   \n",
       "mean       0.000374      8.736665      0.018527      0.000370      0.000400   \n",
       "std        0.000962      5.157826      0.048464      0.000952      0.001028   \n",
       "min        0.000002      4.000000     -0.515000      0.000002      0.000002   \n",
       "25%        0.000011      5.421000      0.001000      0.000011      0.000011   \n",
       "50%        0.000050      7.250500      0.016000      0.000049      0.000054   \n",
       "75%        0.000257     10.327750      0.034000      0.000254      0.000278   \n",
       "max        0.008671     86.989000      1.274000      0.008469      0.008904   \n",
       "\n",
       "             middle       d_lower       d_upper      d_middle        ema_10  \\\n",
       "count  13562.000000  1.356200e+04  1.356200e+04  1.356200e+04  13562.000000   \n",
       "mean       0.000385 -1.101106e-07  4.999263e-10 -5.459740e-08      0.000379   \n",
       "std        0.000990  4.455224e-07  2.236064e-07  2.107911e-07      0.000975   \n",
       "min        0.000002 -9.980000e-06 -1.008000e-05 -4.110000e-06      0.000002   \n",
       "25%        0.000011 -6.000000e-08  0.000000e+00 -3.000000e-08      0.000011   \n",
       "50%        0.000051 -1.000000e-08  0.000000e+00 -0.000000e+00      0.000051   \n",
       "75%        0.000266 -0.000000e+00  0.000000e+00  0.000000e+00      0.000261   \n",
       "max        0.008673  4.440000e-06  5.350000e-06  1.560000e-06      0.008670   \n",
       "\n",
       "            ema_200      d_ema_10     d_ema_200          k_15          d_15  \\\n",
       "count  13562.000000  1.356200e+04  1.356200e+04  13562.000000  13562.000000   \n",
       "mean       0.000387 -9.477511e-08 -9.643120e-09     17.985580     11.538269   \n",
       "std        0.001000  3.198659e-07  7.064269e-08      6.331302      5.631111   \n",
       "min        0.000002 -6.850000e-06 -2.170000e-06     10.000000      3.330000   \n",
       "25%        0.000011 -5.000000e-08 -0.000000e+00     12.110000      6.940000   \n",
       "50%        0.000051 -1.000000e-08 -0.000000e+00     16.750000     10.550000   \n",
       "75%        0.000271 -0.000000e+00  0.000000e+00     23.357500     15.350000   \n",
       "max        0.008404  4.900000e-07  9.800000e-07     30.000000     29.900000   \n",
       "\n",
       "             d_k_15        d_d_15        volume       ntrades     tb_volume  \\\n",
       "count  13562.000000  13562.000000  13562.000000  13562.000000  13562.000000   \n",
       "mean       0.511211      0.265893     12.384139    483.760581      5.738814   \n",
       "std        0.269665      0.163142     30.131103    731.098935     13.987773   \n",
       "min        0.000000      0.000000      0.007000      2.000000      0.000400   \n",
       "25%        0.320000      0.150000      1.887000    140.000000      0.797400   \n",
       "50%        0.500000      0.240000      4.295500    266.000000      1.907893   \n",
       "75%        0.690000      0.370000     10.649750    538.000000      4.820838   \n",
       "max        2.000000      0.670000    942.345000  18510.000000    369.195413   \n",
       "\n",
       "            vol_inc    dist_to_BB        profit       elapsed     min_price  \\\n",
       "count  13562.000000  13562.000000  13562.000000  13562.000000  13562.000000   \n",
       "mean       1.291381      3.362969     -0.235695    116.094971     -1.426470   \n",
       "std        2.993101      2.113424      2.190512    224.325547      1.023047   \n",
       "min        0.000000      1.500000     -3.000000      1.000000     -2.500000   \n",
       "25%        0.271000      2.001000     -3.000000     20.000000     -2.500000   \n",
       "50%        0.678000      2.722500      1.500000     51.000000     -1.505000   \n",
       "75%        1.384000      4.015000      1.500000    126.000000     -0.380000   \n",
       "max      175.207000     35.896000      1.500000   5916.000000      0.830000   \n",
       "\n",
       "          max_price    profit_s15   elapsed_s15  min_price_s15  max_price_s15  \\\n",
       "count  13562.000000  13562.000000  13562.000000   13562.000000   13562.000000   \n",
       "mean       1.423317     -0.179177     60.396697      -0.887215       1.153465   \n",
       "std        1.295999      1.489315    116.914853       0.484092       1.146830   \n",
       "min       -5.020000     -1.500000      1.000000      -1.250000      -5.020000   \n",
       "25%        0.470000     -1.500000     11.000000      -1.250000       0.270000   \n",
       "50%        1.510000     -1.500000     26.500000      -1.250000       0.970000   \n",
       "75%        1.920000      1.500000     66.000000      -0.450000       1.720000   \n",
       "max       36.020000      1.500000   3498.000000       0.830000      33.920000   \n",
       "\n",
       "       profitability  profitability_s15  \n",
       "count   13562.000000       13562.000000  \n",
       "mean        0.614290           0.440274  \n",
       "std         0.486781           0.496438  \n",
       "min         0.000000           0.000000  \n",
       "25%         0.000000           0.000000  \n",
       "50%         1.000000           0.000000  \n",
       "75%         1.000000           1.000000  \n",
       "max         1.000000           1.000000  "
      ]
     },
     "execution_count": 42,
     "metadata": {},
     "output_type": "execute_result"
    }
   ],
   "source": [
    "trades_df.describe()"
   ]
  },
  {
   "cell_type": "markdown",
   "metadata": {},
   "source": [
    "### Now we start preparing the dataset to train a model using various Machine Learning methods"
   ]
  },
  {
   "cell_type": "markdown",
   "metadata": {},
   "source": [
    "1. Features:"
   ]
  },
  {
   "cell_type": "code",
   "execution_count": 43,
   "metadata": {},
   "outputs": [],
   "source": [
    "X = trades_df.drop(['symbol','profit',\n",
    "                    'stoch_cond_5','vol_inc',\n",
    "       'elapsed', 'min_price', 'max_price', 'profit_s15', 'elapsed_s15',\n",
    "       'min_price_s15', 'max_price_s15',  'profitability',\n",
    "       'profitability_s15'], axis=1)\n",
    "\n",
    "# For the 1st trial, let us also drop all categorical variables:\n",
    "# X = trades_df.drop(['time_curr','profit',\n",
    "#                     'pattern','origin','symbol','stoch_cond_5','candle_color',\n",
    "#        'elapsed', 'min_price', 'max_price', 'profit_s15', 'elapsed_s15',\n",
    "#        'min_price_s15', 'max_price_s15',  'profitability',\n",
    "#        'profitability_s15'], axis=1)"
   ]
  },
  {
   "cell_type": "code",
   "execution_count": 44,
   "metadata": {},
   "outputs": [],
   "source": [
    "#X['stoch_cond_5'] = X['stoch_cond_5'].astype('str')"
   ]
  },
  {
   "cell_type": "code",
   "execution_count": 45,
   "metadata": {},
   "outputs": [],
   "source": [
    "### Looks like features from timestamps don't help\n",
    "# X['day'] = X.time_curr.dt.day.astype('uint8')\n",
    "# X['hour'] = X.time_curr.dt.hour.astype('uint8')\n",
    "# X['minute'] = X.time_curr.dt.minute.astype('uint8')"
   ]
  },
  {
   "cell_type": "code",
   "execution_count": 46,
   "metadata": {},
   "outputs": [],
   "source": [
    "X.drop(['time_curr'], axis=1, inplace=True)"
   ]
  },
  {
   "cell_type": "code",
   "execution_count": 47,
   "metadata": {},
   "outputs": [
    {
     "data": {
      "text/plain": [
       "Index(['price', 'pattern', 'origin', 'ranging', 'd_ranging', 'lower', 'upper',\n",
       "       'middle', 'd_lower', 'd_upper', 'd_middle', 'ema_10', 'ema_200',\n",
       "       'd_ema_10', 'd_ema_200', 'k_15', 'd_15', 'd_k_15', 'd_d_15',\n",
       "       'candle_color', 'volume', 'ntrades', 'tb_volume', 'dist_to_BB'],\n",
       "      dtype='object')"
      ]
     },
     "execution_count": 47,
     "metadata": {},
     "output_type": "execute_result"
    }
   ],
   "source": [
    "X.columns"
   ]
  },
  {
   "cell_type": "code",
   "execution_count": 48,
   "metadata": {},
   "outputs": [],
   "source": [
    "# Let's try to drop all prices and keep only the slopes and percentages: (No!)\n",
    "## X = X.drop(['price', 'lower', 'upper', 'middle', 'ema_10'], axis=1)"
   ]
  },
  {
   "cell_type": "code",
   "execution_count": 49,
   "metadata": {},
   "outputs": [],
   "source": [
    "#for col in ['d_lower', 'd_upper', 'd_middle', 'd_ema_10', 'd_ema_200' ]: X[col] = X[col]*100000\n",
    "# Now try to scale the price to 1 satoshi:\n",
    "for col in ['price','lower','upper','middle','d_lower', 'd_upper', 'd_middle',\n",
    "            'ema_10', 'ema_200','d_ema_10', 'd_ema_200' ]: X[col] = X[col]*1e5"
   ]
  },
  {
   "cell_type": "code",
   "execution_count": 50,
   "metadata": {},
   "outputs": [
    {
     "data": {
      "text/html": [
       "<div>\n",
       "<style scoped>\n",
       "    .dataframe tbody tr th:only-of-type {\n",
       "        vertical-align: middle;\n",
       "    }\n",
       "\n",
       "    .dataframe tbody tr th {\n",
       "        vertical-align: top;\n",
       "    }\n",
       "\n",
       "    .dataframe thead th {\n",
       "        text-align: right;\n",
       "    }\n",
       "</style>\n",
       "<table border=\"1\" class=\"dataframe\">\n",
       "  <thead>\n",
       "    <tr style=\"text-align: right;\">\n",
       "      <th></th>\n",
       "      <th>price</th>\n",
       "      <th>pattern</th>\n",
       "      <th>origin</th>\n",
       "      <th>ranging</th>\n",
       "      <th>d_ranging</th>\n",
       "      <th>lower</th>\n",
       "      <th>upper</th>\n",
       "      <th>middle</th>\n",
       "      <th>d_lower</th>\n",
       "      <th>d_upper</th>\n",
       "      <th>d_middle</th>\n",
       "      <th>ema_10</th>\n",
       "      <th>ema_200</th>\n",
       "      <th>d_ema_10</th>\n",
       "      <th>d_ema_200</th>\n",
       "      <th>k_15</th>\n",
       "      <th>d_15</th>\n",
       "      <th>d_k_15</th>\n",
       "      <th>d_d_15</th>\n",
       "      <th>candle_color</th>\n",
       "      <th>volume</th>\n",
       "      <th>ntrades</th>\n",
       "      <th>tb_volume</th>\n",
       "      <th>dist_to_BB</th>\n",
       "    </tr>\n",
       "  </thead>\n",
       "  <tbody>\n",
       "    <tr>\n",
       "      <td>11666</td>\n",
       "      <td>2.241</td>\n",
       "      <td>no</td>\n",
       "      <td>lower</td>\n",
       "      <td>5.444</td>\n",
       "      <td>0.011</td>\n",
       "      <td>2.226</td>\n",
       "      <td>2.343</td>\n",
       "      <td>2.284</td>\n",
       "      <td>-0.001</td>\n",
       "      <td>-0.0</td>\n",
       "      <td>-0.0</td>\n",
       "      <td>2.263</td>\n",
       "      <td>2.403</td>\n",
       "      <td>-0.001</td>\n",
       "      <td>-0.0</td>\n",
       "      <td>20.38</td>\n",
       "      <td>17.00</td>\n",
       "      <td>0.50</td>\n",
       "      <td>0.02</td>\n",
       "      <td>red</td>\n",
       "      <td>3.301</td>\n",
       "      <td>448</td>\n",
       "      <td>1.313038</td>\n",
       "      <td>1.932</td>\n",
       "    </tr>\n",
       "    <tr>\n",
       "      <td>11668</td>\n",
       "      <td>2.237</td>\n",
       "      <td>no</td>\n",
       "      <td>lower</td>\n",
       "      <td>5.599</td>\n",
       "      <td>0.010</td>\n",
       "      <td>2.220</td>\n",
       "      <td>2.340</td>\n",
       "      <td>2.280</td>\n",
       "      <td>-0.000</td>\n",
       "      <td>-0.0</td>\n",
       "      <td>-0.0</td>\n",
       "      <td>2.258</td>\n",
       "      <td>2.401</td>\n",
       "      <td>-0.000</td>\n",
       "      <td>-0.0</td>\n",
       "      <td>18.06</td>\n",
       "      <td>14.85</td>\n",
       "      <td>0.30</td>\n",
       "      <td>0.01</td>\n",
       "      <td>green</td>\n",
       "      <td>3.713</td>\n",
       "      <td>351</td>\n",
       "      <td>1.619265</td>\n",
       "      <td>1.924</td>\n",
       "    </tr>\n",
       "    <tr>\n",
       "      <td>10180</td>\n",
       "      <td>4.023</td>\n",
       "      <td>no</td>\n",
       "      <td>upper</td>\n",
       "      <td>4.460</td>\n",
       "      <td>-0.014</td>\n",
       "      <td>3.926</td>\n",
       "      <td>4.110</td>\n",
       "      <td>4.018</td>\n",
       "      <td>0.001</td>\n",
       "      <td>-0.0</td>\n",
       "      <td>0.0</td>\n",
       "      <td>4.025</td>\n",
       "      <td>3.799</td>\n",
       "      <td>-0.000</td>\n",
       "      <td>0.0</td>\n",
       "      <td>18.73</td>\n",
       "      <td>15.32</td>\n",
       "      <td>0.22</td>\n",
       "      <td>0.31</td>\n",
       "      <td>red</td>\n",
       "      <td>6.100</td>\n",
       "      <td>202</td>\n",
       "      <td>1.633603</td>\n",
       "      <td>2.150</td>\n",
       "    </tr>\n",
       "    <tr>\n",
       "      <td>405</td>\n",
       "      <td>4.023</td>\n",
       "      <td>no</td>\n",
       "      <td>upper</td>\n",
       "      <td>4.460</td>\n",
       "      <td>-0.014</td>\n",
       "      <td>3.926</td>\n",
       "      <td>4.110</td>\n",
       "      <td>4.018</td>\n",
       "      <td>0.001</td>\n",
       "      <td>-0.0</td>\n",
       "      <td>0.0</td>\n",
       "      <td>4.025</td>\n",
       "      <td>3.799</td>\n",
       "      <td>-0.000</td>\n",
       "      <td>0.0</td>\n",
       "      <td>18.73</td>\n",
       "      <td>15.32</td>\n",
       "      <td>0.22</td>\n",
       "      <td>0.31</td>\n",
       "      <td>red</td>\n",
       "      <td>6.100</td>\n",
       "      <td>202</td>\n",
       "      <td>1.633603</td>\n",
       "      <td>2.150</td>\n",
       "    </tr>\n",
       "    <tr>\n",
       "      <td>11670</td>\n",
       "      <td>2.209</td>\n",
       "      <td>Doji</td>\n",
       "      <td>lower</td>\n",
       "      <td>5.350</td>\n",
       "      <td>0.011</td>\n",
       "      <td>2.191</td>\n",
       "      <td>2.304</td>\n",
       "      <td>2.248</td>\n",
       "      <td>-0.000</td>\n",
       "      <td>-0.0</td>\n",
       "      <td>-0.0</td>\n",
       "      <td>2.222</td>\n",
       "      <td>2.390</td>\n",
       "      <td>-0.000</td>\n",
       "      <td>-0.0</td>\n",
       "      <td>11.53</td>\n",
       "      <td>4.81</td>\n",
       "      <td>0.64</td>\n",
       "      <td>0.21</td>\n",
       "      <td>green</td>\n",
       "      <td>1.096</td>\n",
       "      <td>78</td>\n",
       "      <td>0.508115</td>\n",
       "      <td>1.752</td>\n",
       "    </tr>\n",
       "  </tbody>\n",
       "</table>\n",
       "</div>"
      ],
      "text/plain": [
       "       price pattern origin  ranging  d_ranging  lower  upper  middle  \\\n",
       "11666  2.241      no  lower    5.444      0.011  2.226  2.343   2.284   \n",
       "11668  2.237      no  lower    5.599      0.010  2.220  2.340   2.280   \n",
       "10180  4.023      no  upper    4.460     -0.014  3.926  4.110   4.018   \n",
       "405    4.023      no  upper    4.460     -0.014  3.926  4.110   4.018   \n",
       "11670  2.209    Doji  lower    5.350      0.011  2.191  2.304   2.248   \n",
       "\n",
       "       d_lower  d_upper  d_middle  ema_10  ema_200  d_ema_10  d_ema_200  \\\n",
       "11666   -0.001     -0.0      -0.0   2.263    2.403    -0.001       -0.0   \n",
       "11668   -0.000     -0.0      -0.0   2.258    2.401    -0.000       -0.0   \n",
       "10180    0.001     -0.0       0.0   4.025    3.799    -0.000        0.0   \n",
       "405      0.001     -0.0       0.0   4.025    3.799    -0.000        0.0   \n",
       "11670   -0.000     -0.0      -0.0   2.222    2.390    -0.000       -0.0   \n",
       "\n",
       "        k_15   d_15  d_k_15  d_d_15 candle_color  volume  ntrades  tb_volume  \\\n",
       "11666  20.38  17.00    0.50    0.02          red   3.301      448   1.313038   \n",
       "11668  18.06  14.85    0.30    0.01        green   3.713      351   1.619265   \n",
       "10180  18.73  15.32    0.22    0.31          red   6.100      202   1.633603   \n",
       "405    18.73  15.32    0.22    0.31          red   6.100      202   1.633603   \n",
       "11670  11.53   4.81    0.64    0.21        green   1.096       78   0.508115   \n",
       "\n",
       "       dist_to_BB  \n",
       "11666       1.932  \n",
       "11668       1.924  \n",
       "10180       2.150  \n",
       "405         2.150  \n",
       "11670       1.752  "
      ]
     },
     "execution_count": 50,
     "metadata": {},
     "output_type": "execute_result"
    }
   ],
   "source": [
    "X.head()"
   ]
  },
  {
   "cell_type": "markdown",
   "metadata": {},
   "source": [
    "2. Target:"
   ]
  },
  {
   "cell_type": "markdown",
   "metadata": {},
   "source": [
    "Here we predict whether the trade is going to be profitable or not."
   ]
  },
  {
   "cell_type": "code",
   "execution_count": 51,
   "metadata": {},
   "outputs": [],
   "source": [
    "y = trades_df.profitability_s15\n",
    "# what if we predict profitability for stop loss 0.3?\n",
    "#y = trades_df.profitability"
   ]
  },
  {
   "cell_type": "code",
   "execution_count": 52,
   "metadata": {},
   "outputs": [
    {
     "data": {
      "text/plain": [
       "11666    0\n",
       "11668    0\n",
       "10180    0\n",
       "405      0\n",
       "11670    0\n",
       "        ..\n",
       "13351    0\n",
       "14084    1\n",
       "13837    1\n",
       "13792    0\n",
       "14113    1\n",
       "Name: profitability_s15, Length: 13562, dtype: int64"
      ]
     },
     "execution_count": 52,
     "metadata": {},
     "output_type": "execute_result"
    }
   ],
   "source": [
    "y"
   ]
  },
  {
   "cell_type": "code",
   "execution_count": 53,
   "metadata": {},
   "outputs": [],
   "source": [
    "#test_size = 2000\n",
    "\n",
    "# Make sure that there are no new symbols in the test dataset\n",
    "\n",
    "# for item_val in X.symbol.tail(test_size).unique():\n",
    "#     if item_val not in X.symbol.iloc[:-test_size].unique(): print(item_val)\n",
    "\n",
    "    \n",
    "    "
   ]
  },
  {
   "cell_type": "code",
   "execution_count": 54,
   "metadata": {},
   "outputs": [],
   "source": [
    "# X = X[X.symbol != 'UMABTC']\n",
    "# y = y[X.symbol != 'UMABTC']"
   ]
  },
  {
   "cell_type": "code",
   "execution_count": 55,
   "metadata": {},
   "outputs": [],
   "source": [
    "\n",
    "# for item_val in X.symbol.tail(test_size).unique():\n",
    "#     if item_val not in X.symbol.iloc[:-test_size].unique(): print(item_val)\n",
    "\n",
    " "
   ]
  },
  {
   "cell_type": "markdown",
   "metadata": {},
   "source": [
    "### Train and test split"
   ]
  },
  {
   "cell_type": "code",
   "execution_count": 56,
   "metadata": {},
   "outputs": [],
   "source": [
    "# Random split\n",
    "#X_train, X_val, y_train, y_val = train_test_split(X, y, test_size=0.1, random_state=101)\n",
    "\n",
    "# More realistic split is where we choose the latest deals as test data. Remove last rows:\n",
    "#test_size = 2000\n",
    "test_size = 1000\n",
    "# Remove last rows from the dataset\n",
    "X_train, y_train = X.iloc[:-test_size], y.iloc[:-test_size]\n",
    "X_val, y_val = X.tail(test_size), y.tail(test_size)"
   ]
  },
  {
   "cell_type": "markdown",
   "metadata": {},
   "source": [
    "### Categorical encoding"
   ]
  },
  {
   "cell_type": "markdown",
   "metadata": {},
   "source": [
    "3. Now it's time to make cathegorical encodings (or wait, let's do it later!) :-)"
   ]
  },
  {
   "cell_type": "code",
   "execution_count": 57,
   "metadata": {},
   "outputs": [],
   "source": [
    "# from sklearn.preprocessing import LabelEncoder\n",
    "# label_encoder = LabelEncoder()"
   ]
  },
  {
   "cell_type": "code",
   "execution_count": 58,
   "metadata": {},
   "outputs": [],
   "source": [
    "# categorical = ['pattern', 'origin', 'stoch_cond_5', 'candle_color']\n",
    "# label = ['symbol']"
   ]
  },
  {
   "cell_type": "code",
   "execution_count": 59,
   "metadata": {},
   "outputs": [],
   "source": [
    "# for col in label:\n",
    "#     X_train[col] = label_encoder.fit_transform(X_train[col])\n",
    "#     X_val[col] = label_encoder.transform(X_val[col])"
   ]
  },
  {
   "cell_type": "code",
   "execution_count": 60,
   "metadata": {},
   "outputs": [],
   "source": [
    "# For now go with the simplest One-Hot encoding provided by pandas:\n",
    "X_train, X_val = pd.get_dummies(X_train), pd.get_dummies(X_val)"
   ]
  },
  {
   "cell_type": "code",
   "execution_count": 61,
   "metadata": {},
   "outputs": [],
   "source": [
    "#X_train, X_val = preprocessing.scale(X_train), preprocessing.scale(X_val)"
   ]
  },
  {
   "cell_type": "code",
   "execution_count": 62,
   "metadata": {},
   "outputs": [
    {
     "data": {
      "text/html": [
       "<div>\n",
       "<style scoped>\n",
       "    .dataframe tbody tr th:only-of-type {\n",
       "        vertical-align: middle;\n",
       "    }\n",
       "\n",
       "    .dataframe tbody tr th {\n",
       "        vertical-align: top;\n",
       "    }\n",
       "\n",
       "    .dataframe thead th {\n",
       "        text-align: right;\n",
       "    }\n",
       "</style>\n",
       "<table border=\"1\" class=\"dataframe\">\n",
       "  <thead>\n",
       "    <tr style=\"text-align: right;\">\n",
       "      <th></th>\n",
       "      <th>price</th>\n",
       "      <th>ranging</th>\n",
       "      <th>d_ranging</th>\n",
       "      <th>lower</th>\n",
       "      <th>upper</th>\n",
       "      <th>middle</th>\n",
       "      <th>d_lower</th>\n",
       "      <th>d_upper</th>\n",
       "      <th>d_middle</th>\n",
       "      <th>ema_10</th>\n",
       "      <th>ema_200</th>\n",
       "      <th>d_ema_10</th>\n",
       "      <th>d_ema_200</th>\n",
       "      <th>k_15</th>\n",
       "      <th>d_15</th>\n",
       "      <th>d_k_15</th>\n",
       "      <th>d_d_15</th>\n",
       "      <th>volume</th>\n",
       "      <th>ntrades</th>\n",
       "      <th>tb_volume</th>\n",
       "      <th>dist_to_BB</th>\n",
       "      <th>pattern_Bullish eng.</th>\n",
       "      <th>pattern_Doji</th>\n",
       "      <th>pattern_Hammer</th>\n",
       "      <th>pattern_Harami</th>\n",
       "      <th>pattern_no</th>\n",
       "      <th>origin_lower</th>\n",
       "      <th>origin_upper</th>\n",
       "      <th>candle_color_green</th>\n",
       "      <th>candle_color_red</th>\n",
       "    </tr>\n",
       "  </thead>\n",
       "  <tbody>\n",
       "    <tr>\n",
       "      <td>11666</td>\n",
       "      <td>2.241</td>\n",
       "      <td>5.444</td>\n",
       "      <td>0.011</td>\n",
       "      <td>2.226</td>\n",
       "      <td>2.343</td>\n",
       "      <td>2.284</td>\n",
       "      <td>-0.001</td>\n",
       "      <td>-0.000</td>\n",
       "      <td>-0.000</td>\n",
       "      <td>2.263</td>\n",
       "      <td>2.403</td>\n",
       "      <td>-0.001</td>\n",
       "      <td>-0.000</td>\n",
       "      <td>20.38</td>\n",
       "      <td>17.00</td>\n",
       "      <td>0.50</td>\n",
       "      <td>0.02</td>\n",
       "      <td>3.301</td>\n",
       "      <td>448</td>\n",
       "      <td>1.313038</td>\n",
       "      <td>1.932</td>\n",
       "      <td>0</td>\n",
       "      <td>0</td>\n",
       "      <td>0</td>\n",
       "      <td>0</td>\n",
       "      <td>1</td>\n",
       "      <td>1</td>\n",
       "      <td>0</td>\n",
       "      <td>0</td>\n",
       "      <td>1</td>\n",
       "    </tr>\n",
       "    <tr>\n",
       "      <td>11668</td>\n",
       "      <td>2.237</td>\n",
       "      <td>5.599</td>\n",
       "      <td>0.010</td>\n",
       "      <td>2.220</td>\n",
       "      <td>2.340</td>\n",
       "      <td>2.280</td>\n",
       "      <td>-0.000</td>\n",
       "      <td>-0.000</td>\n",
       "      <td>-0.000</td>\n",
       "      <td>2.258</td>\n",
       "      <td>2.401</td>\n",
       "      <td>-0.000</td>\n",
       "      <td>-0.000</td>\n",
       "      <td>18.06</td>\n",
       "      <td>14.85</td>\n",
       "      <td>0.30</td>\n",
       "      <td>0.01</td>\n",
       "      <td>3.713</td>\n",
       "      <td>351</td>\n",
       "      <td>1.619265</td>\n",
       "      <td>1.924</td>\n",
       "      <td>0</td>\n",
       "      <td>0</td>\n",
       "      <td>0</td>\n",
       "      <td>0</td>\n",
       "      <td>1</td>\n",
       "      <td>1</td>\n",
       "      <td>0</td>\n",
       "      <td>1</td>\n",
       "      <td>0</td>\n",
       "    </tr>\n",
       "    <tr>\n",
       "      <td>10180</td>\n",
       "      <td>4.023</td>\n",
       "      <td>4.460</td>\n",
       "      <td>-0.014</td>\n",
       "      <td>3.926</td>\n",
       "      <td>4.110</td>\n",
       "      <td>4.018</td>\n",
       "      <td>0.001</td>\n",
       "      <td>-0.000</td>\n",
       "      <td>0.000</td>\n",
       "      <td>4.025</td>\n",
       "      <td>3.799</td>\n",
       "      <td>-0.000</td>\n",
       "      <td>0.000</td>\n",
       "      <td>18.73</td>\n",
       "      <td>15.32</td>\n",
       "      <td>0.22</td>\n",
       "      <td>0.31</td>\n",
       "      <td>6.100</td>\n",
       "      <td>202</td>\n",
       "      <td>1.633603</td>\n",
       "      <td>2.150</td>\n",
       "      <td>0</td>\n",
       "      <td>0</td>\n",
       "      <td>0</td>\n",
       "      <td>0</td>\n",
       "      <td>1</td>\n",
       "      <td>0</td>\n",
       "      <td>1</td>\n",
       "      <td>0</td>\n",
       "      <td>1</td>\n",
       "    </tr>\n",
       "    <tr>\n",
       "      <td>405</td>\n",
       "      <td>4.023</td>\n",
       "      <td>4.460</td>\n",
       "      <td>-0.014</td>\n",
       "      <td>3.926</td>\n",
       "      <td>4.110</td>\n",
       "      <td>4.018</td>\n",
       "      <td>0.001</td>\n",
       "      <td>-0.000</td>\n",
       "      <td>0.000</td>\n",
       "      <td>4.025</td>\n",
       "      <td>3.799</td>\n",
       "      <td>-0.000</td>\n",
       "      <td>0.000</td>\n",
       "      <td>18.73</td>\n",
       "      <td>15.32</td>\n",
       "      <td>0.22</td>\n",
       "      <td>0.31</td>\n",
       "      <td>6.100</td>\n",
       "      <td>202</td>\n",
       "      <td>1.633603</td>\n",
       "      <td>2.150</td>\n",
       "      <td>0</td>\n",
       "      <td>0</td>\n",
       "      <td>0</td>\n",
       "      <td>0</td>\n",
       "      <td>1</td>\n",
       "      <td>0</td>\n",
       "      <td>1</td>\n",
       "      <td>0</td>\n",
       "      <td>1</td>\n",
       "    </tr>\n",
       "    <tr>\n",
       "      <td>11670</td>\n",
       "      <td>2.209</td>\n",
       "      <td>5.350</td>\n",
       "      <td>0.011</td>\n",
       "      <td>2.191</td>\n",
       "      <td>2.304</td>\n",
       "      <td>2.248</td>\n",
       "      <td>-0.000</td>\n",
       "      <td>-0.000</td>\n",
       "      <td>-0.000</td>\n",
       "      <td>2.222</td>\n",
       "      <td>2.390</td>\n",
       "      <td>-0.000</td>\n",
       "      <td>-0.000</td>\n",
       "      <td>11.53</td>\n",
       "      <td>4.81</td>\n",
       "      <td>0.64</td>\n",
       "      <td>0.21</td>\n",
       "      <td>1.096</td>\n",
       "      <td>78</td>\n",
       "      <td>0.508115</td>\n",
       "      <td>1.752</td>\n",
       "      <td>0</td>\n",
       "      <td>1</td>\n",
       "      <td>0</td>\n",
       "      <td>0</td>\n",
       "      <td>0</td>\n",
       "      <td>1</td>\n",
       "      <td>0</td>\n",
       "      <td>1</td>\n",
       "      <td>0</td>\n",
       "    </tr>\n",
       "    <tr>\n",
       "      <td>...</td>\n",
       "      <td>...</td>\n",
       "      <td>...</td>\n",
       "      <td>...</td>\n",
       "      <td>...</td>\n",
       "      <td>...</td>\n",
       "      <td>...</td>\n",
       "      <td>...</td>\n",
       "      <td>...</td>\n",
       "      <td>...</td>\n",
       "      <td>...</td>\n",
       "      <td>...</td>\n",
       "      <td>...</td>\n",
       "      <td>...</td>\n",
       "      <td>...</td>\n",
       "      <td>...</td>\n",
       "      <td>...</td>\n",
       "      <td>...</td>\n",
       "      <td>...</td>\n",
       "      <td>...</td>\n",
       "      <td>...</td>\n",
       "      <td>...</td>\n",
       "      <td>...</td>\n",
       "      <td>...</td>\n",
       "      <td>...</td>\n",
       "      <td>...</td>\n",
       "      <td>...</td>\n",
       "      <td>...</td>\n",
       "      <td>...</td>\n",
       "      <td>...</td>\n",
       "      <td>...</td>\n",
       "    </tr>\n",
       "    <tr>\n",
       "      <td>4790</td>\n",
       "      <td>11.290</td>\n",
       "      <td>7.350</td>\n",
       "      <td>0.023</td>\n",
       "      <td>11.246</td>\n",
       "      <td>12.033</td>\n",
       "      <td>11.640</td>\n",
       "      <td>-0.003</td>\n",
       "      <td>0.000</td>\n",
       "      <td>-0.002</td>\n",
       "      <td>11.460</td>\n",
       "      <td>11.884</td>\n",
       "      <td>-0.002</td>\n",
       "      <td>-0.000</td>\n",
       "      <td>29.76</td>\n",
       "      <td>20.15</td>\n",
       "      <td>0.63</td>\n",
       "      <td>0.66</td>\n",
       "      <td>3.171</td>\n",
       "      <td>157</td>\n",
       "      <td>1.676242</td>\n",
       "      <td>3.096</td>\n",
       "      <td>0</td>\n",
       "      <td>1</td>\n",
       "      <td>0</td>\n",
       "      <td>0</td>\n",
       "      <td>0</td>\n",
       "      <td>1</td>\n",
       "      <td>0</td>\n",
       "      <td>1</td>\n",
       "      <td>0</td>\n",
       "    </tr>\n",
       "    <tr>\n",
       "      <td>1625</td>\n",
       "      <td>2.109</td>\n",
       "      <td>5.842</td>\n",
       "      <td>0.015</td>\n",
       "      <td>2.094</td>\n",
       "      <td>2.212</td>\n",
       "      <td>2.153</td>\n",
       "      <td>-0.001</td>\n",
       "      <td>0.000</td>\n",
       "      <td>-0.000</td>\n",
       "      <td>2.127</td>\n",
       "      <td>2.192</td>\n",
       "      <td>-0.000</td>\n",
       "      <td>-0.000</td>\n",
       "      <td>10.99</td>\n",
       "      <td>5.99</td>\n",
       "      <td>0.43</td>\n",
       "      <td>0.24</td>\n",
       "      <td>5.559</td>\n",
       "      <td>166</td>\n",
       "      <td>1.601865</td>\n",
       "      <td>2.082</td>\n",
       "      <td>0</td>\n",
       "      <td>0</td>\n",
       "      <td>1</td>\n",
       "      <td>0</td>\n",
       "      <td>0</td>\n",
       "      <td>1</td>\n",
       "      <td>0</td>\n",
       "      <td>0</td>\n",
       "      <td>1</td>\n",
       "    </tr>\n",
       "    <tr>\n",
       "      <td>1925</td>\n",
       "      <td>5.127</td>\n",
       "      <td>10.096</td>\n",
       "      <td>0.005</td>\n",
       "      <td>5.054</td>\n",
       "      <td>5.560</td>\n",
       "      <td>5.307</td>\n",
       "      <td>-0.002</td>\n",
       "      <td>-0.001</td>\n",
       "      <td>-0.001</td>\n",
       "      <td>5.190</td>\n",
       "      <td>5.144</td>\n",
       "      <td>-0.002</td>\n",
       "      <td>-0.000</td>\n",
       "      <td>10.04</td>\n",
       "      <td>4.35</td>\n",
       "      <td>0.54</td>\n",
       "      <td>0.22</td>\n",
       "      <td>5.989</td>\n",
       "      <td>228</td>\n",
       "      <td>2.098160</td>\n",
       "      <td>3.513</td>\n",
       "      <td>0</td>\n",
       "      <td>0</td>\n",
       "      <td>0</td>\n",
       "      <td>0</td>\n",
       "      <td>1</td>\n",
       "      <td>1</td>\n",
       "      <td>0</td>\n",
       "      <td>0</td>\n",
       "      <td>1</td>\n",
       "    </tr>\n",
       "    <tr>\n",
       "      <td>3130</td>\n",
       "      <td>20.029</td>\n",
       "      <td>13.075</td>\n",
       "      <td>0.040</td>\n",
       "      <td>19.659</td>\n",
       "      <td>22.112</td>\n",
       "      <td>20.886</td>\n",
       "      <td>-0.011</td>\n",
       "      <td>0.003</td>\n",
       "      <td>-0.004</td>\n",
       "      <td>20.344</td>\n",
       "      <td>21.145</td>\n",
       "      <td>-0.008</td>\n",
       "      <td>-0.001</td>\n",
       "      <td>10.65</td>\n",
       "      <td>5.16</td>\n",
       "      <td>0.51</td>\n",
       "      <td>0.24</td>\n",
       "      <td>1.478</td>\n",
       "      <td>111</td>\n",
       "      <td>0.883157</td>\n",
       "      <td>4.277</td>\n",
       "      <td>0</td>\n",
       "      <td>0</td>\n",
       "      <td>0</td>\n",
       "      <td>0</td>\n",
       "      <td>1</td>\n",
       "      <td>1</td>\n",
       "      <td>0</td>\n",
       "      <td>0</td>\n",
       "      <td>1</td>\n",
       "    </tr>\n",
       "    <tr>\n",
       "      <td>1218</td>\n",
       "      <td>21.700</td>\n",
       "      <td>5.782</td>\n",
       "      <td>0.026</td>\n",
       "      <td>21.609</td>\n",
       "      <td>22.774</td>\n",
       "      <td>22.191</td>\n",
       "      <td>-0.005</td>\n",
       "      <td>0.000</td>\n",
       "      <td>-0.002</td>\n",
       "      <td>21.926</td>\n",
       "      <td>22.445</td>\n",
       "      <td>-0.003</td>\n",
       "      <td>-0.000</td>\n",
       "      <td>13.58</td>\n",
       "      <td>9.92</td>\n",
       "      <td>0.17</td>\n",
       "      <td>0.24</td>\n",
       "      <td>0.833</td>\n",
       "      <td>32</td>\n",
       "      <td>0.480412</td>\n",
       "      <td>2.265</td>\n",
       "      <td>1</td>\n",
       "      <td>0</td>\n",
       "      <td>0</td>\n",
       "      <td>0</td>\n",
       "      <td>0</td>\n",
       "      <td>1</td>\n",
       "      <td>0</td>\n",
       "      <td>1</td>\n",
       "      <td>0</td>\n",
       "    </tr>\n",
       "  </tbody>\n",
       "</table>\n",
       "<p>12562 rows × 30 columns</p>\n",
       "</div>"
      ],
      "text/plain": [
       "        price  ranging  d_ranging   lower   upper  middle  d_lower  d_upper  \\\n",
       "11666   2.241    5.444      0.011   2.226   2.343   2.284   -0.001   -0.000   \n",
       "11668   2.237    5.599      0.010   2.220   2.340   2.280   -0.000   -0.000   \n",
       "10180   4.023    4.460     -0.014   3.926   4.110   4.018    0.001   -0.000   \n",
       "405     4.023    4.460     -0.014   3.926   4.110   4.018    0.001   -0.000   \n",
       "11670   2.209    5.350      0.011   2.191   2.304   2.248   -0.000   -0.000   \n",
       "...       ...      ...        ...     ...     ...     ...      ...      ...   \n",
       "4790   11.290    7.350      0.023  11.246  12.033  11.640   -0.003    0.000   \n",
       "1625    2.109    5.842      0.015   2.094   2.212   2.153   -0.001    0.000   \n",
       "1925    5.127   10.096      0.005   5.054   5.560   5.307   -0.002   -0.001   \n",
       "3130   20.029   13.075      0.040  19.659  22.112  20.886   -0.011    0.003   \n",
       "1218   21.700    5.782      0.026  21.609  22.774  22.191   -0.005    0.000   \n",
       "\n",
       "       d_middle  ema_10  ema_200  d_ema_10  d_ema_200   k_15   d_15  d_k_15  \\\n",
       "11666    -0.000   2.263    2.403    -0.001     -0.000  20.38  17.00    0.50   \n",
       "11668    -0.000   2.258    2.401    -0.000     -0.000  18.06  14.85    0.30   \n",
       "10180     0.000   4.025    3.799    -0.000      0.000  18.73  15.32    0.22   \n",
       "405       0.000   4.025    3.799    -0.000      0.000  18.73  15.32    0.22   \n",
       "11670    -0.000   2.222    2.390    -0.000     -0.000  11.53   4.81    0.64   \n",
       "...         ...     ...      ...       ...        ...    ...    ...     ...   \n",
       "4790     -0.002  11.460   11.884    -0.002     -0.000  29.76  20.15    0.63   \n",
       "1625     -0.000   2.127    2.192    -0.000     -0.000  10.99   5.99    0.43   \n",
       "1925     -0.001   5.190    5.144    -0.002     -0.000  10.04   4.35    0.54   \n",
       "3130     -0.004  20.344   21.145    -0.008     -0.001  10.65   5.16    0.51   \n",
       "1218     -0.002  21.926   22.445    -0.003     -0.000  13.58   9.92    0.17   \n",
       "\n",
       "       d_d_15  volume  ntrades  tb_volume  dist_to_BB  pattern_Bullish eng.  \\\n",
       "11666    0.02   3.301      448   1.313038       1.932                     0   \n",
       "11668    0.01   3.713      351   1.619265       1.924                     0   \n",
       "10180    0.31   6.100      202   1.633603       2.150                     0   \n",
       "405      0.31   6.100      202   1.633603       2.150                     0   \n",
       "11670    0.21   1.096       78   0.508115       1.752                     0   \n",
       "...       ...     ...      ...        ...         ...                   ...   \n",
       "4790     0.66   3.171      157   1.676242       3.096                     0   \n",
       "1625     0.24   5.559      166   1.601865       2.082                     0   \n",
       "1925     0.22   5.989      228   2.098160       3.513                     0   \n",
       "3130     0.24   1.478      111   0.883157       4.277                     0   \n",
       "1218     0.24   0.833       32   0.480412       2.265                     1   \n",
       "\n",
       "       pattern_Doji  pattern_Hammer  pattern_Harami  pattern_no  origin_lower  \\\n",
       "11666             0               0               0           1             1   \n",
       "11668             0               0               0           1             1   \n",
       "10180             0               0               0           1             0   \n",
       "405               0               0               0           1             0   \n",
       "11670             1               0               0           0             1   \n",
       "...             ...             ...             ...         ...           ...   \n",
       "4790              1               0               0           0             1   \n",
       "1625              0               1               0           0             1   \n",
       "1925              0               0               0           1             1   \n",
       "3130              0               0               0           1             1   \n",
       "1218              0               0               0           0             1   \n",
       "\n",
       "       origin_upper  candle_color_green  candle_color_red  \n",
       "11666             0                   0                 1  \n",
       "11668             0                   1                 0  \n",
       "10180             1                   0                 1  \n",
       "405               1                   0                 1  \n",
       "11670             0                   1                 0  \n",
       "...             ...                 ...               ...  \n",
       "4790              0                   1                 0  \n",
       "1625              0                   0                 1  \n",
       "1925              0                   0                 1  \n",
       "3130              0                   0                 1  \n",
       "1218              0                   1                 0  \n",
       "\n",
       "[12562 rows x 30 columns]"
      ]
     },
     "execution_count": 62,
     "metadata": {},
     "output_type": "execute_result"
    }
   ],
   "source": [
    "X_train"
   ]
  },
  {
   "cell_type": "code",
   "execution_count": null,
   "metadata": {},
   "outputs": [],
   "source": []
  },
  {
   "cell_type": "markdown",
   "metadata": {},
   "source": [
    "### Define a function to compare different methods"
   ]
  },
  {
   "cell_type": "code",
   "execution_count": 63,
   "metadata": {},
   "outputs": [],
   "source": [
    "# function for comparing different approaches\n",
    "def score_dataset(model, X_train, X_val, y_train, y_val, **kwargs):\n",
    "    '''Trains a model, makes predictions. \n",
    "    Prints classification report\n",
    "    Returns mean absolute error'''\n",
    "    #Modified from: https://www.kaggle.com/alexisbcook/exercise-categorical-variables\n",
    "    model.fit(X_train, y_train, **kwargs)\n",
    "    preds = model.predict(X_val)\n",
    "    print(classification_report(y_val,preds))\n",
    "    return mean_absolute_error(y_val, preds)"
   ]
  },
  {
   "cell_type": "code",
   "execution_count": 64,
   "metadata": {},
   "outputs": [],
   "source": [
    "# Create a function to avoid copy-and-paste\n",
    "def train_and_score_flow(X, y, message=''):\n",
    "    '''Makes train and test split and evaluates the model based on given features (X) and target (y)'''    \n",
    "    # Train and test split\n",
    "    # Remove last rows from the dataset\n",
    "    #test_size = 500\n",
    "    X_train, y_train = X.iloc[:-test_size], y.iloc[:-test_size]\n",
    "    X_val, y_val = X.tail(test_size), y.tail(test_size)\n",
    "    # Categorical encoding\n",
    "    X_train, X_val = pd.get_dummies(X_train), pd.get_dummies(X_val)\n",
    "    #X_train, X_val, y_train, y_val = train_test_split(X, y, test_size=0.1, random_state=101)\n",
    "    #random_forest_basic = RandomForestClassifier(n_estimators=100, max_depth=5, random_state=1)\n",
    "    LogisticRegression_basic = LogisticRegression(solver='warn')\n",
    "    #print(\"Random Forest (drop all NaNs):\")\n",
    "    print(message)\n",
    "    print( score_dataset(LogisticRegression_basic, X_train, X_val, y_train, y_val) )"
   ]
  },
  {
   "cell_type": "markdown",
   "metadata": {},
   "source": [
    "4. Let's already try some methods:"
   ]
  },
  {
   "cell_type": "markdown",
   "metadata": {},
   "source": [
    "### Random Forest"
   ]
  },
  {
   "cell_type": "code",
   "execution_count": 65,
   "metadata": {},
   "outputs": [],
   "source": [
    "random_forest_basic = RandomForestClassifier(n_estimators=500, max_depth=5, random_state=1)"
   ]
  },
  {
   "cell_type": "code",
   "execution_count": 66,
   "metadata": {},
   "outputs": [
    {
     "name": "stdout",
     "output_type": "stream",
     "text": [
      "Random Forest :\n",
      "              precision    recall  f1-score   support\n",
      "\n",
      "           0       0.64      0.78      0.70       584\n",
      "           1       0.55      0.39      0.45       416\n",
      "\n",
      "    accuracy                           0.61      1000\n",
      "   macro avg       0.60      0.58      0.58      1000\n",
      "weighted avg       0.60      0.61      0.60      1000\n",
      "\n"
     ]
    },
    {
     "data": {
      "text/plain": [
       "0.386"
      ]
     },
     "execution_count": 66,
     "metadata": {},
     "output_type": "execute_result"
    }
   ],
   "source": [
    "print(\"Random Forest :\")\n",
    "score_dataset(random_forest_basic, X_train, X_val, y_train, y_val)"
   ]
  },
  {
   "cell_type": "markdown",
   "metadata": {},
   "source": [
    "### Logistic regression"
   ]
  },
  {
   "cell_type": "code",
   "execution_count": 67,
   "metadata": {},
   "outputs": [],
   "source": [
    "logmodel_basic = LogisticRegression(solver='warn')"
   ]
  },
  {
   "cell_type": "code",
   "execution_count": 68,
   "metadata": {},
   "outputs": [
    {
     "name": "stdout",
     "output_type": "stream",
     "text": [
      "Logistic regression :\n"
     ]
    },
    {
     "name": "stderr",
     "output_type": "stream",
     "text": [
      "C:\\Users\\Taras\\Anaconda3\\lib\\site-packages\\sklearn\\linear_model\\logistic.py:432: FutureWarning: Default solver will be changed to 'lbfgs' in 0.22. Specify a solver to silence this warning.\n",
      "  FutureWarning)\n"
     ]
    },
    {
     "name": "stdout",
     "output_type": "stream",
     "text": [
      "              precision    recall  f1-score   support\n",
      "\n",
      "           0       0.63      0.85      0.72       584\n",
      "           1       0.58      0.29      0.39       416\n",
      "\n",
      "    accuracy                           0.62      1000\n",
      "   macro avg       0.60      0.57      0.55      1000\n",
      "weighted avg       0.61      0.62      0.58      1000\n",
      "\n"
     ]
    },
    {
     "data": {
      "text/plain": [
       "0.384"
      ]
     },
     "execution_count": 68,
     "metadata": {},
     "output_type": "execute_result"
    }
   ],
   "source": [
    "\n",
    "print(\"Logistic regression :\")\n",
    "score_dataset(logmodel_basic, X_train, X_val, y_train, y_val)"
   ]
  },
  {
   "cell_type": "markdown",
   "metadata": {},
   "source": [
    "### Try to evaluate model with different combination of features"
   ]
  },
  {
   "cell_type": "code",
   "execution_count": 69,
   "metadata": {},
   "outputs": [],
   "source": [
    "X1 = X.drop(['d_ranging'], axis=1)"
   ]
  },
  {
   "cell_type": "code",
   "execution_count": 70,
   "metadata": {},
   "outputs": [
    {
     "name": "stdout",
     "output_type": "stream",
     "text": [
      "drop d_ranging:\n",
      "              precision    recall  f1-score   support\n",
      "\n",
      "           0       0.60      0.91      0.72       584\n",
      "           1       0.52      0.13      0.21       416\n",
      "\n",
      "    accuracy                           0.59      1000\n",
      "   macro avg       0.56      0.52      0.46      1000\n",
      "weighted avg       0.56      0.59      0.51      1000\n",
      "\n",
      "0.412\n"
     ]
    },
    {
     "name": "stderr",
     "output_type": "stream",
     "text": [
      "C:\\Users\\Taras\\Anaconda3\\lib\\site-packages\\sklearn\\linear_model\\logistic.py:432: FutureWarning: Default solver will be changed to 'lbfgs' in 0.22. Specify a solver to silence this warning.\n",
      "  FutureWarning)\n"
     ]
    }
   ],
   "source": [
    "train_and_score_flow(X1, y, message='drop d_ranging:')"
   ]
  },
  {
   "cell_type": "code",
   "execution_count": 71,
   "metadata": {},
   "outputs": [
    {
     "data": {
      "text/plain": [
       "Index(['price', 'pattern', 'origin', 'ranging', 'd_ranging', 'lower', 'upper',\n",
       "       'middle', 'd_lower', 'd_upper', 'd_middle', 'ema_10', 'ema_200',\n",
       "       'd_ema_10', 'd_ema_200', 'k_15', 'd_15', 'd_k_15', 'd_d_15',\n",
       "       'candle_color', 'volume', 'ntrades', 'tb_volume', 'dist_to_BB'],\n",
       "      dtype='object')"
      ]
     },
     "execution_count": 71,
     "metadata": {},
     "output_type": "execute_result"
    }
   ],
   "source": [
    "X.columns"
   ]
  },
  {
   "cell_type": "code",
   "execution_count": 72,
   "metadata": {},
   "outputs": [
    {
     "name": "stdout",
     "output_type": "stream",
     "text": [
      "drop volume and n_trades\n"
     ]
    },
    {
     "name": "stderr",
     "output_type": "stream",
     "text": [
      "C:\\Users\\Taras\\Anaconda3\\lib\\site-packages\\sklearn\\linear_model\\logistic.py:432: FutureWarning: Default solver will be changed to 'lbfgs' in 0.22. Specify a solver to silence this warning.\n",
      "  FutureWarning)\n"
     ]
    },
    {
     "name": "stdout",
     "output_type": "stream",
     "text": [
      "              precision    recall  f1-score   support\n",
      "\n",
      "           0       0.63      0.85      0.72       584\n",
      "           1       0.59      0.29      0.39       416\n",
      "\n",
      "    accuracy                           0.62      1000\n",
      "   macro avg       0.61      0.57      0.56      1000\n",
      "weighted avg       0.61      0.62      0.58      1000\n",
      "\n",
      "0.38\n"
     ]
    }
   ],
   "source": [
    "X2 = X.drop(['volume', 'ntrades'], axis=1)\n",
    "train_and_score_flow(X2, y, message='drop volume and n_trades')"
   ]
  },
  {
   "cell_type": "code",
   "execution_count": 73,
   "metadata": {},
   "outputs": [
    {
     "name": "stdout",
     "output_type": "stream",
     "text": [
      "drop d_upper\n"
     ]
    },
    {
     "name": "stderr",
     "output_type": "stream",
     "text": [
      "C:\\Users\\Taras\\Anaconda3\\lib\\site-packages\\sklearn\\linear_model\\logistic.py:432: FutureWarning: Default solver will be changed to 'lbfgs' in 0.22. Specify a solver to silence this warning.\n",
      "  FutureWarning)\n"
     ]
    },
    {
     "name": "stdout",
     "output_type": "stream",
     "text": [
      "              precision    recall  f1-score   support\n",
      "\n",
      "           0       0.63      0.85      0.72       584\n",
      "           1       0.58      0.29      0.39       416\n",
      "\n",
      "    accuracy                           0.62      1000\n",
      "   macro avg       0.60      0.57      0.55      1000\n",
      "weighted avg       0.61      0.62      0.58      1000\n",
      "\n",
      "0.384\n"
     ]
    }
   ],
   "source": [
    "X3 = X.drop(['d_upper'], axis=1)\n",
    "train_and_score_flow(X3, y, message='drop d_upper')"
   ]
  },
  {
   "cell_type": "code",
   "execution_count": 74,
   "metadata": {},
   "outputs": [
    {
     "name": "stdout",
     "output_type": "stream",
     "text": [
      "drop volume and n_trades and d_upper\n"
     ]
    },
    {
     "name": "stderr",
     "output_type": "stream",
     "text": [
      "C:\\Users\\Taras\\Anaconda3\\lib\\site-packages\\sklearn\\linear_model\\logistic.py:432: FutureWarning: Default solver will be changed to 'lbfgs' in 0.22. Specify a solver to silence this warning.\n",
      "  FutureWarning)\n"
     ]
    },
    {
     "name": "stdout",
     "output_type": "stream",
     "text": [
      "              precision    recall  f1-score   support\n",
      "\n",
      "           0       0.63      0.85      0.72       584\n",
      "           1       0.59      0.29      0.39       416\n",
      "\n",
      "    accuracy                           0.62      1000\n",
      "   macro avg       0.61      0.57      0.56      1000\n",
      "weighted avg       0.61      0.62      0.58      1000\n",
      "\n",
      "0.38\n"
     ]
    }
   ],
   "source": [
    "X4 = X.drop(['volume', 'ntrades', 'd_upper'], axis=1)\n",
    "train_and_score_flow(X2, y, message='drop volume and n_trades and d_upper')"
   ]
  },
  {
   "cell_type": "markdown",
   "metadata": {},
   "source": [
    "Check feature importance"
   ]
  },
  {
   "cell_type": "code",
   "execution_count": 75,
   "metadata": {},
   "outputs": [
    {
     "name": "stderr",
     "output_type": "stream",
     "text": [
      "C:\\Users\\Taras\\Anaconda3\\lib\\site-packages\\sklearn\\linear_model\\logistic.py:432: FutureWarning: Default solver will be changed to 'lbfgs' in 0.22. Specify a solver to silence this warning.\n",
      "  FutureWarning)\n"
     ]
    },
    {
     "data": {
      "text/plain": [
       "LogisticRegression(C=1.0, class_weight=None, dual=False, fit_intercept=True,\n",
       "                   intercept_scaling=1, l1_ratio=None, max_iter=100,\n",
       "                   multi_class='warn', n_jobs=None, penalty='l2',\n",
       "                   random_state=None, solver='warn', tol=0.0001, verbose=0,\n",
       "                   warm_start=False)"
      ]
     },
     "execution_count": 75,
     "metadata": {},
     "output_type": "execute_result"
    }
   ],
   "source": [
    "logmodel_basic.fit(X_train, y_train)"
   ]
  },
  {
   "cell_type": "code",
   "execution_count": 76,
   "metadata": {},
   "outputs": [
    {
     "data": {
      "text/plain": [
       "0.616"
      ]
     },
     "execution_count": 76,
     "metadata": {},
     "output_type": "execute_result"
    }
   ],
   "source": [
    "logmodel_basic.score(X_val, y_val)"
   ]
  },
  {
   "cell_type": "code",
   "execution_count": 77,
   "metadata": {},
   "outputs": [],
   "source": [
    "importance = logmodel_basic.coef_[0]"
   ]
  },
  {
   "cell_type": "code",
   "execution_count": 78,
   "metadata": {},
   "outputs": [
    {
     "data": {
      "image/png": "[encoded data removed]",
      "text/plain": [
       "<Figure size 864x576 with 1 Axes>"
      ]
     },
     "metadata": {
      "needs_background": "light"
     },
     "output_type": "display_data"
    }
   ],
   "source": [
    "plt.figure(figsize=(12,8))\n",
    "plt.bar([x for x in range(len(importance))], importance)\n",
    "plt.xticks(np.arange(len(importance)), X_val.columns, rotation=60)\n",
    "plt.ylim([-0.5,0.5])\n",
    "plt.grid()\n",
    "plt.show()"
   ]
  },
  {
   "cell_type": "code",
   "execution_count": 79,
   "metadata": {},
   "outputs": [
    {
     "data": {
      "text/plain": [
       "30"
      ]
     },
     "execution_count": 79,
     "metadata": {},
     "output_type": "execute_result"
    }
   ],
   "source": [
    "len(importance)"
   ]
  },
  {
   "cell_type": "code",
   "execution_count": 80,
   "metadata": {},
   "outputs": [],
   "source": [
    "preds = logmodel_basic.predict(X_val)\n"
   ]
  },
  {
   "cell_type": "code",
   "execution_count": 81,
   "metadata": {},
   "outputs": [
    {
     "data": {
      "text/plain": [
       "array([[494,  90],\n",
       "       [294, 122]], dtype=int64)"
      ]
     },
     "execution_count": 81,
     "metadata": {},
     "output_type": "execute_result"
    }
   ],
   "source": [
    "#print(confusion_matrix(y_val,preds))\n",
    "confusion_matrix(y_val,preds)"
   ]
  },
  {
   "cell_type": "code",
   "execution_count": 82,
   "metadata": {},
   "outputs": [
    {
     "data": {
      "text/plain": [
       "array([[0.55619601, 0.44380399],\n",
       "       [0.60742017, 0.39257983],\n",
       "       [0.59127261, 0.40872739],\n",
       "       ...,\n",
       "       [0.43784611, 0.56215389],\n",
       "       [0.56886157, 0.43113843],\n",
       "       [0.50079594, 0.49920406]])"
      ]
     },
     "execution_count": 82,
     "metadata": {},
     "output_type": "execute_result"
    }
   ],
   "source": [
    "logmodel_basic.predict_proba(X_val) "
   ]
  },
  {
   "cell_type": "code",
   "execution_count": 83,
   "metadata": {},
   "outputs": [],
   "source": [
    "# try different solvers for logostic regression\n",
    "# solvers = {'newton-cg', 'lbfgs', 'liblinear', 'sag', 'saga'}\n",
    "# for solver in solvers:\n",
    "#     logmodel_solv = LogisticRegression(solver=solver)\n",
    "#     print(f\"Solver : {solver}\")\n",
    "#     score_dataset(logmodel_solv, X_train, X_val, y_train, y_val)"
   ]
  },
  {
   "cell_type": "markdown",
   "metadata": {},
   "source": [
    "### Optimize hyperparameters"
   ]
  },
  {
   "cell_type": "code",
   "execution_count": 84,
   "metadata": {},
   "outputs": [
    {
     "name": "stdout",
     "output_type": "stream",
     "text": [
      "Fitting 5 folds for each of 40 candidates, totalling 200 fits\n"
     ]
    },
    {
     "name": "stderr",
     "output_type": "stream",
     "text": [
      "[Parallel(n_jobs=-1)]: Using backend LokyBackend with 8 concurrent workers.\n",
      "[Parallel(n_jobs=-1)]: Done  34 tasks      | elapsed:    5.4s\n",
      "[Parallel(n_jobs=-1)]: Done 184 tasks      | elapsed:  6.2min\n",
      "[Parallel(n_jobs=-1)]: Done 200 out of 200 | elapsed:  7.5min finished\n",
      "C:\\Users\\Taras\\Anaconda3\\lib\\site-packages\\sklearn\\svm\\base.py:929: ConvergenceWarning: Liblinear failed to converge, increase the number of iterations.\n",
      "  \"the number of iterations.\", ConvergenceWarning)\n"
     ]
    }
   ],
   "source": [
    "# Taken from: https://github.com/finnqiao/bank-logistic/blob/master/bank-logistic-v2.ipynb\n",
    "# https://towardsdatascience.com/logistic-regression-model-tuning-with-scikit-learn-part-1-425142e01af5\n",
    "\n",
    "# Create first pipeline for base without reducing features.\n",
    "\n",
    "#pipe = Pipeline([('classifier' , RandomForestClassifier())])\n",
    "pipe = Pipeline([('classifier' , LogisticRegression())])\n",
    "# pipe = Pipeline([('classifier', RandomForestClassifier())])\n",
    "\n",
    "# Create param grid.\n",
    "\n",
    "# param_grid = [\n",
    "#     {'classifier' : [LogisticRegression()],\n",
    "#      'classifier__penalty' : ['l1', 'l2'],\n",
    "#     'classifier__C' : np.logspace(-4, 4, 20),\n",
    "#     'classifier__solver' : ['liblinear']},\n",
    "#     {'classifier' : [RandomForestClassifier()],\n",
    "#     'classifier__n_estimators' : list(range(10,101,10)),\n",
    "#     'classifier__max_features' : list(range(5,31,5))}\n",
    "# ]\n",
    "\n",
    "param_grid = [\n",
    "    {'classifier' : [LogisticRegression()],\n",
    "     'classifier__penalty' : ['l1', 'l2'],\n",
    "    'classifier__C' : np.logspace(-4, 4, 20),\n",
    "    'classifier__solver' : ['liblinear']}\n",
    "]\n",
    "\n",
    "# Create grid search object\n",
    "\n",
    "clf = GridSearchCV(pipe, param_grid = param_grid, cv = 5, verbose=True, n_jobs=-1)\n",
    "\n",
    "# Fit on data\n",
    "\n",
    "best_clf = clf.fit(X_train, y_train)"
   ]
  },
  {
   "cell_type": "code",
   "execution_count": 85,
   "metadata": {},
   "outputs": [
    {
     "data": {
      "text/plain": [
       "LogisticRegression(C=3792.690190732246, class_weight=None, dual=False,\n",
       "                   fit_intercept=True, intercept_scaling=1, l1_ratio=None,\n",
       "                   max_iter=100, multi_class='warn', n_jobs=None, penalty='l1',\n",
       "                   random_state=None, solver='liblinear', tol=0.0001, verbose=0,\n",
       "                   warm_start=False)"
      ]
     },
     "execution_count": 85,
     "metadata": {},
     "output_type": "execute_result"
    }
   ],
   "source": [
    "best_clf.best_estimator_.get_params()['classifier']"
   ]
  },
  {
   "cell_type": "code",
   "execution_count": 86,
   "metadata": {},
   "outputs": [
    {
     "data": {
      "text/plain": [
       "{'memory': None,\n",
       " 'steps': [('classifier',\n",
       "   LogisticRegression(C=3792.690190732246, class_weight=None, dual=False,\n",
       "                      fit_intercept=True, intercept_scaling=1, l1_ratio=None,\n",
       "                      max_iter=100, multi_class='warn', n_jobs=None, penalty='l1',\n",
       "                      random_state=None, solver='liblinear', tol=0.0001, verbose=0,\n",
       "                      warm_start=False))],\n",
       " 'verbose': False,\n",
       " 'classifier': LogisticRegression(C=3792.690190732246, class_weight=None, dual=False,\n",
       "                    fit_intercept=True, intercept_scaling=1, l1_ratio=None,\n",
       "                    max_iter=100, multi_class='warn', n_jobs=None, penalty='l1',\n",
       "                    random_state=None, solver='liblinear', tol=0.0001, verbose=0,\n",
       "                    warm_start=False),\n",
       " 'classifier__C': 3792.690190732246,\n",
       " 'classifier__class_weight': None,\n",
       " 'classifier__dual': False,\n",
       " 'classifier__fit_intercept': True,\n",
       " 'classifier__intercept_scaling': 1,\n",
       " 'classifier__l1_ratio': None,\n",
       " 'classifier__max_iter': 100,\n",
       " 'classifier__multi_class': 'warn',\n",
       " 'classifier__n_jobs': None,\n",
       " 'classifier__penalty': 'l1',\n",
       " 'classifier__random_state': None,\n",
       " 'classifier__solver': 'liblinear',\n",
       " 'classifier__tol': 0.0001,\n",
       " 'classifier__verbose': 0,\n",
       " 'classifier__warm_start': False}"
      ]
     },
     "execution_count": 86,
     "metadata": {},
     "output_type": "execute_result"
    }
   ],
   "source": [
    "best_clf.best_estimator_.get_params()"
   ]
  },
  {
   "cell_type": "code",
   "execution_count": 87,
   "metadata": {},
   "outputs": [
    {
     "data": {
      "text/plain": [
       "0.616"
      ]
     },
     "execution_count": 87,
     "metadata": {},
     "output_type": "execute_result"
    }
   ],
   "source": [
    "best_clf.score(X_val, y_val)"
   ]
  },
  {
   "cell_type": "code",
   "execution_count": 88,
   "metadata": {},
   "outputs": [],
   "source": [
    "preds2 = best_clf.predict(X_val)"
   ]
  },
  {
   "cell_type": "code",
   "execution_count": 89,
   "metadata": {},
   "outputs": [
    {
     "name": "stdout",
     "output_type": "stream",
     "text": [
      "              precision    recall  f1-score   support\n",
      "\n",
      "           0       0.63      0.81      0.71       584\n",
      "           1       0.56      0.34      0.43       416\n",
      "\n",
      "    accuracy                           0.62      1000\n",
      "   macro avg       0.60      0.58      0.57      1000\n",
      "weighted avg       0.60      0.62      0.59      1000\n",
      "\n"
     ]
    }
   ],
   "source": [
    "print( classification_report(y_val, preds2) )"
   ]
  },
  {
   "cell_type": "code",
   "execution_count": 90,
   "metadata": {},
   "outputs": [
    {
     "data": {
      "text/plain": [
       "0.384"
      ]
     },
     "execution_count": 90,
     "metadata": {},
     "output_type": "execute_result"
    }
   ],
   "source": [
    "mean_absolute_error(y_val, preds2)"
   ]
  },
  {
   "cell_type": "markdown",
   "metadata": {},
   "source": [
    "### XG Boost"
   ]
  },
  {
   "cell_type": "code",
   "execution_count": 91,
   "metadata": {},
   "outputs": [],
   "source": [
    "XGB_basic = XGBClassifier(n_estimators=1000, learning_rate=0.01, random_state=0)"
   ]
  },
  {
   "cell_type": "code",
   "execution_count": 92,
   "metadata": {},
   "outputs": [],
   "source": [
    "# XGB_basic.fit(X_train, y_train,\n",
    "#              early_stopping_rounds=5, \n",
    "#              eval_set=[(X_val, y_val)], \n",
    "#              verbose=False)"
   ]
  },
  {
   "cell_type": "code",
   "execution_count": null,
   "metadata": {},
   "outputs": [],
   "source": []
  },
  {
   "cell_type": "code",
   "execution_count": 93,
   "metadata": {},
   "outputs": [
    {
     "name": "stdout",
     "output_type": "stream",
     "text": [
      "XG Boost :\n",
      "              precision    recall  f1-score   support\n",
      "\n",
      "           0       0.68      0.70      0.69       584\n",
      "           1       0.56      0.53      0.54       416\n",
      "\n",
      "    accuracy                           0.63      1000\n",
      "   macro avg       0.62      0.62      0.62      1000\n",
      "weighted avg       0.63      0.63      0.63      1000\n",
      "\n"
     ]
    },
    {
     "data": {
      "text/plain": [
       "0.37"
      ]
     },
     "execution_count": 93,
     "metadata": {},
     "output_type": "execute_result"
    }
   ],
   "source": [
    "print(\"XG Boost :\")\n",
    "score_dataset(XGB_basic, X_train, X_val, y_train, y_val,\n",
    "             early_stopping_rounds=10,\n",
    "             eval_set=[(X_val, y_val)],\n",
    "             verbose=False)"
   ]
  },
  {
   "cell_type": "code",
   "execution_count": null,
   "metadata": {},
   "outputs": [],
   "source": []
  },
  {
   "cell_type": "code",
   "execution_count": 94,
   "metadata": {},
   "outputs": [],
   "source": [
    "#val_preds_XGB = XGB_basic.predict(X_val)"
   ]
  },
  {
   "cell_type": "code",
   "execution_count": 95,
   "metadata": {},
   "outputs": [],
   "source": [
    "#mae = mean_absolute_error(val_preds_XGB, y_val)"
   ]
  },
  {
   "cell_type": "code",
   "execution_count": 96,
   "metadata": {},
   "outputs": [],
   "source": [
    "#print(f\"MAE for the XG Boost without categorical features: {mae}\")"
   ]
  },
  {
   "cell_type": "markdown",
   "metadata": {},
   "source": [
    "### Light GBM"
   ]
  },
  {
   "cell_type": "code",
   "execution_count": 103,
   "metadata": {},
   "outputs": [],
   "source": [
    "from lightgbm import LGBMClassifier"
   ]
  },
  {
   "cell_type": "code",
   "execution_count": 113,
   "metadata": {},
   "outputs": [],
   "source": [
    "def score_dataset_lgb( X_train, X_val, y_train, y_val, params):\n",
    "    '''Trains a model, makes predictions. \n",
    "    Prints classification report\n",
    "    Returns mean absolute error'''\n",
    "    #Modified from: https://www.kaggle.com/alexisbcook/exercise-categorical-variables\n",
    "    model = LGBMClassifier(objective ='binary',\n",
    "                           boosting ='gbdt', #dart\n",
    "                           n_jobs = -1,\n",
    "                           max_depth = 8,\n",
    "                           num_iterations = 200,\n",
    "                           learning_rate = 0.05,\n",
    "                           **params)\n",
    "    model.fit(X_train, y_train)\n",
    "    #model.fit(X_train, y_train, **kwargs)\n",
    "    preds = model.predict(X_val)\n",
    "    print(classification_report(y_val,preds))\n",
    "    return mean_absolute_error(y_val, preds)"
   ]
  },
  {
   "cell_type": "code",
   "execution_count": 107,
   "metadata": {},
   "outputs": [],
   "source": [
    "LGBM_basic = LGBMClassifier(objective ='binary',\n",
    "                       boosting ='gbdt', #dart\n",
    "                       n_jobs = -1,\n",
    "                       max_depth = 8,\n",
    "                       num_iterations = 200,\n",
    "                       learning_rate = 0.05,\n",
    "                        num_leaves = 32\n",
    "                        )"
   ]
  },
  {
   "cell_type": "code",
   "execution_count": 109,
   "metadata": {},
   "outputs": [],
   "source": [
    "lgb = LGBMClassifier(\n",
    "    objective='binary',\n",
    "    boosting='gbdt',\n",
    "    learning_rate = 0.05,\n",
    "    max_depth = 8,\n",
    "    num_leaves = 80,\n",
    "    n_estimators = 400,\n",
    "    bagging_fraction = 0.8,\n",
    "    feature_fraction = 0.9)"
   ]
  },
  {
   "cell_type": "code",
   "execution_count": 108,
   "metadata": {},
   "outputs": [
    {
     "name": "stderr",
     "output_type": "stream",
     "text": [
      "C:\\Users\\Taras\\Anaconda3\\lib\\site-packages\\lightgbm\\engine.py:151: UserWarning: Found `num_iterations` in params. Will use it instead of argument\n",
      "  warnings.warn(\"Found `{}` in params. Will use it instead of argument\".format(alias))\n"
     ]
    },
    {
     "name": "stdout",
     "output_type": "stream",
     "text": [
      "[LightGBM] [Warning] boosting is set=gbdt, boosting_type=gbdt will be ignored. Current value: boosting=gbdt\n",
      "              precision    recall  f1-score   support\n",
      "\n",
      "           0       0.66      0.69      0.67       584\n",
      "           1       0.54      0.51      0.52       416\n",
      "\n",
      "    accuracy                           0.61      1000\n",
      "   macro avg       0.60      0.60      0.60      1000\n",
      "weighted avg       0.61      0.61      0.61      1000\n",
      "\n"
     ]
    },
    {
     "data": {
      "text/plain": [
       "0.387"
      ]
     },
     "execution_count": 108,
     "metadata": {},
     "output_type": "execute_result"
    }
   ],
   "source": [
    "score_dataset(LGBM_basic,X_train, X_val, y_train, y_val )"
   ]
  },
  {
   "cell_type": "code",
   "execution_count": 110,
   "metadata": {},
   "outputs": [
    {
     "name": "stdout",
     "output_type": "stream",
     "text": [
      "[LightGBM] [Warning] boosting is set=gbdt, boosting_type=gbdt will be ignored. Current value: boosting=gbdt\n",
      "[LightGBM] [Warning] feature_fraction is set=0.9, colsample_bytree=1.0 will be ignored. Current value: feature_fraction=0.9\n",
      "[LightGBM] [Warning] bagging_fraction is set=0.8, subsample=1.0 will be ignored. Current value: bagging_fraction=0.8\n",
      "              precision    recall  f1-score   support\n",
      "\n",
      "           0       0.66      0.67      0.67       584\n",
      "           1       0.53      0.52      0.52       416\n",
      "\n",
      "    accuracy                           0.61      1000\n",
      "   macro avg       0.59      0.59      0.59      1000\n",
      "weighted avg       0.61      0.61      0.61      1000\n",
      "\n"
     ]
    },
    {
     "data": {
      "text/plain": [
       "0.393"
      ]
     },
     "execution_count": 110,
     "metadata": {},
     "output_type": "execute_result"
    }
   ],
   "source": [
    "score_dataset(lgb,X_train, X_val, y_train, y_val )"
   ]
  },
  {
   "cell_type": "code",
   "execution_count": null,
   "metadata": {},
   "outputs": [],
   "source": [
    "# def evaluate_model(df, target, train_index, val_index, params):\n",
    "#     model = LGBMClassifier(objective ='binary',\n",
    "#                            boosting ='gbdt', #dart\n",
    "#                            n_jobs = -1,\n",
    "#                            max_depth = 8,\n",
    "#                            num_iterations = 200,\n",
    "#                            learning_rate = 0.05,\n",
    "#                            **params)\n",
    "#     model.fit(df.loc[train_index],bin_target.loc[train_index])\n",
    "#     return metrics.log_loss(target.loc[val_index], \n",
    "#                             model.predict_proba(df.loc[val_index]))"
   ]
  },
  {
   "cell_type": "code",
   "execution_count": 114,
   "metadata": {},
   "outputs": [
    {
     "name": "stdout",
     "output_type": "stream",
     "text": [
      "Tuning begins...\n",
      "[LightGBM] [Warning] boosting is set=gbdt, boosting_type=gbdt will be ignored. Current value: boosting=gbdt\n",
      "[LightGBM] [Warning] feature_fraction is set=0.8, colsample_bytree=1.0 will be ignored. Current value: feature_fraction=0.8\n",
      "[LightGBM] [Warning] bagging_fraction is set=0.9, subsample=1.0 will be ignored. Current value: bagging_fraction=0.9\n",
      "[LightGBM] [Warning] bagging_freq is set=0, subsample_freq=0 will be ignored. Current value: bagging_freq=0\n"
     ]
    },
    {
     "name": "stderr",
     "output_type": "stream",
     "text": [
      "C:\\Users\\Taras\\Anaconda3\\lib\\site-packages\\lightgbm\\engine.py:151: UserWarning: Found `num_iterations` in params. Will use it instead of argument\n",
      "  warnings.warn(\"Found `{}` in params. Will use it instead of argument\".format(alias))\n"
     ]
    },
    {
     "name": "stdout",
     "output_type": "stream",
     "text": [
      "              precision    recall  f1-score   support\n",
      "\n",
      "           0       0.68      0.68      0.68       584\n",
      "           1       0.55      0.55      0.55       416\n",
      "\n",
      "    accuracy                           0.63      1000\n",
      "   macro avg       0.62      0.62      0.62      1000\n",
      "weighted avg       0.63      0.63      0.63      1000\n",
      "\n",
      "[LightGBM] [Warning] boosting is set=gbdt, boosting_type=gbdt will be ignored. Current value: boosting=gbdt\n",
      "[LightGBM] [Warning] feature_fraction is set=0.8, colsample_bytree=1.0 will be ignored. Current value: feature_fraction=0.8\n",
      "[LightGBM] [Warning] bagging_fraction is set=0.8, subsample=1.0 will be ignored. Current value: bagging_fraction=0.8\n",
      "[LightGBM] [Warning] bagging_freq is set=1, subsample_freq=0 will be ignored. Current value: bagging_freq=1\n"
     ]
    },
    {
     "name": "stderr",
     "output_type": "stream",
     "text": [
      "C:\\Users\\Taras\\Anaconda3\\lib\\site-packages\\lightgbm\\engine.py:151: UserWarning: Found `num_iterations` in params. Will use it instead of argument\n",
      "  warnings.warn(\"Found `{}` in params. Will use it instead of argument\".format(alias))\n"
     ]
    },
    {
     "name": "stdout",
     "output_type": "stream",
     "text": [
      "              precision    recall  f1-score   support\n",
      "\n",
      "           0       0.67      0.67      0.67       584\n",
      "           1       0.54      0.55      0.54       416\n",
      "\n",
      "    accuracy                           0.62      1000\n",
      "   macro avg       0.61      0.61      0.61      1000\n",
      "weighted avg       0.62      0.62      0.62      1000\n",
      "\n",
      "[LightGBM] [Warning] boosting is set=gbdt, boosting_type=gbdt will be ignored. Current value: boosting=gbdt\n",
      "[LightGBM] [Warning] feature_fraction is set=0.9, colsample_bytree=1.0 will be ignored. Current value: feature_fraction=0.9\n",
      "[LightGBM] [Warning] bagging_fraction is set=0.8, subsample=1.0 will be ignored. Current value: bagging_fraction=0.8\n",
      "[LightGBM] [Warning] bagging_freq is set=0, subsample_freq=0 will be ignored. Current value: bagging_freq=0\n"
     ]
    },
    {
     "name": "stderr",
     "output_type": "stream",
     "text": [
      "C:\\Users\\Taras\\Anaconda3\\lib\\site-packages\\lightgbm\\engine.py:151: UserWarning: Found `num_iterations` in params. Will use it instead of argument\n",
      "  warnings.warn(\"Found `{}` in params. Will use it instead of argument\".format(alias))\n"
     ]
    },
    {
     "name": "stdout",
     "output_type": "stream",
     "text": [
      "              precision    recall  f1-score   support\n",
      "\n",
      "           0       0.66      0.67      0.66       584\n",
      "           1       0.53      0.52      0.52       416\n",
      "\n",
      "    accuracy                           0.61      1000\n",
      "   macro avg       0.59      0.59      0.59      1000\n",
      "weighted avg       0.61      0.61      0.61      1000\n",
      "\n",
      "[LightGBM] [Warning] boosting is set=gbdt, boosting_type=gbdt will be ignored. Current value: boosting=gbdt\n",
      "[LightGBM] [Warning] feature_fraction is set=0.9, colsample_bytree=1.0 will be ignored. Current value: feature_fraction=0.9\n",
      "[LightGBM] [Warning] bagging_fraction is set=0.9, subsample=1.0 will be ignored. Current value: bagging_fraction=0.9\n",
      "[LightGBM] [Warning] bagging_freq is set=3, subsample_freq=0 will be ignored. Current value: bagging_freq=3\n"
     ]
    },
    {
     "name": "stderr",
     "output_type": "stream",
     "text": [
      "C:\\Users\\Taras\\Anaconda3\\lib\\site-packages\\lightgbm\\engine.py:151: UserWarning: Found `num_iterations` in params. Will use it instead of argument\n",
      "  warnings.warn(\"Found `{}` in params. Will use it instead of argument\".format(alias))\n"
     ]
    },
    {
     "name": "stdout",
     "output_type": "stream",
     "text": [
      "              precision    recall  f1-score   support\n",
      "\n",
      "           0       0.68      0.69      0.69       584\n",
      "           1       0.56      0.55      0.55       416\n",
      "\n",
      "    accuracy                           0.63      1000\n",
      "   macro avg       0.62      0.62      0.62      1000\n",
      "weighted avg       0.63      0.63      0.63      1000\n",
      "\n",
      "[LightGBM] [Warning] boosting is set=gbdt, boosting_type=gbdt will be ignored. Current value: boosting=gbdt\n",
      "[LightGBM] [Warning] feature_fraction is set=0.9, colsample_bytree=1.0 will be ignored. Current value: feature_fraction=0.9\n",
      "[LightGBM] [Warning] bagging_fraction is set=0.8, subsample=1.0 will be ignored. Current value: bagging_fraction=0.8\n",
      "[LightGBM] [Warning] bagging_freq is set=0, subsample_freq=0 will be ignored. Current value: bagging_freq=0\n"
     ]
    },
    {
     "name": "stderr",
     "output_type": "stream",
     "text": [
      "C:\\Users\\Taras\\Anaconda3\\lib\\site-packages\\lightgbm\\engine.py:151: UserWarning: Found `num_iterations` in params. Will use it instead of argument\n",
      "  warnings.warn(\"Found `{}` in params. Will use it instead of argument\".format(alias))\n"
     ]
    },
    {
     "name": "stdout",
     "output_type": "stream",
     "text": [
      "              precision    recall  f1-score   support\n",
      "\n",
      "           0       0.67      0.67      0.67       584\n",
      "           1       0.54      0.53      0.54       416\n",
      "\n",
      "    accuracy                           0.61      1000\n",
      "   macro avg       0.60      0.60      0.60      1000\n",
      "weighted avg       0.61      0.61      0.61      1000\n",
      "\n",
      "[LightGBM] [Warning] boosting is set=gbdt, boosting_type=gbdt will be ignored. Current value: boosting=gbdt\n",
      "[LightGBM] [Warning] feature_fraction is set=0.9, colsample_bytree=1.0 will be ignored. Current value: feature_fraction=0.9\n",
      "[LightGBM] [Warning] bagging_fraction is set=0.9, subsample=1.0 will be ignored. Current value: bagging_fraction=0.9\n",
      "[LightGBM] [Warning] bagging_freq is set=1, subsample_freq=0 will be ignored. Current value: bagging_freq=1\n"
     ]
    },
    {
     "name": "stderr",
     "output_type": "stream",
     "text": [
      "C:\\Users\\Taras\\Anaconda3\\lib\\site-packages\\lightgbm\\engine.py:151: UserWarning: Found `num_iterations` in params. Will use it instead of argument\n",
      "  warnings.warn(\"Found `{}` in params. Will use it instead of argument\".format(alias))\n"
     ]
    },
    {
     "name": "stdout",
     "output_type": "stream",
     "text": [
      "              precision    recall  f1-score   support\n",
      "\n",
      "           0       0.66      0.67      0.66       584\n",
      "           1       0.52      0.51      0.52       416\n",
      "\n",
      "    accuracy                           0.60      1000\n",
      "   macro avg       0.59      0.59      0.59      1000\n",
      "weighted avg       0.60      0.60      0.60      1000\n",
      "\n",
      "[LightGBM] [Warning] boosting is set=gbdt, boosting_type=gbdt will be ignored. Current value: boosting=gbdt\n",
      "[LightGBM] [Warning] feature_fraction is set=0.9, colsample_bytree=1.0 will be ignored. Current value: feature_fraction=0.9\n",
      "[LightGBM] [Warning] bagging_fraction is set=0.8, subsample=1.0 will be ignored. Current value: bagging_fraction=0.8\n",
      "[LightGBM] [Warning] bagging_freq is set=1, subsample_freq=0 will be ignored. Current value: bagging_freq=1\n"
     ]
    },
    {
     "name": "stderr",
     "output_type": "stream",
     "text": [
      "C:\\Users\\Taras\\Anaconda3\\lib\\site-packages\\lightgbm\\engine.py:151: UserWarning: Found `num_iterations` in params. Will use it instead of argument\n",
      "  warnings.warn(\"Found `{}` in params. Will use it instead of argument\".format(alias))\n"
     ]
    },
    {
     "name": "stdout",
     "output_type": "stream",
     "text": [
      "              precision    recall  f1-score   support\n",
      "\n",
      "           0       0.67      0.66      0.66       584\n",
      "           1       0.53      0.54      0.54       416\n",
      "\n",
      "    accuracy                           0.61      1000\n",
      "   macro avg       0.60      0.60      0.60      1000\n",
      "weighted avg       0.61      0.61      0.61      1000\n",
      "\n",
      "[LightGBM] [Warning] boosting is set=gbdt, boosting_type=gbdt will be ignored. Current value: boosting=gbdt\n",
      "[LightGBM] [Warning] feature_fraction is set=0.9, colsample_bytree=1.0 will be ignored. Current value: feature_fraction=0.9\n",
      "[LightGBM] [Warning] bagging_fraction is set=0.9, subsample=1.0 will be ignored. Current value: bagging_fraction=0.9\n",
      "[LightGBM] [Warning] bagging_freq is set=2, subsample_freq=0 will be ignored. Current value: bagging_freq=2\n"
     ]
    },
    {
     "name": "stderr",
     "output_type": "stream",
     "text": [
      "C:\\Users\\Taras\\Anaconda3\\lib\\site-packages\\lightgbm\\engine.py:151: UserWarning: Found `num_iterations` in params. Will use it instead of argument\n",
      "  warnings.warn(\"Found `{}` in params. Will use it instead of argument\".format(alias))\n"
     ]
    },
    {
     "name": "stdout",
     "output_type": "stream",
     "text": [
      "              precision    recall  f1-score   support\n",
      "\n",
      "           0       0.66      0.67      0.67       584\n",
      "           1       0.53      0.53      0.53       416\n",
      "\n",
      "    accuracy                           0.61      1000\n",
      "   macro avg       0.60      0.60      0.60      1000\n",
      "weighted avg       0.61      0.61      0.61      1000\n",
      "\n",
      "[LightGBM] [Warning] boosting is set=gbdt, boosting_type=gbdt will be ignored. Current value: boosting=gbdt\n",
      "[LightGBM] [Warning] feature_fraction is set=0.8, colsample_bytree=1.0 will be ignored. Current value: feature_fraction=0.8\n",
      "[LightGBM] [Warning] bagging_fraction is set=0.9, subsample=1.0 will be ignored. Current value: bagging_fraction=0.9\n",
      "[LightGBM] [Warning] bagging_freq is set=2, subsample_freq=0 will be ignored. Current value: bagging_freq=2\n"
     ]
    },
    {
     "name": "stderr",
     "output_type": "stream",
     "text": [
      "C:\\Users\\Taras\\Anaconda3\\lib\\site-packages\\lightgbm\\engine.py:151: UserWarning: Found `num_iterations` in params. Will use it instead of argument\n",
      "  warnings.warn(\"Found `{}` in params. Will use it instead of argument\".format(alias))\n"
     ]
    },
    {
     "name": "stdout",
     "output_type": "stream",
     "text": [
      "              precision    recall  f1-score   support\n",
      "\n",
      "           0       0.66      0.68      0.67       584\n",
      "           1       0.53      0.52      0.53       416\n",
      "\n",
      "    accuracy                           0.61      1000\n",
      "   macro avg       0.60      0.60      0.60      1000\n",
      "weighted avg       0.61      0.61      0.61      1000\n",
      "\n",
      "[LightGBM] [Warning] boosting is set=gbdt, boosting_type=gbdt will be ignored. Current value: boosting=gbdt\n",
      "[LightGBM] [Warning] feature_fraction is set=0.9, colsample_bytree=1.0 will be ignored. Current value: feature_fraction=0.9\n",
      "[LightGBM] [Warning] bagging_fraction is set=0.8, subsample=1.0 will be ignored. Current value: bagging_fraction=0.8\n",
      "[LightGBM] [Warning] bagging_freq is set=3, subsample_freq=0 will be ignored. Current value: bagging_freq=3\n"
     ]
    },
    {
     "name": "stderr",
     "output_type": "stream",
     "text": [
      "C:\\Users\\Taras\\Anaconda3\\lib\\site-packages\\lightgbm\\engine.py:151: UserWarning: Found `num_iterations` in params. Will use it instead of argument\n",
      "  warnings.warn(\"Found `{}` in params. Will use it instead of argument\".format(alias))\n"
     ]
    },
    {
     "name": "stdout",
     "output_type": "stream",
     "text": [
      "              precision    recall  f1-score   support\n",
      "\n",
      "           0       0.67      0.67      0.67       584\n",
      "           1       0.54      0.54      0.54       416\n",
      "\n",
      "    accuracy                           0.62      1000\n",
      "   macro avg       0.61      0.61      0.61      1000\n",
      "weighted avg       0.62      0.62      0.62      1000\n",
      "\n",
      "[LightGBM] [Warning] boosting is set=gbdt, boosting_type=gbdt will be ignored. Current value: boosting=gbdt\n",
      "[LightGBM] [Warning] feature_fraction is set=0.9, colsample_bytree=1.0 will be ignored. Current value: feature_fraction=0.9\n",
      "[LightGBM] [Warning] bagging_fraction is set=0.8, subsample=1.0 will be ignored. Current value: bagging_fraction=0.8\n",
      "[LightGBM] [Warning] bagging_freq is set=1, subsample_freq=0 will be ignored. Current value: bagging_freq=1\n"
     ]
    },
    {
     "name": "stderr",
     "output_type": "stream",
     "text": [
      "C:\\Users\\Taras\\Anaconda3\\lib\\site-packages\\lightgbm\\engine.py:151: UserWarning: Found `num_iterations` in params. Will use it instead of argument\n",
      "  warnings.warn(\"Found `{}` in params. Will use it instead of argument\".format(alias))\n"
     ]
    },
    {
     "name": "stdout",
     "output_type": "stream",
     "text": [
      "              precision    recall  f1-score   support\n",
      "\n",
      "           0       0.67      0.67      0.67       584\n",
      "           1       0.53      0.53      0.53       416\n",
      "\n",
      "    accuracy                           0.61      1000\n",
      "   macro avg       0.60      0.60      0.60      1000\n",
      "weighted avg       0.61      0.61      0.61      1000\n",
      "\n",
      "[LightGBM] [Warning] boosting is set=gbdt, boosting_type=gbdt will be ignored. Current value: boosting=gbdt\n",
      "[LightGBM] [Warning] feature_fraction is set=0.8, colsample_bytree=1.0 will be ignored. Current value: feature_fraction=0.8\n",
      "[LightGBM] [Warning] bagging_fraction is set=0.8, subsample=1.0 will be ignored. Current value: bagging_fraction=0.8\n",
      "[LightGBM] [Warning] bagging_freq is set=4, subsample_freq=0 will be ignored. Current value: bagging_freq=4\n"
     ]
    },
    {
     "name": "stderr",
     "output_type": "stream",
     "text": [
      "C:\\Users\\Taras\\Anaconda3\\lib\\site-packages\\lightgbm\\engine.py:151: UserWarning: Found `num_iterations` in params. Will use it instead of argument\n",
      "  warnings.warn(\"Found `{}` in params. Will use it instead of argument\".format(alias))\n"
     ]
    },
    {
     "name": "stdout",
     "output_type": "stream",
     "text": [
      "              precision    recall  f1-score   support\n",
      "\n",
      "           0       0.67      0.68      0.67       584\n",
      "           1       0.54      0.52      0.53       416\n",
      "\n",
      "    accuracy                           0.61      1000\n",
      "   macro avg       0.60      0.60      0.60      1000\n",
      "weighted avg       0.61      0.61      0.61      1000\n",
      "\n",
      "[LightGBM] [Warning] boosting is set=gbdt, boosting_type=gbdt will be ignored. Current value: boosting=gbdt\n",
      "[LightGBM] [Warning] feature_fraction is set=0.8, colsample_bytree=1.0 will be ignored. Current value: feature_fraction=0.8\n",
      "[LightGBM] [Warning] bagging_fraction is set=0.9, subsample=1.0 will be ignored. Current value: bagging_fraction=0.9\n",
      "[LightGBM] [Warning] bagging_freq is set=0, subsample_freq=0 will be ignored. Current value: bagging_freq=0\n"
     ]
    },
    {
     "name": "stderr",
     "output_type": "stream",
     "text": [
      "C:\\Users\\Taras\\Anaconda3\\lib\\site-packages\\lightgbm\\engine.py:151: UserWarning: Found `num_iterations` in params. Will use it instead of argument\n",
      "  warnings.warn(\"Found `{}` in params. Will use it instead of argument\".format(alias))\n"
     ]
    },
    {
     "name": "stdout",
     "output_type": "stream",
     "text": [
      "              precision    recall  f1-score   support\n",
      "\n",
      "           0       0.68      0.68      0.68       584\n",
      "           1       0.55      0.54      0.55       416\n",
      "\n",
      "    accuracy                           0.62      1000\n",
      "   macro avg       0.61      0.61      0.61      1000\n",
      "weighted avg       0.62      0.62      0.62      1000\n",
      "\n",
      "[LightGBM] [Warning] boosting is set=gbdt, boosting_type=gbdt will be ignored. Current value: boosting=gbdt\n",
      "[LightGBM] [Warning] feature_fraction is set=0.9, colsample_bytree=1.0 will be ignored. Current value: feature_fraction=0.9\n",
      "[LightGBM] [Warning] bagging_fraction is set=0.8, subsample=1.0 will be ignored. Current value: bagging_fraction=0.8\n",
      "[LightGBM] [Warning] bagging_freq is set=0, subsample_freq=0 will be ignored. Current value: bagging_freq=0\n"
     ]
    },
    {
     "name": "stderr",
     "output_type": "stream",
     "text": [
      "C:\\Users\\Taras\\Anaconda3\\lib\\site-packages\\lightgbm\\engine.py:151: UserWarning: Found `num_iterations` in params. Will use it instead of argument\n",
      "  warnings.warn(\"Found `{}` in params. Will use it instead of argument\".format(alias))\n"
     ]
    },
    {
     "name": "stdout",
     "output_type": "stream",
     "text": [
      "              precision    recall  f1-score   support\n",
      "\n",
      "           0       0.67      0.67      0.67       584\n",
      "           1       0.54      0.53      0.54       416\n",
      "\n",
      "    accuracy                           0.61      1000\n",
      "   macro avg       0.60      0.60      0.60      1000\n",
      "weighted avg       0.61      0.61      0.61      1000\n",
      "\n",
      "[LightGBM] [Warning] boosting is set=gbdt, boosting_type=gbdt will be ignored. Current value: boosting=gbdt\n",
      "[LightGBM] [Warning] feature_fraction is set=0.8, colsample_bytree=1.0 will be ignored. Current value: feature_fraction=0.8\n",
      "[LightGBM] [Warning] bagging_fraction is set=0.8, subsample=1.0 will be ignored. Current value: bagging_fraction=0.8\n",
      "[LightGBM] [Warning] bagging_freq is set=3, subsample_freq=0 will be ignored. Current value: bagging_freq=3\n"
     ]
    },
    {
     "name": "stderr",
     "output_type": "stream",
     "text": [
      "C:\\Users\\Taras\\Anaconda3\\lib\\site-packages\\lightgbm\\engine.py:151: UserWarning: Found `num_iterations` in params. Will use it instead of argument\n",
      "  warnings.warn(\"Found `{}` in params. Will use it instead of argument\".format(alias))\n"
     ]
    },
    {
     "name": "stdout",
     "output_type": "stream",
     "text": [
      "              precision    recall  f1-score   support\n",
      "\n",
      "           0       0.67      0.68      0.68       584\n",
      "           1       0.55      0.54      0.54       416\n",
      "\n",
      "    accuracy                           0.62      1000\n",
      "   macro avg       0.61      0.61      0.61      1000\n",
      "weighted avg       0.62      0.62      0.62      1000\n",
      "\n",
      "[LightGBM] [Warning] boosting is set=gbdt, boosting_type=gbdt will be ignored. Current value: boosting=gbdt\n",
      "[LightGBM] [Warning] feature_fraction is set=0.9, colsample_bytree=1.0 will be ignored. Current value: feature_fraction=0.9\n",
      "[LightGBM] [Warning] bagging_fraction is set=0.8, subsample=1.0 will be ignored. Current value: bagging_fraction=0.8\n",
      "[LightGBM] [Warning] bagging_freq is set=4, subsample_freq=0 will be ignored. Current value: bagging_freq=4\n"
     ]
    },
    {
     "name": "stderr",
     "output_type": "stream",
     "text": [
      "C:\\Users\\Taras\\Anaconda3\\lib\\site-packages\\lightgbm\\engine.py:151: UserWarning: Found `num_iterations` in params. Will use it instead of argument\n",
      "  warnings.warn(\"Found `{}` in params. Will use it instead of argument\".format(alias))\n"
     ]
    },
    {
     "name": "stdout",
     "output_type": "stream",
     "text": [
      "              precision    recall  f1-score   support\n",
      "\n",
      "           0       0.67      0.67      0.67       584\n",
      "           1       0.54      0.54      0.54       416\n",
      "\n",
      "    accuracy                           0.62      1000\n",
      "   macro avg       0.61      0.61      0.61      1000\n",
      "weighted avg       0.62      0.62      0.62      1000\n",
      "\n",
      "[LightGBM] [Warning] boosting is set=gbdt, boosting_type=gbdt will be ignored. Current value: boosting=gbdt\n",
      "[LightGBM] [Warning] feature_fraction is set=0.8, colsample_bytree=1.0 will be ignored. Current value: feature_fraction=0.8\n",
      "[LightGBM] [Warning] bagging_fraction is set=0.9, subsample=1.0 will be ignored. Current value: bagging_fraction=0.9\n",
      "[LightGBM] [Warning] bagging_freq is set=4, subsample_freq=0 will be ignored. Current value: bagging_freq=4\n"
     ]
    },
    {
     "name": "stderr",
     "output_type": "stream",
     "text": [
      "C:\\Users\\Taras\\Anaconda3\\lib\\site-packages\\lightgbm\\engine.py:151: UserWarning: Found `num_iterations` in params. Will use it instead of argument\n",
      "  warnings.warn(\"Found `{}` in params. Will use it instead of argument\".format(alias))\n"
     ]
    },
    {
     "name": "stdout",
     "output_type": "stream",
     "text": [
      "              precision    recall  f1-score   support\n",
      "\n",
      "           0       0.67      0.68      0.67       584\n",
      "           1       0.54      0.53      0.53       416\n",
      "\n",
      "    accuracy                           0.61      1000\n",
      "   macro avg       0.60      0.60      0.60      1000\n",
      "weighted avg       0.61      0.61      0.61      1000\n",
      "\n",
      "[LightGBM] [Warning] boosting is set=gbdt, boosting_type=gbdt will be ignored. Current value: boosting=gbdt\n",
      "[LightGBM] [Warning] feature_fraction is set=0.8, colsample_bytree=1.0 will be ignored. Current value: feature_fraction=0.8\n",
      "[LightGBM] [Warning] bagging_fraction is set=0.8, subsample=1.0 will be ignored. Current value: bagging_fraction=0.8\n",
      "[LightGBM] [Warning] bagging_freq is set=3, subsample_freq=0 will be ignored. Current value: bagging_freq=3\n"
     ]
    },
    {
     "name": "stderr",
     "output_type": "stream",
     "text": [
      "C:\\Users\\Taras\\Anaconda3\\lib\\site-packages\\lightgbm\\engine.py:151: UserWarning: Found `num_iterations` in params. Will use it instead of argument\n",
      "  warnings.warn(\"Found `{}` in params. Will use it instead of argument\".format(alias))\n"
     ]
    },
    {
     "name": "stdout",
     "output_type": "stream",
     "text": [
      "              precision    recall  f1-score   support\n",
      "\n",
      "           0       0.66      0.68      0.67       584\n",
      "           1       0.53      0.51      0.52       416\n",
      "\n",
      "    accuracy                           0.61      1000\n",
      "   macro avg       0.60      0.60      0.60      1000\n",
      "weighted avg       0.61      0.61      0.61      1000\n",
      "\n",
      "[LightGBM] [Warning] boosting is set=gbdt, boosting_type=gbdt will be ignored. Current value: boosting=gbdt\n",
      "[LightGBM] [Warning] feature_fraction is set=0.9, colsample_bytree=1.0 will be ignored. Current value: feature_fraction=0.9\n",
      "[LightGBM] [Warning] bagging_fraction is set=0.9, subsample=1.0 will be ignored. Current value: bagging_fraction=0.9\n",
      "[LightGBM] [Warning] bagging_freq is set=3, subsample_freq=0 will be ignored. Current value: bagging_freq=3\n"
     ]
    },
    {
     "name": "stderr",
     "output_type": "stream",
     "text": [
      "C:\\Users\\Taras\\Anaconda3\\lib\\site-packages\\lightgbm\\engine.py:151: UserWarning: Found `num_iterations` in params. Will use it instead of argument\n",
      "  warnings.warn(\"Found `{}` in params. Will use it instead of argument\".format(alias))\n"
     ]
    },
    {
     "name": "stdout",
     "output_type": "stream",
     "text": [
      "              precision    recall  f1-score   support\n",
      "\n",
      "           0       0.68      0.69      0.68       584\n",
      "           1       0.55      0.54      0.54       416\n",
      "\n",
      "    accuracy                           0.62      1000\n",
      "   macro avg       0.61      0.61      0.61      1000\n",
      "weighted avg       0.62      0.62      0.62      1000\n",
      "\n",
      "[LightGBM] [Warning] boosting is set=gbdt, boosting_type=gbdt will be ignored. Current value: boosting=gbdt\n",
      "[LightGBM] [Warning] feature_fraction is set=0.9, colsample_bytree=1.0 will be ignored. Current value: feature_fraction=0.9\n",
      "[LightGBM] [Warning] bagging_fraction is set=0.8, subsample=1.0 will be ignored. Current value: bagging_fraction=0.8\n",
      "[LightGBM] [Warning] bagging_freq is set=4, subsample_freq=0 will be ignored. Current value: bagging_freq=4\n"
     ]
    },
    {
     "name": "stderr",
     "output_type": "stream",
     "text": [
      "C:\\Users\\Taras\\Anaconda3\\lib\\site-packages\\lightgbm\\engine.py:151: UserWarning: Found `num_iterations` in params. Will use it instead of argument\n",
      "  warnings.warn(\"Found `{}` in params. Will use it instead of argument\".format(alias))\n"
     ]
    },
    {
     "name": "stdout",
     "output_type": "stream",
     "text": [
      "              precision    recall  f1-score   support\n",
      "\n",
      "           0       0.67      0.68      0.68       584\n",
      "           1       0.55      0.53      0.54       416\n",
      "\n",
      "    accuracy                           0.62      1000\n",
      "   macro avg       0.61      0.61      0.61      1000\n",
      "weighted avg       0.62      0.62      0.62      1000\n",
      "\n",
      "[LightGBM] [Warning] boosting is set=gbdt, boosting_type=gbdt will be ignored. Current value: boosting=gbdt\n",
      "[LightGBM] [Warning] feature_fraction is set=0.9, colsample_bytree=1.0 will be ignored. Current value: feature_fraction=0.9\n",
      "[LightGBM] [Warning] bagging_fraction is set=0.9, subsample=1.0 will be ignored. Current value: bagging_fraction=0.9\n",
      "[LightGBM] [Warning] bagging_freq is set=0, subsample_freq=0 will be ignored. Current value: bagging_freq=0\n"
     ]
    },
    {
     "name": "stderr",
     "output_type": "stream",
     "text": [
      "C:\\Users\\Taras\\Anaconda3\\lib\\site-packages\\lightgbm\\engine.py:151: UserWarning: Found `num_iterations` in params. Will use it instead of argument\n",
      "  warnings.warn(\"Found `{}` in params. Will use it instead of argument\".format(alias))\n"
     ]
    },
    {
     "name": "stdout",
     "output_type": "stream",
     "text": [
      "              precision    recall  f1-score   support\n",
      "\n",
      "           0       0.66      0.67      0.66       584\n",
      "           1       0.53      0.52      0.52       416\n",
      "\n",
      "    accuracy                           0.61      1000\n",
      "   macro avg       0.59      0.59      0.59      1000\n",
      "weighted avg       0.61      0.61      0.61      1000\n",
      "\n",
      "[LightGBM] [Warning] boosting is set=gbdt, boosting_type=gbdt will be ignored. Current value: boosting=gbdt\n",
      "[LightGBM] [Warning] feature_fraction is set=0.8, colsample_bytree=1.0 will be ignored. Current value: feature_fraction=0.8\n",
      "[LightGBM] [Warning] bagging_fraction is set=0.8, subsample=1.0 will be ignored. Current value: bagging_fraction=0.8\n",
      "[LightGBM] [Warning] bagging_freq is set=0, subsample_freq=0 will be ignored. Current value: bagging_freq=0\n"
     ]
    },
    {
     "name": "stderr",
     "output_type": "stream",
     "text": [
      "C:\\Users\\Taras\\Anaconda3\\lib\\site-packages\\lightgbm\\engine.py:151: UserWarning: Found `num_iterations` in params. Will use it instead of argument\n",
      "  warnings.warn(\"Found `{}` in params. Will use it instead of argument\".format(alias))\n"
     ]
    },
    {
     "name": "stdout",
     "output_type": "stream",
     "text": [
      "              precision    recall  f1-score   support\n",
      "\n",
      "           0       0.67      0.69      0.68       584\n",
      "           1       0.54      0.52      0.53       416\n",
      "\n",
      "    accuracy                           0.62      1000\n",
      "   macro avg       0.61      0.60      0.60      1000\n",
      "weighted avg       0.62      0.62      0.62      1000\n",
      "\n",
      "[LightGBM] [Warning] boosting is set=gbdt, boosting_type=gbdt will be ignored. Current value: boosting=gbdt\n",
      "[LightGBM] [Warning] feature_fraction is set=0.9, colsample_bytree=1.0 will be ignored. Current value: feature_fraction=0.9\n",
      "[LightGBM] [Warning] bagging_fraction is set=0.9, subsample=1.0 will be ignored. Current value: bagging_fraction=0.9\n",
      "[LightGBM] [Warning] bagging_freq is set=2, subsample_freq=0 will be ignored. Current value: bagging_freq=2\n"
     ]
    },
    {
     "name": "stderr",
     "output_type": "stream",
     "text": [
      "C:\\Users\\Taras\\Anaconda3\\lib\\site-packages\\lightgbm\\engine.py:151: UserWarning: Found `num_iterations` in params. Will use it instead of argument\n",
      "  warnings.warn(\"Found `{}` in params. Will use it instead of argument\".format(alias))\n"
     ]
    },
    {
     "name": "stdout",
     "output_type": "stream",
     "text": [
      "              precision    recall  f1-score   support\n",
      "\n",
      "           0       0.66      0.67      0.67       584\n",
      "           1       0.53      0.52      0.53       416\n",
      "\n",
      "    accuracy                           0.61      1000\n",
      "   macro avg       0.60      0.60      0.60      1000\n",
      "weighted avg       0.61      0.61      0.61      1000\n",
      "\n",
      "[LightGBM] [Warning] boosting is set=gbdt, boosting_type=gbdt will be ignored. Current value: boosting=gbdt\n",
      "[LightGBM] [Warning] feature_fraction is set=0.9, colsample_bytree=1.0 will be ignored. Current value: feature_fraction=0.9\n",
      "[LightGBM] [Warning] bagging_fraction is set=0.8, subsample=1.0 will be ignored. Current value: bagging_fraction=0.8\n",
      "[LightGBM] [Warning] bagging_freq is set=4, subsample_freq=0 will be ignored. Current value: bagging_freq=4\n"
     ]
    },
    {
     "name": "stderr",
     "output_type": "stream",
     "text": [
      "C:\\Users\\Taras\\Anaconda3\\lib\\site-packages\\lightgbm\\engine.py:151: UserWarning: Found `num_iterations` in params. Will use it instead of argument\n",
      "  warnings.warn(\"Found `{}` in params. Will use it instead of argument\".format(alias))\n"
     ]
    },
    {
     "name": "stdout",
     "output_type": "stream",
     "text": [
      "              precision    recall  f1-score   support\n",
      "\n",
      "           0       0.66      0.67      0.67       584\n",
      "           1       0.53      0.52      0.52       416\n",
      "\n",
      "    accuracy                           0.61      1000\n",
      "   macro avg       0.60      0.60      0.60      1000\n",
      "weighted avg       0.61      0.61      0.61      1000\n",
      "\n",
      "[LightGBM] [Warning] boosting is set=gbdt, boosting_type=gbdt will be ignored. Current value: boosting=gbdt\n",
      "[LightGBM] [Warning] feature_fraction is set=0.8, colsample_bytree=1.0 will be ignored. Current value: feature_fraction=0.8\n",
      "[LightGBM] [Warning] bagging_fraction is set=0.8, subsample=1.0 will be ignored. Current value: bagging_fraction=0.8\n",
      "[LightGBM] [Warning] bagging_freq is set=4, subsample_freq=0 will be ignored. Current value: bagging_freq=4\n"
     ]
    },
    {
     "name": "stderr",
     "output_type": "stream",
     "text": [
      "C:\\Users\\Taras\\Anaconda3\\lib\\site-packages\\lightgbm\\engine.py:151: UserWarning: Found `num_iterations` in params. Will use it instead of argument\n",
      "  warnings.warn(\"Found `{}` in params. Will use it instead of argument\".format(alias))\n"
     ]
    },
    {
     "name": "stdout",
     "output_type": "stream",
     "text": [
      "              precision    recall  f1-score   support\n",
      "\n",
      "           0       0.67      0.66      0.66       584\n",
      "           1       0.53      0.53      0.53       416\n",
      "\n",
      "    accuracy                           0.61      1000\n",
      "   macro avg       0.60      0.60      0.60      1000\n",
      "weighted avg       0.61      0.61      0.61      1000\n",
      "\n",
      "[LightGBM] [Warning] boosting is set=gbdt, boosting_type=gbdt will be ignored. Current value: boosting=gbdt\n",
      "[LightGBM] [Warning] feature_fraction is set=0.8, colsample_bytree=1.0 will be ignored. Current value: feature_fraction=0.8\n",
      "[LightGBM] [Warning] bagging_fraction is set=0.9, subsample=1.0 will be ignored. Current value: bagging_fraction=0.9\n",
      "[LightGBM] [Warning] bagging_freq is set=1, subsample_freq=0 will be ignored. Current value: bagging_freq=1\n"
     ]
    },
    {
     "name": "stderr",
     "output_type": "stream",
     "text": [
      "C:\\Users\\Taras\\Anaconda3\\lib\\site-packages\\lightgbm\\engine.py:151: UserWarning: Found `num_iterations` in params. Will use it instead of argument\n",
      "  warnings.warn(\"Found `{}` in params. Will use it instead of argument\".format(alias))\n"
     ]
    },
    {
     "name": "stdout",
     "output_type": "stream",
     "text": [
      "              precision    recall  f1-score   support\n",
      "\n",
      "           0       0.68      0.69      0.69       584\n",
      "           1       0.56      0.55      0.55       416\n",
      "\n",
      "    accuracy                           0.63      1000\n",
      "   macro avg       0.62      0.62      0.62      1000\n",
      "weighted avg       0.63      0.63      0.63      1000\n",
      "\n",
      "[LightGBM] [Warning] boosting is set=gbdt, boosting_type=gbdt will be ignored. Current value: boosting=gbdt\n",
      "[LightGBM] [Warning] feature_fraction is set=0.9, colsample_bytree=1.0 will be ignored. Current value: feature_fraction=0.9\n",
      "[LightGBM] [Warning] bagging_fraction is set=0.8, subsample=1.0 will be ignored. Current value: bagging_fraction=0.8\n",
      "[LightGBM] [Warning] bagging_freq is set=3, subsample_freq=0 will be ignored. Current value: bagging_freq=3\n"
     ]
    },
    {
     "name": "stderr",
     "output_type": "stream",
     "text": [
      "C:\\Users\\Taras\\Anaconda3\\lib\\site-packages\\lightgbm\\engine.py:151: UserWarning: Found `num_iterations` in params. Will use it instead of argument\n",
      "  warnings.warn(\"Found `{}` in params. Will use it instead of argument\".format(alias))\n"
     ]
    },
    {
     "name": "stdout",
     "output_type": "stream",
     "text": [
      "              precision    recall  f1-score   support\n",
      "\n",
      "           0       0.67      0.69      0.68       584\n",
      "           1       0.54      0.53      0.54       416\n",
      "\n",
      "    accuracy                           0.62      1000\n",
      "   macro avg       0.61      0.61      0.61      1000\n",
      "weighted avg       0.62      0.62      0.62      1000\n",
      "\n",
      "[LightGBM] [Warning] boosting is set=gbdt, boosting_type=gbdt will be ignored. Current value: boosting=gbdt\n",
      "[LightGBM] [Warning] feature_fraction is set=0.8, colsample_bytree=1.0 will be ignored. Current value: feature_fraction=0.8\n",
      "[LightGBM] [Warning] bagging_fraction is set=0.9, subsample=1.0 will be ignored. Current value: bagging_fraction=0.9\n",
      "[LightGBM] [Warning] bagging_freq is set=2, subsample_freq=0 will be ignored. Current value: bagging_freq=2\n"
     ]
    },
    {
     "name": "stderr",
     "output_type": "stream",
     "text": [
      "C:\\Users\\Taras\\Anaconda3\\lib\\site-packages\\lightgbm\\engine.py:151: UserWarning: Found `num_iterations` in params. Will use it instead of argument\n",
      "  warnings.warn(\"Found `{}` in params. Will use it instead of argument\".format(alias))\n"
     ]
    },
    {
     "name": "stdout",
     "output_type": "stream",
     "text": [
      "              precision    recall  f1-score   support\n",
      "\n",
      "           0       0.67      0.67      0.67       584\n",
      "           1       0.53      0.53      0.53       416\n",
      "\n",
      "    accuracy                           0.61      1000\n",
      "   macro avg       0.60      0.60      0.60      1000\n",
      "weighted avg       0.61      0.61      0.61      1000\n",
      "\n",
      "[LightGBM] [Warning] boosting is set=gbdt, boosting_type=gbdt will be ignored. Current value: boosting=gbdt\n",
      "[LightGBM] [Warning] feature_fraction is set=0.9, colsample_bytree=1.0 will be ignored. Current value: feature_fraction=0.9\n",
      "[LightGBM] [Warning] bagging_fraction is set=0.8, subsample=1.0 will be ignored. Current value: bagging_fraction=0.8\n",
      "[LightGBM] [Warning] bagging_freq is set=2, subsample_freq=0 will be ignored. Current value: bagging_freq=2\n"
     ]
    },
    {
     "name": "stderr",
     "output_type": "stream",
     "text": [
      "C:\\Users\\Taras\\Anaconda3\\lib\\site-packages\\lightgbm\\engine.py:151: UserWarning: Found `num_iterations` in params. Will use it instead of argument\n",
      "  warnings.warn(\"Found `{}` in params. Will use it instead of argument\".format(alias))\n"
     ]
    },
    {
     "name": "stdout",
     "output_type": "stream",
     "text": [
      "              precision    recall  f1-score   support\n",
      "\n",
      "           0       0.66      0.67      0.67       584\n",
      "           1       0.53      0.51      0.52       416\n",
      "\n",
      "    accuracy                           0.61      1000\n",
      "   macro avg       0.59      0.59      0.59      1000\n",
      "weighted avg       0.60      0.61      0.61      1000\n",
      "\n",
      "[LightGBM] [Warning] boosting is set=gbdt, boosting_type=gbdt will be ignored. Current value: boosting=gbdt\n",
      "[LightGBM] [Warning] feature_fraction is set=0.9, colsample_bytree=1.0 will be ignored. Current value: feature_fraction=0.9\n",
      "[LightGBM] [Warning] bagging_fraction is set=0.8, subsample=1.0 will be ignored. Current value: bagging_fraction=0.8\n",
      "[LightGBM] [Warning] bagging_freq is set=1, subsample_freq=0 will be ignored. Current value: bagging_freq=1\n"
     ]
    },
    {
     "name": "stderr",
     "output_type": "stream",
     "text": [
      "C:\\Users\\Taras\\Anaconda3\\lib\\site-packages\\lightgbm\\engine.py:151: UserWarning: Found `num_iterations` in params. Will use it instead of argument\n",
      "  warnings.warn(\"Found `{}` in params. Will use it instead of argument\".format(alias))\n"
     ]
    },
    {
     "name": "stdout",
     "output_type": "stream",
     "text": [
      "              precision    recall  f1-score   support\n",
      "\n",
      "           0       0.66      0.66      0.66       584\n",
      "           1       0.53      0.53      0.53       416\n",
      "\n",
      "    accuracy                           0.61      1000\n",
      "   macro avg       0.60      0.60      0.60      1000\n",
      "weighted avg       0.61      0.61      0.61      1000\n",
      "\n",
      "[LightGBM] [Warning] boosting is set=gbdt, boosting_type=gbdt will be ignored. Current value: boosting=gbdt\n",
      "[LightGBM] [Warning] feature_fraction is set=0.9, colsample_bytree=1.0 will be ignored. Current value: feature_fraction=0.9\n",
      "[LightGBM] [Warning] bagging_fraction is set=0.8, subsample=1.0 will be ignored. Current value: bagging_fraction=0.8\n",
      "[LightGBM] [Warning] bagging_freq is set=1, subsample_freq=0 will be ignored. Current value: bagging_freq=1\n"
     ]
    },
    {
     "name": "stderr",
     "output_type": "stream",
     "text": [
      "C:\\Users\\Taras\\Anaconda3\\lib\\site-packages\\lightgbm\\engine.py:151: UserWarning: Found `num_iterations` in params. Will use it instead of argument\n",
      "  warnings.warn(\"Found `{}` in params. Will use it instead of argument\".format(alias))\n"
     ]
    },
    {
     "name": "stdout",
     "output_type": "stream",
     "text": [
      "              precision    recall  f1-score   support\n",
      "\n",
      "           0       0.66      0.66      0.66       584\n",
      "           1       0.52      0.52      0.52       416\n",
      "\n",
      "    accuracy                           0.60      1000\n",
      "   macro avg       0.59      0.59      0.59      1000\n",
      "weighted avg       0.60      0.60      0.60      1000\n",
      "\n",
      "[LightGBM] [Warning] boosting is set=gbdt, boosting_type=gbdt will be ignored. Current value: boosting=gbdt\n",
      "[LightGBM] [Warning] feature_fraction is set=0.8, colsample_bytree=1.0 will be ignored. Current value: feature_fraction=0.8\n",
      "[LightGBM] [Warning] bagging_fraction is set=0.8, subsample=1.0 will be ignored. Current value: bagging_fraction=0.8\n",
      "[LightGBM] [Warning] bagging_freq is set=1, subsample_freq=0 will be ignored. Current value: bagging_freq=1\n"
     ]
    },
    {
     "name": "stderr",
     "output_type": "stream",
     "text": [
      "C:\\Users\\Taras\\Anaconda3\\lib\\site-packages\\lightgbm\\engine.py:151: UserWarning: Found `num_iterations` in params. Will use it instead of argument\n",
      "  warnings.warn(\"Found `{}` in params. Will use it instead of argument\".format(alias))\n"
     ]
    },
    {
     "name": "stdout",
     "output_type": "stream",
     "text": [
      "              precision    recall  f1-score   support\n",
      "\n",
      "           0       0.67      0.67      0.67       584\n",
      "           1       0.54      0.54      0.54       416\n",
      "\n",
      "    accuracy                           0.62      1000\n",
      "   macro avg       0.61      0.61      0.61      1000\n",
      "weighted avg       0.62      0.62      0.62      1000\n",
      "\n",
      "[LightGBM] [Warning] boosting is set=gbdt, boosting_type=gbdt will be ignored. Current value: boosting=gbdt\n",
      "[LightGBM] [Warning] feature_fraction is set=0.8, colsample_bytree=1.0 will be ignored. Current value: feature_fraction=0.8\n",
      "[LightGBM] [Warning] bagging_fraction is set=0.8, subsample=1.0 will be ignored. Current value: bagging_fraction=0.8\n",
      "[LightGBM] [Warning] bagging_freq is set=4, subsample_freq=0 will be ignored. Current value: bagging_freq=4\n"
     ]
    },
    {
     "name": "stderr",
     "output_type": "stream",
     "text": [
      "C:\\Users\\Taras\\Anaconda3\\lib\\site-packages\\lightgbm\\engine.py:151: UserWarning: Found `num_iterations` in params. Will use it instead of argument\n",
      "  warnings.warn(\"Found `{}` in params. Will use it instead of argument\".format(alias))\n"
     ]
    },
    {
     "name": "stdout",
     "output_type": "stream",
     "text": [
      "              precision    recall  f1-score   support\n",
      "\n",
      "           0       0.67      0.68      0.68       584\n",
      "           1       0.54      0.54      0.54       416\n",
      "\n",
      "    accuracy                           0.62      1000\n",
      "   macro avg       0.61      0.61      0.61      1000\n",
      "weighted avg       0.62      0.62      0.62      1000\n",
      "\n",
      "[LightGBM] [Warning] boosting is set=gbdt, boosting_type=gbdt will be ignored. Current value: boosting=gbdt\n",
      "[LightGBM] [Warning] feature_fraction is set=0.9, colsample_bytree=1.0 will be ignored. Current value: feature_fraction=0.9\n",
      "[LightGBM] [Warning] bagging_fraction is set=0.9, subsample=1.0 will be ignored. Current value: bagging_fraction=0.9\n",
      "[LightGBM] [Warning] bagging_freq is set=4, subsample_freq=0 will be ignored. Current value: bagging_freq=4\n"
     ]
    },
    {
     "name": "stderr",
     "output_type": "stream",
     "text": [
      "C:\\Users\\Taras\\Anaconda3\\lib\\site-packages\\lightgbm\\engine.py:151: UserWarning: Found `num_iterations` in params. Will use it instead of argument\n",
      "  warnings.warn(\"Found `{}` in params. Will use it instead of argument\".format(alias))\n"
     ]
    },
    {
     "name": "stdout",
     "output_type": "stream",
     "text": [
      "              precision    recall  f1-score   support\n",
      "\n",
      "           0       0.67      0.68      0.68       584\n",
      "           1       0.54      0.53      0.54       416\n",
      "\n",
      "    accuracy                           0.62      1000\n",
      "   macro avg       0.61      0.61      0.61      1000\n",
      "weighted avg       0.62      0.62      0.62      1000\n",
      "\n",
      "[LightGBM] [Warning] boosting is set=gbdt, boosting_type=gbdt will be ignored. Current value: boosting=gbdt\n",
      "[LightGBM] [Warning] feature_fraction is set=0.8, colsample_bytree=1.0 will be ignored. Current value: feature_fraction=0.8\n",
      "[LightGBM] [Warning] bagging_fraction is set=0.9, subsample=1.0 will be ignored. Current value: bagging_fraction=0.9\n",
      "[LightGBM] [Warning] bagging_freq is set=3, subsample_freq=0 will be ignored. Current value: bagging_freq=3\n"
     ]
    },
    {
     "name": "stderr",
     "output_type": "stream",
     "text": [
      "C:\\Users\\Taras\\Anaconda3\\lib\\site-packages\\lightgbm\\engine.py:151: UserWarning: Found `num_iterations` in params. Will use it instead of argument\n",
      "  warnings.warn(\"Found `{}` in params. Will use it instead of argument\".format(alias))\n"
     ]
    },
    {
     "name": "stdout",
     "output_type": "stream",
     "text": [
      "              precision    recall  f1-score   support\n",
      "\n",
      "           0       0.67      0.67      0.67       584\n",
      "           1       0.54      0.55      0.54       416\n",
      "\n",
      "    accuracy                           0.62      1000\n",
      "   macro avg       0.61      0.61      0.61      1000\n",
      "weighted avg       0.62      0.62      0.62      1000\n",
      "\n",
      "[LightGBM] [Warning] boosting is set=gbdt, boosting_type=gbdt will be ignored. Current value: boosting=gbdt\n",
      "[LightGBM] [Warning] feature_fraction is set=0.9, colsample_bytree=1.0 will be ignored. Current value: feature_fraction=0.9\n",
      "[LightGBM] [Warning] bagging_fraction is set=0.8, subsample=1.0 will be ignored. Current value: bagging_fraction=0.8\n",
      "[LightGBM] [Warning] bagging_freq is set=3, subsample_freq=0 will be ignored. Current value: bagging_freq=3\n"
     ]
    },
    {
     "name": "stderr",
     "output_type": "stream",
     "text": [
      "C:\\Users\\Taras\\Anaconda3\\lib\\site-packages\\lightgbm\\engine.py:151: UserWarning: Found `num_iterations` in params. Will use it instead of argument\n",
      "  warnings.warn(\"Found `{}` in params. Will use it instead of argument\".format(alias))\n"
     ]
    },
    {
     "name": "stdout",
     "output_type": "stream",
     "text": [
      "              precision    recall  f1-score   support\n",
      "\n",
      "           0       0.65      0.68      0.66       584\n",
      "           1       0.52      0.49      0.50       416\n",
      "\n",
      "    accuracy                           0.60      1000\n",
      "   macro avg       0.58      0.58      0.58      1000\n",
      "weighted avg       0.59      0.60      0.59      1000\n",
      "\n",
      "[LightGBM] [Warning] boosting is set=gbdt, boosting_type=gbdt will be ignored. Current value: boosting=gbdt\n",
      "[LightGBM] [Warning] feature_fraction is set=0.9, colsample_bytree=1.0 will be ignored. Current value: feature_fraction=0.9\n",
      "[LightGBM] [Warning] bagging_fraction is set=0.8, subsample=1.0 will be ignored. Current value: bagging_fraction=0.8\n",
      "[LightGBM] [Warning] bagging_freq is set=3, subsample_freq=0 will be ignored. Current value: bagging_freq=3\n"
     ]
    },
    {
     "name": "stderr",
     "output_type": "stream",
     "text": [
      "C:\\Users\\Taras\\Anaconda3\\lib\\site-packages\\lightgbm\\engine.py:151: UserWarning: Found `num_iterations` in params. Will use it instead of argument\n",
      "  warnings.warn(\"Found `{}` in params. Will use it instead of argument\".format(alias))\n"
     ]
    },
    {
     "name": "stdout",
     "output_type": "stream",
     "text": [
      "              precision    recall  f1-score   support\n",
      "\n",
      "           0       0.67      0.68      0.67       584\n",
      "           1       0.54      0.52      0.53       416\n",
      "\n",
      "    accuracy                           0.61      1000\n",
      "   macro avg       0.60      0.60      0.60      1000\n",
      "weighted avg       0.61      0.61      0.61      1000\n",
      "\n",
      "[LightGBM] [Warning] boosting is set=gbdt, boosting_type=gbdt will be ignored. Current value: boosting=gbdt\n",
      "[LightGBM] [Warning] feature_fraction is set=0.9, colsample_bytree=1.0 will be ignored. Current value: feature_fraction=0.9\n",
      "[LightGBM] [Warning] bagging_fraction is set=0.9, subsample=1.0 will be ignored. Current value: bagging_fraction=0.9\n",
      "[LightGBM] [Warning] bagging_freq is set=4, subsample_freq=0 will be ignored. Current value: bagging_freq=4\n"
     ]
    },
    {
     "name": "stderr",
     "output_type": "stream",
     "text": [
      "C:\\Users\\Taras\\Anaconda3\\lib\\site-packages\\lightgbm\\engine.py:151: UserWarning: Found `num_iterations` in params. Will use it instead of argument\n",
      "  warnings.warn(\"Found `{}` in params. Will use it instead of argument\".format(alias))\n"
     ]
    },
    {
     "name": "stdout",
     "output_type": "stream",
     "text": [
      "              precision    recall  f1-score   support\n",
      "\n",
      "           0       0.67      0.67      0.67       584\n",
      "           1       0.53      0.53      0.53       416\n",
      "\n",
      "    accuracy                           0.61      1000\n",
      "   macro avg       0.60      0.60      0.60      1000\n",
      "weighted avg       0.61      0.61      0.61      1000\n",
      "\n",
      "[LightGBM] [Warning] boosting is set=gbdt, boosting_type=gbdt will be ignored. Current value: boosting=gbdt\n",
      "[LightGBM] [Warning] feature_fraction is set=0.9, colsample_bytree=1.0 will be ignored. Current value: feature_fraction=0.9\n",
      "[LightGBM] [Warning] bagging_fraction is set=0.9, subsample=1.0 will be ignored. Current value: bagging_fraction=0.9\n",
      "[LightGBM] [Warning] bagging_freq is set=2, subsample_freq=0 will be ignored. Current value: bagging_freq=2\n"
     ]
    },
    {
     "name": "stderr",
     "output_type": "stream",
     "text": [
      "C:\\Users\\Taras\\Anaconda3\\lib\\site-packages\\lightgbm\\engine.py:151: UserWarning: Found `num_iterations` in params. Will use it instead of argument\n",
      "  warnings.warn(\"Found `{}` in params. Will use it instead of argument\".format(alias))\n"
     ]
    },
    {
     "name": "stdout",
     "output_type": "stream",
     "text": [
      "              precision    recall  f1-score   support\n",
      "\n",
      "           0       0.67      0.68      0.67       584\n",
      "           1       0.54      0.52      0.53       416\n",
      "\n",
      "    accuracy                           0.61      1000\n",
      "   macro avg       0.60      0.60      0.60      1000\n",
      "weighted avg       0.61      0.61      0.61      1000\n",
      "\n",
      "[LightGBM] [Warning] boosting is set=gbdt, boosting_type=gbdt will be ignored. Current value: boosting=gbdt\n",
      "[LightGBM] [Warning] feature_fraction is set=0.9, colsample_bytree=1.0 will be ignored. Current value: feature_fraction=0.9\n",
      "[LightGBM] [Warning] bagging_fraction is set=0.8, subsample=1.0 will be ignored. Current value: bagging_fraction=0.8\n",
      "[LightGBM] [Warning] bagging_freq is set=3, subsample_freq=0 will be ignored. Current value: bagging_freq=3\n"
     ]
    },
    {
     "name": "stderr",
     "output_type": "stream",
     "text": [
      "C:\\Users\\Taras\\Anaconda3\\lib\\site-packages\\lightgbm\\engine.py:151: UserWarning: Found `num_iterations` in params. Will use it instead of argument\n",
      "  warnings.warn(\"Found `{}` in params. Will use it instead of argument\".format(alias))\n"
     ]
    },
    {
     "name": "stdout",
     "output_type": "stream",
     "text": [
      "              precision    recall  f1-score   support\n",
      "\n",
      "           0       0.66      0.68      0.67       584\n",
      "           1       0.53      0.51      0.52       416\n",
      "\n",
      "    accuracy                           0.61      1000\n",
      "   macro avg       0.59      0.59      0.59      1000\n",
      "weighted avg       0.61      0.61      0.61      1000\n",
      "\n",
      "[LightGBM] [Warning] boosting is set=gbdt, boosting_type=gbdt will be ignored. Current value: boosting=gbdt\n",
      "[LightGBM] [Warning] feature_fraction is set=0.8, colsample_bytree=1.0 will be ignored. Current value: feature_fraction=0.8\n",
      "[LightGBM] [Warning] bagging_fraction is set=0.9, subsample=1.0 will be ignored. Current value: bagging_fraction=0.9\n",
      "[LightGBM] [Warning] bagging_freq is set=0, subsample_freq=0 will be ignored. Current value: bagging_freq=0\n"
     ]
    },
    {
     "name": "stderr",
     "output_type": "stream",
     "text": [
      "C:\\Users\\Taras\\Anaconda3\\lib\\site-packages\\lightgbm\\engine.py:151: UserWarning: Found `num_iterations` in params. Will use it instead of argument\n",
      "  warnings.warn(\"Found `{}` in params. Will use it instead of argument\".format(alias))\n"
     ]
    },
    {
     "name": "stdout",
     "output_type": "stream",
     "text": [
      "              precision    recall  f1-score   support\n",
      "\n",
      "           0       0.68      0.70      0.69       584\n",
      "           1       0.56      0.54      0.55       416\n",
      "\n",
      "    accuracy                           0.63      1000\n",
      "   macro avg       0.62      0.62      0.62      1000\n",
      "weighted avg       0.63      0.63      0.63      1000\n",
      "\n",
      "[LightGBM] [Warning] boosting is set=gbdt, boosting_type=gbdt will be ignored. Current value: boosting=gbdt\n",
      "[LightGBM] [Warning] feature_fraction is set=0.8, colsample_bytree=1.0 will be ignored. Current value: feature_fraction=0.8\n",
      "[LightGBM] [Warning] bagging_fraction is set=0.8, subsample=1.0 will be ignored. Current value: bagging_fraction=0.8\n",
      "[LightGBM] [Warning] bagging_freq is set=3, subsample_freq=0 will be ignored. Current value: bagging_freq=3\n"
     ]
    },
    {
     "name": "stderr",
     "output_type": "stream",
     "text": [
      "C:\\Users\\Taras\\Anaconda3\\lib\\site-packages\\lightgbm\\engine.py:151: UserWarning: Found `num_iterations` in params. Will use it instead of argument\n",
      "  warnings.warn(\"Found `{}` in params. Will use it instead of argument\".format(alias))\n"
     ]
    },
    {
     "name": "stdout",
     "output_type": "stream",
     "text": [
      "              precision    recall  f1-score   support\n",
      "\n",
      "           0       0.67      0.69      0.68       584\n",
      "           1       0.55      0.53      0.54       416\n",
      "\n",
      "    accuracy                           0.62      1000\n",
      "   macro avg       0.61      0.61      0.61      1000\n",
      "weighted avg       0.62      0.62      0.62      1000\n",
      "\n",
      "[LightGBM] [Warning] boosting is set=gbdt, boosting_type=gbdt will be ignored. Current value: boosting=gbdt\n",
      "[LightGBM] [Warning] feature_fraction is set=0.8, colsample_bytree=1.0 will be ignored. Current value: feature_fraction=0.8\n",
      "[LightGBM] [Warning] bagging_fraction is set=0.9, subsample=1.0 will be ignored. Current value: bagging_fraction=0.9\n",
      "[LightGBM] [Warning] bagging_freq is set=4, subsample_freq=0 will be ignored. Current value: bagging_freq=4\n"
     ]
    },
    {
     "name": "stderr",
     "output_type": "stream",
     "text": [
      "C:\\Users\\Taras\\Anaconda3\\lib\\site-packages\\lightgbm\\engine.py:151: UserWarning: Found `num_iterations` in params. Will use it instead of argument\n",
      "  warnings.warn(\"Found `{}` in params. Will use it instead of argument\".format(alias))\n"
     ]
    },
    {
     "name": "stdout",
     "output_type": "stream",
     "text": [
      "              precision    recall  f1-score   support\n",
      "\n",
      "           0       0.68      0.68      0.68       584\n",
      "           1       0.55      0.55      0.55       416\n",
      "\n",
      "    accuracy                           0.63      1000\n",
      "   macro avg       0.62      0.62      0.62      1000\n",
      "weighted avg       0.63      0.63      0.63      1000\n",
      "\n",
      "[LightGBM] [Warning] boosting is set=gbdt, boosting_type=gbdt will be ignored. Current value: boosting=gbdt\n",
      "[LightGBM] [Warning] feature_fraction is set=0.9, colsample_bytree=1.0 will be ignored. Current value: feature_fraction=0.9\n",
      "[LightGBM] [Warning] bagging_fraction is set=0.9, subsample=1.0 will be ignored. Current value: bagging_fraction=0.9\n",
      "[LightGBM] [Warning] bagging_freq is set=2, subsample_freq=0 will be ignored. Current value: bagging_freq=2\n"
     ]
    },
    {
     "name": "stderr",
     "output_type": "stream",
     "text": [
      "C:\\Users\\Taras\\Anaconda3\\lib\\site-packages\\lightgbm\\engine.py:151: UserWarning: Found `num_iterations` in params. Will use it instead of argument\n",
      "  warnings.warn(\"Found `{}` in params. Will use it instead of argument\".format(alias))\n"
     ]
    },
    {
     "name": "stdout",
     "output_type": "stream",
     "text": [
      "              precision    recall  f1-score   support\n",
      "\n",
      "           0       0.66      0.67      0.67       584\n",
      "           1       0.53      0.52      0.53       416\n",
      "\n",
      "    accuracy                           0.61      1000\n",
      "   macro avg       0.60      0.60      0.60      1000\n",
      "weighted avg       0.61      0.61      0.61      1000\n",
      "\n",
      "[LightGBM] [Warning] boosting is set=gbdt, boosting_type=gbdt will be ignored. Current value: boosting=gbdt\n",
      "[LightGBM] [Warning] feature_fraction is set=0.9, colsample_bytree=1.0 will be ignored. Current value: feature_fraction=0.9\n",
      "[LightGBM] [Warning] bagging_fraction is set=0.8, subsample=1.0 will be ignored. Current value: bagging_fraction=0.8\n",
      "[LightGBM] [Warning] bagging_freq is set=0, subsample_freq=0 will be ignored. Current value: bagging_freq=0\n"
     ]
    },
    {
     "name": "stderr",
     "output_type": "stream",
     "text": [
      "C:\\Users\\Taras\\Anaconda3\\lib\\site-packages\\lightgbm\\engine.py:151: UserWarning: Found `num_iterations` in params. Will use it instead of argument\n",
      "  warnings.warn(\"Found `{}` in params. Will use it instead of argument\".format(alias))\n"
     ]
    },
    {
     "name": "stdout",
     "output_type": "stream",
     "text": [
      "              precision    recall  f1-score   support\n",
      "\n",
      "           0       0.67      0.67      0.67       584\n",
      "           1       0.54      0.53      0.54       416\n",
      "\n",
      "    accuracy                           0.61      1000\n",
      "   macro avg       0.60      0.60      0.60      1000\n",
      "weighted avg       0.61      0.61      0.61      1000\n",
      "\n",
      "[LightGBM] [Warning] boosting is set=gbdt, boosting_type=gbdt will be ignored. Current value: boosting=gbdt\n",
      "[LightGBM] [Warning] feature_fraction is set=0.9, colsample_bytree=1.0 will be ignored. Current value: feature_fraction=0.9\n",
      "[LightGBM] [Warning] bagging_fraction is set=0.9, subsample=1.0 will be ignored. Current value: bagging_fraction=0.9\n",
      "[LightGBM] [Warning] bagging_freq is set=3, subsample_freq=0 will be ignored. Current value: bagging_freq=3\n"
     ]
    },
    {
     "name": "stderr",
     "output_type": "stream",
     "text": [
      "C:\\Users\\Taras\\Anaconda3\\lib\\site-packages\\lightgbm\\engine.py:151: UserWarning: Found `num_iterations` in params. Will use it instead of argument\n",
      "  warnings.warn(\"Found `{}` in params. Will use it instead of argument\".format(alias))\n"
     ]
    },
    {
     "name": "stdout",
     "output_type": "stream",
     "text": [
      "              precision    recall  f1-score   support\n",
      "\n",
      "           0       0.68      0.69      0.68       584\n",
      "           1       0.55      0.54      0.55       416\n",
      "\n",
      "    accuracy                           0.63      1000\n",
      "   macro avg       0.61      0.61      0.61      1000\n",
      "weighted avg       0.62      0.63      0.63      1000\n",
      "\n",
      "[LightGBM] [Warning] boosting is set=gbdt, boosting_type=gbdt will be ignored. Current value: boosting=gbdt\n",
      "[LightGBM] [Warning] feature_fraction is set=0.9, colsample_bytree=1.0 will be ignored. Current value: feature_fraction=0.9\n",
      "[LightGBM] [Warning] bagging_fraction is set=0.8, subsample=1.0 will be ignored. Current value: bagging_fraction=0.8\n",
      "[LightGBM] [Warning] bagging_freq is set=1, subsample_freq=0 will be ignored. Current value: bagging_freq=1\n"
     ]
    },
    {
     "name": "stderr",
     "output_type": "stream",
     "text": [
      "C:\\Users\\Taras\\Anaconda3\\lib\\site-packages\\lightgbm\\engine.py:151: UserWarning: Found `num_iterations` in params. Will use it instead of argument\n",
      "  warnings.warn(\"Found `{}` in params. Will use it instead of argument\".format(alias))\n"
     ]
    },
    {
     "name": "stdout",
     "output_type": "stream",
     "text": [
      "              precision    recall  f1-score   support\n",
      "\n",
      "           0       0.65      0.65      0.65       584\n",
      "           1       0.51      0.52      0.52       416\n",
      "\n",
      "    accuracy                           0.60      1000\n",
      "   macro avg       0.58      0.58      0.58      1000\n",
      "weighted avg       0.60      0.60      0.60      1000\n",
      "\n",
      "[LightGBM] [Warning] boosting is set=gbdt, boosting_type=gbdt will be ignored. Current value: boosting=gbdt\n",
      "[LightGBM] [Warning] feature_fraction is set=0.9, colsample_bytree=1.0 will be ignored. Current value: feature_fraction=0.9\n",
      "[LightGBM] [Warning] bagging_fraction is set=0.9, subsample=1.0 will be ignored. Current value: bagging_fraction=0.9\n",
      "[LightGBM] [Warning] bagging_freq is set=4, subsample_freq=0 will be ignored. Current value: bagging_freq=4\n"
     ]
    },
    {
     "name": "stderr",
     "output_type": "stream",
     "text": [
      "C:\\Users\\Taras\\Anaconda3\\lib\\site-packages\\lightgbm\\engine.py:151: UserWarning: Found `num_iterations` in params. Will use it instead of argument\n",
      "  warnings.warn(\"Found `{}` in params. Will use it instead of argument\".format(alias))\n"
     ]
    },
    {
     "name": "stdout",
     "output_type": "stream",
     "text": [
      "              precision    recall  f1-score   support\n",
      "\n",
      "           0       0.66      0.68      0.67       584\n",
      "           1       0.54      0.52      0.53       416\n",
      "\n",
      "    accuracy                           0.61      1000\n",
      "   macro avg       0.60      0.60      0.60      1000\n",
      "weighted avg       0.61      0.61      0.61      1000\n",
      "\n",
      "[LightGBM] [Warning] boosting is set=gbdt, boosting_type=gbdt will be ignored. Current value: boosting=gbdt\n",
      "[LightGBM] [Warning] feature_fraction is set=0.9, colsample_bytree=1.0 will be ignored. Current value: feature_fraction=0.9\n",
      "[LightGBM] [Warning] bagging_fraction is set=0.9, subsample=1.0 will be ignored. Current value: bagging_fraction=0.9\n",
      "[LightGBM] [Warning] bagging_freq is set=0, subsample_freq=0 will be ignored. Current value: bagging_freq=0\n"
     ]
    },
    {
     "name": "stderr",
     "output_type": "stream",
     "text": [
      "C:\\Users\\Taras\\Anaconda3\\lib\\site-packages\\lightgbm\\engine.py:151: UserWarning: Found `num_iterations` in params. Will use it instead of argument\n",
      "  warnings.warn(\"Found `{}` in params. Will use it instead of argument\".format(alias))\n"
     ]
    },
    {
     "name": "stdout",
     "output_type": "stream",
     "text": [
      "              precision    recall  f1-score   support\n",
      "\n",
      "           0       0.67      0.69      0.68       584\n",
      "           1       0.55      0.52      0.53       416\n",
      "\n",
      "    accuracy                           0.62      1000\n",
      "   macro avg       0.61      0.61      0.61      1000\n",
      "weighted avg       0.62      0.62      0.62      1000\n",
      "\n",
      "[LightGBM] [Warning] boosting is set=gbdt, boosting_type=gbdt will be ignored. Current value: boosting=gbdt\n",
      "[LightGBM] [Warning] feature_fraction is set=0.9, colsample_bytree=1.0 will be ignored. Current value: feature_fraction=0.9\n",
      "[LightGBM] [Warning] bagging_fraction is set=0.9, subsample=1.0 will be ignored. Current value: bagging_fraction=0.9\n",
      "[LightGBM] [Warning] bagging_freq is set=3, subsample_freq=0 will be ignored. Current value: bagging_freq=3\n"
     ]
    },
    {
     "name": "stderr",
     "output_type": "stream",
     "text": [
      "C:\\Users\\Taras\\Anaconda3\\lib\\site-packages\\lightgbm\\engine.py:151: UserWarning: Found `num_iterations` in params. Will use it instead of argument\n",
      "  warnings.warn(\"Found `{}` in params. Will use it instead of argument\".format(alias))\n"
     ]
    },
    {
     "name": "stdout",
     "output_type": "stream",
     "text": [
      "              precision    recall  f1-score   support\n",
      "\n",
      "           0       0.68      0.69      0.68       584\n",
      "           1       0.55      0.54      0.55       416\n",
      "\n",
      "    accuracy                           0.63      1000\n",
      "   macro avg       0.61      0.61      0.61      1000\n",
      "weighted avg       0.62      0.63      0.63      1000\n",
      "\n",
      "Best evaluation MAE 0.367\n"
     ]
    }
   ],
   "source": [
    "param_grid = {\n",
    "    'num_leaves': [60, 80],\n",
    "    'n_estimators': [200, 400], #default class*iteration=2*100\n",
    "    'bagging_freq': 5,\n",
    "    'bagging_fraction' : [0.8, 0.9],  # subsample\n",
    "    'feature_fraction' : [0.8, 0.9],  # colsample_bytree\n",
    "    'reg_alpha': [0.2, 0.6, 0.8],\n",
    "    'reg_lambda': [0.4, 0.6, 0.8]\n",
    "}\n",
    "\n",
    "print('Tuning begins...')\n",
    "best_eval_score = 0\n",
    "for i in range(50):\n",
    "    params = {k: np.random.choice(v) for k, v in param_grid.items()}\n",
    "    #score = evaluate_model(df, bin_target, train_index2, val_index, params)\n",
    "    score = score_dataset_lgb(X_train, X_val, y_train, y_val, params)\n",
    "    if score < best_eval_score or best_eval_score == 0:\n",
    "        best_eval_score = score\n",
    "        best_params = params\n",
    "print(\"Best evaluation MAE\", best_eval_score)"
   ]
  },
  {
   "cell_type": "code",
   "execution_count": 115,
   "metadata": {},
   "outputs": [
    {
     "data": {
      "text/plain": [
       "{'num_leaves': 60,\n",
       " 'n_estimators': 400,\n",
       " 'bagging_freq': 1,\n",
       " 'bagging_fraction': 0.9,\n",
       " 'feature_fraction': 0.8,\n",
       " 'reg_alpha': 0.2,\n",
       " 'reg_lambda': 0.6}"
      ]
     },
     "execution_count": 115,
     "metadata": {},
     "output_type": "execute_result"
    }
   ],
   "source": [
    "best_params"
   ]
  },
  {
   "cell_type": "code",
   "execution_count": 120,
   "metadata": {},
   "outputs": [],
   "source": [
    "lgb_best = LGBMClassifier(objective ='binary',\n",
    "                       boosting ='gbdt', #dart\n",
    "                       n_jobs = -1,\n",
    "                       max_depth = 8,\n",
    "                       num_iterations = 200,\n",
    "                       learning_rate = 0.05,\n",
    "                       num_leaves= 60,\n",
    "                         n_estimators = 400,\n",
    "                         bagging_freq = 1,\n",
    "                         bagging_fraction = 0.9,\n",
    "                         feature_fraction = 0.8,\n",
    "                         reg_alpha = 0.2,\n",
    "                         reg_lambda = 0.6)"
   ]
  },
  {
   "cell_type": "code",
   "execution_count": 121,
   "metadata": {},
   "outputs": [
    {
     "name": "stderr",
     "output_type": "stream",
     "text": [
      "C:\\Users\\Taras\\Anaconda3\\lib\\site-packages\\lightgbm\\engine.py:151: UserWarning: Found `num_iterations` in params. Will use it instead of argument\n",
      "  warnings.warn(\"Found `{}` in params. Will use it instead of argument\".format(alias))\n"
     ]
    },
    {
     "name": "stdout",
     "output_type": "stream",
     "text": [
      "[LightGBM] [Warning] boosting is set=gbdt, boosting_type=gbdt will be ignored. Current value: boosting=gbdt\n",
      "[LightGBM] [Warning] feature_fraction is set=0.8, colsample_bytree=1.0 will be ignored. Current value: feature_fraction=0.8\n",
      "[LightGBM] [Warning] bagging_fraction is set=0.9, subsample=1.0 will be ignored. Current value: bagging_fraction=0.9\n",
      "[LightGBM] [Warning] bagging_freq is set=1, subsample_freq=0 will be ignored. Current value: bagging_freq=1\n",
      "              precision    recall  f1-score   support\n",
      "\n",
      "           0       0.68      0.69      0.69       584\n",
      "           1       0.56      0.55      0.55       416\n",
      "\n",
      "    accuracy                           0.63      1000\n",
      "   macro avg       0.62      0.62      0.62      1000\n",
      "weighted avg       0.63      0.63      0.63      1000\n",
      "\n"
     ]
    },
    {
     "data": {
      "text/plain": [
       "0.367"
      ]
     },
     "execution_count": 121,
     "metadata": {},
     "output_type": "execute_result"
    }
   ],
   "source": [
    "score_dataset(lgb_best, X_train, X_val, y_train, y_val)\n"
   ]
  },
  {
   "cell_type": "markdown",
   "metadata": {},
   "source": [
    "### The best model\n",
    "\n",
    "According to the classification reports, the best model that predicts succesfull trades is happened to be logistic regression.\n",
    "Now, save this model using `pickle`"
   ]
  },
  {
   "cell_type": "code",
   "execution_count": 97,
   "metadata": {},
   "outputs": [
    {
     "name": "stderr",
     "output_type": "stream",
     "text": [
      "C:\\Users\\Taras\\Anaconda3\\lib\\site-packages\\sklearn\\linear_model\\logistic.py:432: FutureWarning: Default solver will be changed to 'lbfgs' in 0.22. Specify a solver to silence this warning.\n",
      "  FutureWarning)\n"
     ]
    },
    {
     "data": {
      "text/plain": [
       "LogisticRegression(C=1.0, class_weight=None, dual=False, fit_intercept=True,\n",
       "                   intercept_scaling=1, l1_ratio=None, max_iter=100,\n",
       "                   multi_class='warn', n_jobs=None, penalty='l2',\n",
       "                   random_state=None, solver='warn', tol=0.0001, verbose=0,\n",
       "                   warm_start=False)"
      ]
     },
     "execution_count": 97,
     "metadata": {},
     "output_type": "execute_result"
    }
   ],
   "source": [
    "# let's train the model again:\n",
    "logmodel_basic = LogisticRegression(solver='warn')\n",
    "logmodel_basic.fit(X_train, y_train)\n"
   ]
  },
  {
   "cell_type": "code",
   "execution_count": 98,
   "metadata": {},
   "outputs": [],
   "source": [
    "# Save pre-trained model:\n",
    "# with open('logregression.pickle', 'wb') as f:\n",
    "#     pickle.dump(logmodel_basic, f)"
   ]
  },
  {
   "cell_type": "code",
   "execution_count": 122,
   "metadata": {},
   "outputs": [],
   "source": [
    "#Save pre-trained model:\n",
    "# with open('lgb_best.pickle', 'wb') as f:\n",
    "#     pickle.dump(lgb_best, f)"
   ]
  },
  {
   "cell_type": "code",
   "execution_count": 124,
   "metadata": {},
   "outputs": [],
   "source": [
    "#Save pre-trained model:\n",
    "# with open('logregression_vol.pickle', 'wb') as f:\n",
    "#     pickle.dump(logmodel_basic, f)"
   ]
  },
  {
   "cell_type": "code",
   "execution_count": 130,
   "metadata": {},
   "outputs": [],
   "source": [
    "with open('xgboost_vol.pickle', 'wb') as f:\n",
    "    pickle.dump(XGB_basic, f)"
   ]
  },
  {
   "cell_type": "code",
   "execution_count": 3,
   "metadata": {},
   "outputs": [],
   "source": [
    "# Open pre-trained model:\n",
    "#pickle_in = open('logregression_vol.pickle', 'rb')\n",
    "pickle_in = open('xgboost_vol.pickle', 'rb')\n",
    "logmodel_loaded = pickle.load(pickle_in)"
   ]
  },
  {
   "cell_type": "code",
   "execution_count": null,
   "metadata": {},
   "outputs": [],
   "source": []
  },
  {
   "cell_type": "code",
   "execution_count": 132,
   "metadata": {},
   "outputs": [
    {
     "name": "stdout",
     "output_type": "stream",
     "text": [
      "              precision    recall  f1-score   support\n",
      "\n",
      "           0       0.68      0.70      0.69       584\n",
      "           1       0.56      0.53      0.54       416\n",
      "\n",
      "    accuracy                           0.63      1000\n",
      "   macro avg       0.62      0.62      0.62      1000\n",
      "weighted avg       0.63      0.63      0.63      1000\n",
      "\n"
     ]
    },
    {
     "data": {
      "text/plain": [
       "0.37"
      ]
     },
     "execution_count": 132,
     "metadata": {},
     "output_type": "execute_result"
    }
   ],
   "source": [
    "# Check if loaded model shows the same results:\n",
    "score_dataset(logmodel_loaded, X_train, X_val, y_train, y_val)"
   ]
  },
  {
   "cell_type": "markdown",
   "metadata": {},
   "source": [
    "<b> Note. </b> `XGBoost` shows better accuracy in general, but it better predicts loosing trades rather than succesfull. "
   ]
  },
  {
   "cell_type": "code",
   "execution_count": 128,
   "metadata": {},
   "outputs": [],
   "source": [
    "#logmodel_loaded.predict(X_val.iloc[-1])"
   ]
  },
  {
   "cell_type": "code",
   "execution_count": 129,
   "metadata": {},
   "outputs": [
    {
     "data": {
      "text/plain": [
       "0"
      ]
     },
     "execution_count": 129,
     "metadata": {},
     "output_type": "execute_result"
    }
   ],
   "source": [
    "logmodel_loaded.predict( np.array(X_val.iloc[-1]).reshape(1, -1) )[-1]"
   ]
  },
  {
   "cell_type": "code",
   "execution_count": null,
   "metadata": {},
   "outputs": [],
   "source": [
    "X_val.iloc[-1]"
   ]
  },
  {
   "cell_type": "code",
   "execution_count": null,
   "metadata": {},
   "outputs": [],
   "source": [
    "[0 for _ in range(27)]"
   ]
  },
  {
   "cell_type": "code",
   "execution_count": null,
   "metadata": {},
   "outputs": [],
   "source": []
  },
  {
   "cell_type": "code",
   "execution_count": null,
   "metadata": {},
   "outputs": [],
   "source": []
  }
 ],
 "metadata": {
  "kernelspec": {
   "display_name": "Python 3",
   "language": "python",
   "name": "python3"
  },
  "language_info": {
   "codemirror_mode": {
    "name": "ipython",
    "version": 3
   },
   "file_extension": ".py",
   "mimetype": "text/x-python",
   "name": "python",
   "nbconvert_exporter": "python",
   "pygments_lexer": "ipython3",
   "version": "3.7.4"
  }
 },
 "nbformat": 4,
 "nbformat_minor": 2
}
