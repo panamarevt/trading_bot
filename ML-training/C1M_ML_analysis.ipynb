{
 "cells": [
  {
   "cell_type": "code",
   "execution_count": 1,
   "metadata": {},
   "outputs": [],
   "source": [
    "import numpy as np\n",
    "import pandas as pd\n",
    "import matplotlib.pyplot as plt\n",
    "\n",
    "# Import ML libraries\n",
    "from sklearn.ensemble import RandomForestClassifier\n",
    "from sklearn.metrics import mean_absolute_error, classification_report\n",
    "from sklearn.model_selection import train_test_split\n",
    "from sklearn.linear_model import LogisticRegression\n",
    "from sklearn import preprocessing\n",
    "from xgboost import XGBClassifier\n",
    "\n",
    "import pickle # to save and load pre-trained models"
   ]
  },
  {
   "cell_type": "code",
   "execution_count": 2,
   "metadata": {},
   "outputs": [],
   "source": [
    "%matplotlib inline"
   ]
  },
  {
   "cell_type": "code",
   "execution_count": 3,
   "metadata": {},
   "outputs": [],
   "source": [
    "#trades_df = pd.read_csv('buy_signals_backtest_ML_July-Aug2020.dat')\n",
    "trades_df = pd.read_csv('buy_signals_backtest_ML_Jan2019-Aug2020.dat')\n",
    "#trades_df.set_index('time_curr', inplace=True)\n",
    "#trades_df.index=pd.to_datetime(trades_df.index)"
   ]
  },
  {
   "cell_type": "code",
   "execution_count": 4,
   "metadata": {},
   "outputs": [
    {
     "data": {
      "text/plain": [
       "Index(['time_curr', 'symbol', 'price', 'pattern', 'origin', 'ranging',\n",
       "       'd_ranging', 'lower', 'upper', 'middle', 'd_lower', 'd_upper',\n",
       "       'd_middle', 'ema_10', 'ema_200', 'd_ema_10', 'd_ema_200', 'k_15',\n",
       "       'd_15', 'd_k_15', 'd_d_15', 'stoch_cond_5', 'candle_color', 'vol_inc',\n",
       "       'dist_to_BB', 'profit', 'elapsed', 'min_price', 'max_price',\n",
       "       'profit_s15', 'elapsed_s15', 'min_price_s15', 'max_price_s15',\n",
       "       'Unnamed: 33'],\n",
       "      dtype='object')"
      ]
     },
     "execution_count": 4,
     "metadata": {},
     "output_type": "execute_result"
    }
   ],
   "source": [
    "trades_df.columns"
   ]
  },
  {
   "cell_type": "code",
   "execution_count": 5,
   "metadata": {},
   "outputs": [],
   "source": [
    "profitability = [0 if item < 0 else 1 for item in trades_df['profit']]\n",
    "trades_df['profitability'] = profitability\n",
    "profitability_s15 = [0 if item < 0 else 1 for item in trades_df['profit_s15']]\n",
    "trades_df['profitability_s15'] = profitability_s15\n"
   ]
  },
  {
   "cell_type": "markdown",
   "metadata": {},
   "source": [
    "Convert 'time_curr' to `datetime` object"
   ]
  },
  {
   "cell_type": "code",
   "execution_count": 6,
   "metadata": {},
   "outputs": [],
   "source": [
    "trades_df['time_curr'] = pd.to_datetime(trades_df['time_curr'])"
   ]
  },
  {
   "cell_type": "code",
   "execution_count": 7,
   "metadata": {},
   "outputs": [],
   "source": [
    "# Sort the dataframe by the date:\n",
    "trades_df.sort_values(by=['time_curr'], inplace=True)"
   ]
  },
  {
   "cell_type": "code",
   "execution_count": 8,
   "metadata": {},
   "outputs": [
    {
     "data": {
      "text/plain": [
       "Index(['time_curr', 'symbol', 'price', 'pattern', 'origin', 'ranging',\n",
       "       'd_ranging', 'lower', 'upper', 'middle', 'd_lower', 'd_upper',\n",
       "       'd_middle', 'ema_10', 'ema_200', 'd_ema_10', 'd_ema_200', 'k_15',\n",
       "       'd_15', 'd_k_15', 'd_d_15', 'stoch_cond_5', 'candle_color', 'vol_inc',\n",
       "       'dist_to_BB', 'profit', 'elapsed', 'min_price', 'max_price',\n",
       "       'profit_s15', 'elapsed_s15', 'min_price_s15', 'max_price_s15',\n",
       "       'Unnamed: 33', 'profitability', 'profitability_s15'],\n",
       "      dtype='object')"
      ]
     },
     "execution_count": 8,
     "metadata": {},
     "output_type": "execute_result"
    }
   ],
   "source": [
    "trades_df.columns"
   ]
  },
  {
   "cell_type": "code",
   "execution_count": 9,
   "metadata": {},
   "outputs": [
    {
     "name": "stdout",
     "output_type": "stream",
     "text": [
      "Total profitability in 617 days 10:45:00:  0.6138994161630646\n",
      "total n trades:  39052\n",
      "Total profitability in 617 days 10:45:00 with 0.15 stop loss:  0.4338318139916009\n",
      "total n trades:  39052\n"
     ]
    }
   ],
   "source": [
    "time_span = trades_df.time_curr.iloc[-1] - trades_df.time_curr.iloc[0]\n",
    "print(f\"Total profitability in {time_span}: \", trades_df['profitability'].sum()/len(trades_df['profitability']) )\n",
    "print(\"total n trades: \", len(trades_df['profitability']))\n",
    "print(f\"Total profitability in {time_span} with 0.15 stop loss: \", trades_df['profitability_s15'].sum()/len(trades_df['profitability_s15']) )\n",
    "print(\"total n trades: \", len(trades_df['profitability_s15']))"
   ]
  },
  {
   "cell_type": "code",
   "execution_count": 10,
   "metadata": {},
   "outputs": [
    {
     "data": {
      "text/plain": [
       "23015    1\n",
       "23016    1\n",
       "23017    1\n",
       "14973    0\n",
       "22340    1\n",
       "        ..\n",
       "9339     1\n",
       "9340     1\n",
       "2661     1\n",
       "10106    1\n",
       "3250     1\n",
       "Name: profitability, Length: 39052, dtype: int64"
      ]
     },
     "execution_count": 10,
     "metadata": {},
     "output_type": "execute_result"
    }
   ],
   "source": [
    "trades_df['profitability']"
   ]
  },
  {
   "cell_type": "code",
   "execution_count": 11,
   "metadata": {},
   "outputs": [],
   "source": [
    "pd.set_option('max_columns',100)"
   ]
  },
  {
   "cell_type": "code",
   "execution_count": 12,
   "metadata": {},
   "outputs": [],
   "source": [
    "trades_df.dropna(axis=1, inplace=True)\n",
    "#trades_df.fillna(0.0, inplace=True)"
   ]
  },
  {
   "cell_type": "code",
   "execution_count": 13,
   "metadata": {},
   "outputs": [],
   "source": [
    "# Remove the problematic coin that has been identified later\n",
    "#trades_df = trades_df[trades_df.symbol != 'UMABTC']"
   ]
  },
  {
   "cell_type": "code",
   "execution_count": 14,
   "metadata": {},
   "outputs": [
    {
     "data": {
      "text/html": [
       "<div>\n",
       "<style scoped>\n",
       "    .dataframe tbody tr th:only-of-type {\n",
       "        vertical-align: middle;\n",
       "    }\n",
       "\n",
       "    .dataframe tbody tr th {\n",
       "        vertical-align: top;\n",
       "    }\n",
       "\n",
       "    .dataframe thead th {\n",
       "        text-align: right;\n",
       "    }\n",
       "</style>\n",
       "<table border=\"1\" class=\"dataframe\">\n",
       "  <thead>\n",
       "    <tr style=\"text-align: right;\">\n",
       "      <th></th>\n",
       "      <th>time_curr</th>\n",
       "      <th>symbol</th>\n",
       "      <th>price</th>\n",
       "      <th>pattern</th>\n",
       "      <th>origin</th>\n",
       "      <th>ranging</th>\n",
       "      <th>d_ranging</th>\n",
       "      <th>lower</th>\n",
       "      <th>upper</th>\n",
       "      <th>middle</th>\n",
       "      <th>d_lower</th>\n",
       "      <th>d_upper</th>\n",
       "      <th>d_middle</th>\n",
       "      <th>ema_10</th>\n",
       "      <th>d_ema_10</th>\n",
       "      <th>k_15</th>\n",
       "      <th>d_15</th>\n",
       "      <th>d_k_15</th>\n",
       "      <th>d_d_15</th>\n",
       "      <th>stoch_cond_5</th>\n",
       "      <th>candle_color</th>\n",
       "      <th>vol_inc</th>\n",
       "      <th>dist_to_BB</th>\n",
       "      <th>profit</th>\n",
       "      <th>elapsed</th>\n",
       "      <th>min_price</th>\n",
       "      <th>max_price</th>\n",
       "      <th>profit_s15</th>\n",
       "      <th>elapsed_s15</th>\n",
       "      <th>min_price_s15</th>\n",
       "      <th>max_price_s15</th>\n",
       "      <th>profitability</th>\n",
       "      <th>profitability_s15</th>\n",
       "    </tr>\n",
       "  </thead>\n",
       "  <tbody>\n",
       "    <tr>\n",
       "      <td>23015</td>\n",
       "      <td>2019-01-02 01:15:00</td>\n",
       "      <td>BCPTBTC</td>\n",
       "      <td>0.000009</td>\n",
       "      <td>no</td>\n",
       "      <td>lower</td>\n",
       "      <td>5.248</td>\n",
       "      <td>0.022</td>\n",
       "      <td>0.000009</td>\n",
       "      <td>0.000009</td>\n",
       "      <td>0.000009</td>\n",
       "      <td>-0.000000e+00</td>\n",
       "      <td>0.000000e+00</td>\n",
       "      <td>-0.000000e+00</td>\n",
       "      <td>0.000009</td>\n",
       "      <td>-0.000000e+00</td>\n",
       "      <td>14.66</td>\n",
       "      <td>7.33</td>\n",
       "      <td>0.49</td>\n",
       "      <td>0.15</td>\n",
       "      <td>True</td>\n",
       "      <td>green</td>\n",
       "      <td>0.290</td>\n",
       "      <td>2.422</td>\n",
       "      <td>1.5</td>\n",
       "      <td>386.0</td>\n",
       "      <td>-1.45</td>\n",
       "      <td>1.79</td>\n",
       "      <td>-1.5</td>\n",
       "      <td>326.0</td>\n",
       "      <td>-1.25</td>\n",
       "      <td>1.12</td>\n",
       "      <td>1</td>\n",
       "      <td>0</td>\n",
       "    </tr>\n",
       "    <tr>\n",
       "      <td>23016</td>\n",
       "      <td>2019-01-02 01:30:00</td>\n",
       "      <td>BCPTBTC</td>\n",
       "      <td>0.000009</td>\n",
       "      <td>Doji</td>\n",
       "      <td>lower</td>\n",
       "      <td>5.210</td>\n",
       "      <td>-0.003</td>\n",
       "      <td>0.000009</td>\n",
       "      <td>0.000009</td>\n",
       "      <td>0.000009</td>\n",
       "      <td>-0.000000e+00</td>\n",
       "      <td>-0.000000e+00</td>\n",
       "      <td>-0.000000e+00</td>\n",
       "      <td>0.000009</td>\n",
       "      <td>-0.000000e+00</td>\n",
       "      <td>21.98</td>\n",
       "      <td>14.66</td>\n",
       "      <td>0.49</td>\n",
       "      <td>0.49</td>\n",
       "      <td>True</td>\n",
       "      <td>green</td>\n",
       "      <td>0.541</td>\n",
       "      <td>2.243</td>\n",
       "      <td>1.5</td>\n",
       "      <td>371.0</td>\n",
       "      <td>-1.45</td>\n",
       "      <td>1.79</td>\n",
       "      <td>-1.5</td>\n",
       "      <td>311.0</td>\n",
       "      <td>-1.25</td>\n",
       "      <td>0.45</td>\n",
       "      <td>1</td>\n",
       "      <td>0</td>\n",
       "    </tr>\n",
       "    <tr>\n",
       "      <td>23017</td>\n",
       "      <td>2019-01-02 02:15:00</td>\n",
       "      <td>BCPTBTC</td>\n",
       "      <td>0.000009</td>\n",
       "      <td>Bullish eng.</td>\n",
       "      <td>lower</td>\n",
       "      <td>5.461</td>\n",
       "      <td>-0.013</td>\n",
       "      <td>0.000009</td>\n",
       "      <td>0.000009</td>\n",
       "      <td>0.000009</td>\n",
       "      <td>-0.000000e+00</td>\n",
       "      <td>-0.000000e+00</td>\n",
       "      <td>-0.000000e+00</td>\n",
       "      <td>0.000009</td>\n",
       "      <td>-0.000000e+00</td>\n",
       "      <td>19.87</td>\n",
       "      <td>16.34</td>\n",
       "      <td>0.29</td>\n",
       "      <td>0.00</td>\n",
       "      <td>True</td>\n",
       "      <td>green</td>\n",
       "      <td>0.093</td>\n",
       "      <td>1.713</td>\n",
       "      <td>1.5</td>\n",
       "      <td>325.0</td>\n",
       "      <td>-1.34</td>\n",
       "      <td>1.90</td>\n",
       "      <td>-1.5</td>\n",
       "      <td>266.0</td>\n",
       "      <td>-1.25</td>\n",
       "      <td>0.56</td>\n",
       "      <td>1</td>\n",
       "      <td>0</td>\n",
       "    </tr>\n",
       "    <tr>\n",
       "      <td>14973</td>\n",
       "      <td>2019-01-02 19:15:00</td>\n",
       "      <td>OMGBTC</td>\n",
       "      <td>0.000389</td>\n",
       "      <td>Doji</td>\n",
       "      <td>upper</td>\n",
       "      <td>4.002</td>\n",
       "      <td>-0.008</td>\n",
       "      <td>0.000380</td>\n",
       "      <td>0.000395</td>\n",
       "      <td>0.000387</td>\n",
       "      <td>3.000000e-08</td>\n",
       "      <td>1.000000e-08</td>\n",
       "      <td>2.000000e-08</td>\n",
       "      <td>0.000389</td>\n",
       "      <td>2.000000e-08</td>\n",
       "      <td>16.27</td>\n",
       "      <td>12.60</td>\n",
       "      <td>0.23</td>\n",
       "      <td>0.02</td>\n",
       "      <td>True</td>\n",
       "      <td>green</td>\n",
       "      <td>0.180</td>\n",
       "      <td>1.602</td>\n",
       "      <td>-3.0</td>\n",
       "      <td>925.0</td>\n",
       "      <td>-2.50</td>\n",
       "      <td>0.77</td>\n",
       "      <td>-1.5</td>\n",
       "      <td>15.0</td>\n",
       "      <td>-1.25</td>\n",
       "      <td>0.26</td>\n",
       "      <td>0</td>\n",
       "      <td>0</td>\n",
       "    </tr>\n",
       "    <tr>\n",
       "      <td>22340</td>\n",
       "      <td>2019-01-02 23:32:00</td>\n",
       "      <td>DLTBTC</td>\n",
       "      <td>0.000015</td>\n",
       "      <td>no</td>\n",
       "      <td>upper</td>\n",
       "      <td>10.349</td>\n",
       "      <td>-0.143</td>\n",
       "      <td>0.000013</td>\n",
       "      <td>0.000015</td>\n",
       "      <td>0.000014</td>\n",
       "      <td>2.000000e-08</td>\n",
       "      <td>-1.000000e-08</td>\n",
       "      <td>0.000000e+00</td>\n",
       "      <td>0.000014</td>\n",
       "      <td>-0.000000e+00</td>\n",
       "      <td>21.39</td>\n",
       "      <td>9.78</td>\n",
       "      <td>1.38</td>\n",
       "      <td>0.20</td>\n",
       "      <td>True</td>\n",
       "      <td>red</td>\n",
       "      <td>1.453</td>\n",
       "      <td>3.859</td>\n",
       "      <td>1.5</td>\n",
       "      <td>10.0</td>\n",
       "      <td>-0.69</td>\n",
       "      <td>0.48</td>\n",
       "      <td>1.5</td>\n",
       "      <td>10.0</td>\n",
       "      <td>-0.69</td>\n",
       "      <td>0.48</td>\n",
       "      <td>1</td>\n",
       "      <td>1</td>\n",
       "    </tr>\n",
       "  </tbody>\n",
       "</table>\n",
       "</div>"
      ],
      "text/plain": [
       "                time_curr   symbol     price       pattern origin  ranging  \\\n",
       "23015 2019-01-02 01:15:00  BCPTBTC  0.000009            no  lower    5.248   \n",
       "23016 2019-01-02 01:30:00  BCPTBTC  0.000009          Doji  lower    5.210   \n",
       "23017 2019-01-02 02:15:00  BCPTBTC  0.000009  Bullish eng.  lower    5.461   \n",
       "14973 2019-01-02 19:15:00   OMGBTC  0.000389          Doji  upper    4.002   \n",
       "22340 2019-01-02 23:32:00   DLTBTC  0.000015            no  upper   10.349   \n",
       "\n",
       "       d_ranging     lower     upper    middle       d_lower       d_upper  \\\n",
       "23015      0.022  0.000009  0.000009  0.000009 -0.000000e+00  0.000000e+00   \n",
       "23016     -0.003  0.000009  0.000009  0.000009 -0.000000e+00 -0.000000e+00   \n",
       "23017     -0.013  0.000009  0.000009  0.000009 -0.000000e+00 -0.000000e+00   \n",
       "14973     -0.008  0.000380  0.000395  0.000387  3.000000e-08  1.000000e-08   \n",
       "22340     -0.143  0.000013  0.000015  0.000014  2.000000e-08 -1.000000e-08   \n",
       "\n",
       "           d_middle    ema_10      d_ema_10   k_15   d_15  d_k_15  d_d_15  \\\n",
       "23015 -0.000000e+00  0.000009 -0.000000e+00  14.66   7.33    0.49    0.15   \n",
       "23016 -0.000000e+00  0.000009 -0.000000e+00  21.98  14.66    0.49    0.49   \n",
       "23017 -0.000000e+00  0.000009 -0.000000e+00  19.87  16.34    0.29    0.00   \n",
       "14973  2.000000e-08  0.000389  2.000000e-08  16.27  12.60    0.23    0.02   \n",
       "22340  0.000000e+00  0.000014 -0.000000e+00  21.39   9.78    1.38    0.20   \n",
       "\n",
       "       stoch_cond_5 candle_color  vol_inc  dist_to_BB  profit  elapsed  \\\n",
       "23015          True        green    0.290       2.422     1.5    386.0   \n",
       "23016          True        green    0.541       2.243     1.5    371.0   \n",
       "23017          True        green    0.093       1.713     1.5    325.0   \n",
       "14973          True        green    0.180       1.602    -3.0    925.0   \n",
       "22340          True          red    1.453       3.859     1.5     10.0   \n",
       "\n",
       "       min_price  max_price  profit_s15  elapsed_s15  min_price_s15  \\\n",
       "23015      -1.45       1.79        -1.5        326.0          -1.25   \n",
       "23016      -1.45       1.79        -1.5        311.0          -1.25   \n",
       "23017      -1.34       1.90        -1.5        266.0          -1.25   \n",
       "14973      -2.50       0.77        -1.5         15.0          -1.25   \n",
       "22340      -0.69       0.48         1.5         10.0          -0.69   \n",
       "\n",
       "       max_price_s15  profitability  profitability_s15  \n",
       "23015           1.12              1                  0  \n",
       "23016           0.45              1                  0  \n",
       "23017           0.56              1                  0  \n",
       "14973           0.26              0                  0  \n",
       "22340           0.48              1                  1  "
      ]
     },
     "execution_count": 14,
     "metadata": {},
     "output_type": "execute_result"
    }
   ],
   "source": [
    "trades_df.head()"
   ]
  },
  {
   "cell_type": "markdown",
   "metadata": {},
   "source": [
    "### Now we start preparing the dataset to train a model using various Machine Learning methods"
   ]
  },
  {
   "cell_type": "markdown",
   "metadata": {},
   "source": [
    "1. Features:"
   ]
  },
  {
   "cell_type": "code",
   "execution_count": 15,
   "metadata": {},
   "outputs": [],
   "source": [
    "X = trades_df.drop(['symbol','profit',\n",
    "       'elapsed', 'min_price', 'max_price', 'profit_s15', 'elapsed_s15',\n",
    "       'min_price_s15', 'max_price_s15',  'profitability',\n",
    "       'profitability_s15'], axis=1)\n",
    "\n",
    "# For the 1st trial, let us also drop all categorical variables:\n",
    "# X = trades_df.drop(['time_curr','profit',\n",
    "#                     'pattern','origin','symbol','stoch_cond_5','candle_color',\n",
    "#        'elapsed', 'min_price', 'max_price', 'profit_s15', 'elapsed_s15',\n",
    "#        'min_price_s15', 'max_price_s15',  'profitability',\n",
    "#        'profitability_s15'], axis=1)"
   ]
  },
  {
   "cell_type": "code",
   "execution_count": 16,
   "metadata": {},
   "outputs": [],
   "source": [
    "X['stoch_cond_5'] = X['stoch_cond_5'].astype('str')"
   ]
  },
  {
   "cell_type": "code",
   "execution_count": 17,
   "metadata": {},
   "outputs": [],
   "source": [
    "X['day'] = X.time_curr.dt.day.astype('uint8')\n",
    "X['hour'] = X.time_curr.dt.hour.astype('uint8')\n",
    "X['minute'] = X.time_curr.dt.minute.astype('uint8')"
   ]
  },
  {
   "cell_type": "code",
   "execution_count": 18,
   "metadata": {},
   "outputs": [],
   "source": [
    "X.drop(['time_curr'], axis=1, inplace=True)"
   ]
  },
  {
   "cell_type": "code",
   "execution_count": 19,
   "metadata": {},
   "outputs": [
    {
     "data": {
      "text/plain": [
       "Index(['price', 'pattern', 'origin', 'ranging', 'd_ranging', 'lower', 'upper',\n",
       "       'middle', 'd_lower', 'd_upper', 'd_middle', 'ema_10', 'd_ema_10',\n",
       "       'k_15', 'd_15', 'd_k_15', 'd_d_15', 'stoch_cond_5', 'candle_color',\n",
       "       'vol_inc', 'dist_to_BB', 'day', 'hour', 'minute'],\n",
       "      dtype='object')"
      ]
     },
     "execution_count": 19,
     "metadata": {},
     "output_type": "execute_result"
    }
   ],
   "source": [
    "X.columns"
   ]
  },
  {
   "cell_type": "code",
   "execution_count": 20,
   "metadata": {},
   "outputs": [],
   "source": [
    "# Let's try to drop all prices and keep only the slopes and percentages: (No!)\n",
    "## X = X.drop(['price', 'lower', 'upper', 'middle', 'ema_10'], axis=1)"
   ]
  },
  {
   "cell_type": "code",
   "execution_count": 21,
   "metadata": {},
   "outputs": [],
   "source": [
    "###for col in ['d_lower', 'd_upper', 'd_middle', 'd_ema_10' ]: X[col] = X[col]*1e7"
   ]
  },
  {
   "cell_type": "code",
   "execution_count": 22,
   "metadata": {},
   "outputs": [
    {
     "data": {
      "text/html": [
       "<div>\n",
       "<style scoped>\n",
       "    .dataframe tbody tr th:only-of-type {\n",
       "        vertical-align: middle;\n",
       "    }\n",
       "\n",
       "    .dataframe tbody tr th {\n",
       "        vertical-align: top;\n",
       "    }\n",
       "\n",
       "    .dataframe thead th {\n",
       "        text-align: right;\n",
       "    }\n",
       "</style>\n",
       "<table border=\"1\" class=\"dataframe\">\n",
       "  <thead>\n",
       "    <tr style=\"text-align: right;\">\n",
       "      <th></th>\n",
       "      <th>price</th>\n",
       "      <th>pattern</th>\n",
       "      <th>origin</th>\n",
       "      <th>ranging</th>\n",
       "      <th>d_ranging</th>\n",
       "      <th>lower</th>\n",
       "      <th>upper</th>\n",
       "      <th>middle</th>\n",
       "      <th>d_lower</th>\n",
       "      <th>d_upper</th>\n",
       "      <th>d_middle</th>\n",
       "      <th>ema_10</th>\n",
       "      <th>d_ema_10</th>\n",
       "      <th>k_15</th>\n",
       "      <th>d_15</th>\n",
       "      <th>d_k_15</th>\n",
       "      <th>d_d_15</th>\n",
       "      <th>stoch_cond_5</th>\n",
       "      <th>candle_color</th>\n",
       "      <th>vol_inc</th>\n",
       "      <th>dist_to_BB</th>\n",
       "      <th>day</th>\n",
       "      <th>hour</th>\n",
       "      <th>minute</th>\n",
       "    </tr>\n",
       "  </thead>\n",
       "  <tbody>\n",
       "    <tr>\n",
       "      <td>23015</td>\n",
       "      <td>0.000009</td>\n",
       "      <td>no</td>\n",
       "      <td>lower</td>\n",
       "      <td>5.248</td>\n",
       "      <td>0.022</td>\n",
       "      <td>0.000009</td>\n",
       "      <td>0.000009</td>\n",
       "      <td>0.000009</td>\n",
       "      <td>-0.000000e+00</td>\n",
       "      <td>0.000000e+00</td>\n",
       "      <td>-0.000000e+00</td>\n",
       "      <td>0.000009</td>\n",
       "      <td>-0.000000e+00</td>\n",
       "      <td>14.66</td>\n",
       "      <td>7.33</td>\n",
       "      <td>0.49</td>\n",
       "      <td>0.15</td>\n",
       "      <td>True</td>\n",
       "      <td>green</td>\n",
       "      <td>0.290</td>\n",
       "      <td>2.422</td>\n",
       "      <td>2</td>\n",
       "      <td>1</td>\n",
       "      <td>15</td>\n",
       "    </tr>\n",
       "    <tr>\n",
       "      <td>23016</td>\n",
       "      <td>0.000009</td>\n",
       "      <td>Doji</td>\n",
       "      <td>lower</td>\n",
       "      <td>5.210</td>\n",
       "      <td>-0.003</td>\n",
       "      <td>0.000009</td>\n",
       "      <td>0.000009</td>\n",
       "      <td>0.000009</td>\n",
       "      <td>-0.000000e+00</td>\n",
       "      <td>-0.000000e+00</td>\n",
       "      <td>-0.000000e+00</td>\n",
       "      <td>0.000009</td>\n",
       "      <td>-0.000000e+00</td>\n",
       "      <td>21.98</td>\n",
       "      <td>14.66</td>\n",
       "      <td>0.49</td>\n",
       "      <td>0.49</td>\n",
       "      <td>True</td>\n",
       "      <td>green</td>\n",
       "      <td>0.541</td>\n",
       "      <td>2.243</td>\n",
       "      <td>2</td>\n",
       "      <td>1</td>\n",
       "      <td>30</td>\n",
       "    </tr>\n",
       "    <tr>\n",
       "      <td>23017</td>\n",
       "      <td>0.000009</td>\n",
       "      <td>Bullish eng.</td>\n",
       "      <td>lower</td>\n",
       "      <td>5.461</td>\n",
       "      <td>-0.013</td>\n",
       "      <td>0.000009</td>\n",
       "      <td>0.000009</td>\n",
       "      <td>0.000009</td>\n",
       "      <td>-0.000000e+00</td>\n",
       "      <td>-0.000000e+00</td>\n",
       "      <td>-0.000000e+00</td>\n",
       "      <td>0.000009</td>\n",
       "      <td>-0.000000e+00</td>\n",
       "      <td>19.87</td>\n",
       "      <td>16.34</td>\n",
       "      <td>0.29</td>\n",
       "      <td>0.00</td>\n",
       "      <td>True</td>\n",
       "      <td>green</td>\n",
       "      <td>0.093</td>\n",
       "      <td>1.713</td>\n",
       "      <td>2</td>\n",
       "      <td>2</td>\n",
       "      <td>15</td>\n",
       "    </tr>\n",
       "    <tr>\n",
       "      <td>14973</td>\n",
       "      <td>0.000389</td>\n",
       "      <td>Doji</td>\n",
       "      <td>upper</td>\n",
       "      <td>4.002</td>\n",
       "      <td>-0.008</td>\n",
       "      <td>0.000380</td>\n",
       "      <td>0.000395</td>\n",
       "      <td>0.000387</td>\n",
       "      <td>3.000000e-08</td>\n",
       "      <td>1.000000e-08</td>\n",
       "      <td>2.000000e-08</td>\n",
       "      <td>0.000389</td>\n",
       "      <td>2.000000e-08</td>\n",
       "      <td>16.27</td>\n",
       "      <td>12.60</td>\n",
       "      <td>0.23</td>\n",
       "      <td>0.02</td>\n",
       "      <td>True</td>\n",
       "      <td>green</td>\n",
       "      <td>0.180</td>\n",
       "      <td>1.602</td>\n",
       "      <td>2</td>\n",
       "      <td>19</td>\n",
       "      <td>15</td>\n",
       "    </tr>\n",
       "    <tr>\n",
       "      <td>22340</td>\n",
       "      <td>0.000015</td>\n",
       "      <td>no</td>\n",
       "      <td>upper</td>\n",
       "      <td>10.349</td>\n",
       "      <td>-0.143</td>\n",
       "      <td>0.000013</td>\n",
       "      <td>0.000015</td>\n",
       "      <td>0.000014</td>\n",
       "      <td>2.000000e-08</td>\n",
       "      <td>-1.000000e-08</td>\n",
       "      <td>0.000000e+00</td>\n",
       "      <td>0.000014</td>\n",
       "      <td>-0.000000e+00</td>\n",
       "      <td>21.39</td>\n",
       "      <td>9.78</td>\n",
       "      <td>1.38</td>\n",
       "      <td>0.20</td>\n",
       "      <td>True</td>\n",
       "      <td>red</td>\n",
       "      <td>1.453</td>\n",
       "      <td>3.859</td>\n",
       "      <td>2</td>\n",
       "      <td>23</td>\n",
       "      <td>32</td>\n",
       "    </tr>\n",
       "  </tbody>\n",
       "</table>\n",
       "</div>"
      ],
      "text/plain": [
       "          price       pattern origin  ranging  d_ranging     lower     upper  \\\n",
       "23015  0.000009            no  lower    5.248      0.022  0.000009  0.000009   \n",
       "23016  0.000009          Doji  lower    5.210     -0.003  0.000009  0.000009   \n",
       "23017  0.000009  Bullish eng.  lower    5.461     -0.013  0.000009  0.000009   \n",
       "14973  0.000389          Doji  upper    4.002     -0.008  0.000380  0.000395   \n",
       "22340  0.000015            no  upper   10.349     -0.143  0.000013  0.000015   \n",
       "\n",
       "         middle       d_lower       d_upper      d_middle    ema_10  \\\n",
       "23015  0.000009 -0.000000e+00  0.000000e+00 -0.000000e+00  0.000009   \n",
       "23016  0.000009 -0.000000e+00 -0.000000e+00 -0.000000e+00  0.000009   \n",
       "23017  0.000009 -0.000000e+00 -0.000000e+00 -0.000000e+00  0.000009   \n",
       "14973  0.000387  3.000000e-08  1.000000e-08  2.000000e-08  0.000389   \n",
       "22340  0.000014  2.000000e-08 -1.000000e-08  0.000000e+00  0.000014   \n",
       "\n",
       "           d_ema_10   k_15   d_15  d_k_15  d_d_15 stoch_cond_5 candle_color  \\\n",
       "23015 -0.000000e+00  14.66   7.33    0.49    0.15         True        green   \n",
       "23016 -0.000000e+00  21.98  14.66    0.49    0.49         True        green   \n",
       "23017 -0.000000e+00  19.87  16.34    0.29    0.00         True        green   \n",
       "14973  2.000000e-08  16.27  12.60    0.23    0.02         True        green   \n",
       "22340 -0.000000e+00  21.39   9.78    1.38    0.20         True          red   \n",
       "\n",
       "       vol_inc  dist_to_BB  day  hour  minute  \n",
       "23015    0.290       2.422    2     1      15  \n",
       "23016    0.541       2.243    2     1      30  \n",
       "23017    0.093       1.713    2     2      15  \n",
       "14973    0.180       1.602    2    19      15  \n",
       "22340    1.453       3.859    2    23      32  "
      ]
     },
     "execution_count": 22,
     "metadata": {},
     "output_type": "execute_result"
    }
   ],
   "source": [
    "X.head()"
   ]
  },
  {
   "cell_type": "markdown",
   "metadata": {},
   "source": [
    "2. Target:"
   ]
  },
  {
   "cell_type": "markdown",
   "metadata": {},
   "source": [
    "Here we predict whether the trade is going to be profitable or not."
   ]
  },
  {
   "cell_type": "code",
   "execution_count": 23,
   "metadata": {},
   "outputs": [],
   "source": [
    "y = trades_df.profitability_s15\n",
    "# what if we predict profitability for stop loss 0.3?\n",
    "#y = trades_df.profitability"
   ]
  },
  {
   "cell_type": "code",
   "execution_count": 24,
   "metadata": {},
   "outputs": [
    {
     "data": {
      "text/plain": [
       "23015    0\n",
       "23016    0\n",
       "23017    0\n",
       "14973    0\n",
       "22340    1\n",
       "        ..\n",
       "9339     1\n",
       "9340     1\n",
       "2661     1\n",
       "10106    1\n",
       "3250     1\n",
       "Name: profitability_s15, Length: 39052, dtype: int64"
      ]
     },
     "execution_count": 24,
     "metadata": {},
     "output_type": "execute_result"
    }
   ],
   "source": [
    "y"
   ]
  },
  {
   "cell_type": "code",
   "execution_count": 25,
   "metadata": {},
   "outputs": [],
   "source": [
    "#test_size = 2000\n",
    "\n",
    "# Make sure that there are no new symbols in the test dataset\n",
    "\n",
    "# for item_val in X.symbol.tail(test_size).unique():\n",
    "#     if item_val not in X.symbol.iloc[:-test_size].unique(): print(item_val)\n",
    "\n",
    "    \n",
    "    "
   ]
  },
  {
   "cell_type": "code",
   "execution_count": 26,
   "metadata": {},
   "outputs": [],
   "source": [
    "# X = X[X.symbol != 'UMABTC']\n",
    "# y = y[X.symbol != 'UMABTC']"
   ]
  },
  {
   "cell_type": "code",
   "execution_count": 27,
   "metadata": {},
   "outputs": [],
   "source": [
    "\n",
    "# for item_val in X.symbol.tail(test_size).unique():\n",
    "#     if item_val not in X.symbol.iloc[:-test_size].unique(): print(item_val)\n",
    "\n",
    " "
   ]
  },
  {
   "cell_type": "markdown",
   "metadata": {},
   "source": [
    "### Train and test split"
   ]
  },
  {
   "cell_type": "code",
   "execution_count": 28,
   "metadata": {},
   "outputs": [],
   "source": [
    "# Random split\n",
    "#X_train, X_val, y_train, y_val = train_test_split(X, y, test_size=0.1, random_state=101)\n",
    "\n",
    "# More realistic split is where we choose the latest deals as test data. Remove last rows:\n",
    "test_size = 2000\n",
    "# Remove last rows from the dataset\n",
    "X_train, y_train = X.iloc[:-test_size], y.iloc[:-test_size]\n",
    "X_val, y_val = X.tail(test_size), y.tail(test_size)"
   ]
  },
  {
   "cell_type": "markdown",
   "metadata": {},
   "source": [
    "### Categorical encoding"
   ]
  },
  {
   "cell_type": "markdown",
   "metadata": {},
   "source": [
    "3. Now it's time to make cathegorical encodings (or wait, let's do it later!) :-)"
   ]
  },
  {
   "cell_type": "code",
   "execution_count": 29,
   "metadata": {},
   "outputs": [],
   "source": [
    "# from sklearn.preprocessing import LabelEncoder\n",
    "# label_encoder = LabelEncoder()"
   ]
  },
  {
   "cell_type": "code",
   "execution_count": 30,
   "metadata": {},
   "outputs": [],
   "source": [
    "# categorical = ['pattern', 'origin', 'stoch_cond_5', 'candle_color']\n",
    "# label = ['symbol']"
   ]
  },
  {
   "cell_type": "code",
   "execution_count": 31,
   "metadata": {},
   "outputs": [],
   "source": [
    "# for col in label:\n",
    "#     X_train[col] = label_encoder.fit_transform(X_train[col])\n",
    "#     X_val[col] = label_encoder.transform(X_val[col])"
   ]
  },
  {
   "cell_type": "code",
   "execution_count": 32,
   "metadata": {},
   "outputs": [],
   "source": [
    "# For now go with the simplest One-Hot encoding provided by pandas:\n",
    "X_train, X_val = pd.get_dummies(X_train), pd.get_dummies(X_val)"
   ]
  },
  {
   "cell_type": "code",
   "execution_count": 33,
   "metadata": {},
   "outputs": [],
   "source": [
    "#X_train, X_val = preprocessing.scale(X_train), preprocessing.scale(X_val)"
   ]
  },
  {
   "cell_type": "code",
   "execution_count": 34,
   "metadata": {},
   "outputs": [
    {
     "data": {
      "text/html": [
       "<div>\n",
       "<style scoped>\n",
       "    .dataframe tbody tr th:only-of-type {\n",
       "        vertical-align: middle;\n",
       "    }\n",
       "\n",
       "    .dataframe tbody tr th {\n",
       "        vertical-align: top;\n",
       "    }\n",
       "\n",
       "    .dataframe thead th {\n",
       "        text-align: right;\n",
       "    }\n",
       "</style>\n",
       "<table border=\"1\" class=\"dataframe\">\n",
       "  <thead>\n",
       "    <tr style=\"text-align: right;\">\n",
       "      <th></th>\n",
       "      <th>price</th>\n",
       "      <th>ranging</th>\n",
       "      <th>d_ranging</th>\n",
       "      <th>lower</th>\n",
       "      <th>upper</th>\n",
       "      <th>middle</th>\n",
       "      <th>d_lower</th>\n",
       "      <th>d_upper</th>\n",
       "      <th>d_middle</th>\n",
       "      <th>ema_10</th>\n",
       "      <th>d_ema_10</th>\n",
       "      <th>k_15</th>\n",
       "      <th>d_15</th>\n",
       "      <th>d_k_15</th>\n",
       "      <th>d_d_15</th>\n",
       "      <th>vol_inc</th>\n",
       "      <th>dist_to_BB</th>\n",
       "      <th>day</th>\n",
       "      <th>hour</th>\n",
       "      <th>minute</th>\n",
       "      <th>pattern_Bullish eng.</th>\n",
       "      <th>pattern_Doji</th>\n",
       "      <th>pattern_Hammer</th>\n",
       "      <th>pattern_Harami</th>\n",
       "      <th>pattern_no</th>\n",
       "      <th>origin_lower</th>\n",
       "      <th>origin_upper</th>\n",
       "      <th>stoch_cond_5_False</th>\n",
       "      <th>stoch_cond_5_True</th>\n",
       "      <th>candle_color_green</th>\n",
       "      <th>candle_color_red</th>\n",
       "    </tr>\n",
       "  </thead>\n",
       "  <tbody>\n",
       "    <tr>\n",
       "      <td>23015</td>\n",
       "      <td>0.000009</td>\n",
       "      <td>5.248</td>\n",
       "      <td>0.022</td>\n",
       "      <td>0.000009</td>\n",
       "      <td>0.000009</td>\n",
       "      <td>0.000009</td>\n",
       "      <td>-0.000000e+00</td>\n",
       "      <td>0.000000e+00</td>\n",
       "      <td>-0.000000e+00</td>\n",
       "      <td>0.000009</td>\n",
       "      <td>-0.000000e+00</td>\n",
       "      <td>14.66</td>\n",
       "      <td>7.33</td>\n",
       "      <td>0.49</td>\n",
       "      <td>0.15</td>\n",
       "      <td>0.290</td>\n",
       "      <td>2.422</td>\n",
       "      <td>2</td>\n",
       "      <td>1</td>\n",
       "      <td>15</td>\n",
       "      <td>0</td>\n",
       "      <td>0</td>\n",
       "      <td>0</td>\n",
       "      <td>0</td>\n",
       "      <td>1</td>\n",
       "      <td>1</td>\n",
       "      <td>0</td>\n",
       "      <td>0</td>\n",
       "      <td>1</td>\n",
       "      <td>1</td>\n",
       "      <td>0</td>\n",
       "    </tr>\n",
       "    <tr>\n",
       "      <td>23016</td>\n",
       "      <td>0.000009</td>\n",
       "      <td>5.210</td>\n",
       "      <td>-0.003</td>\n",
       "      <td>0.000009</td>\n",
       "      <td>0.000009</td>\n",
       "      <td>0.000009</td>\n",
       "      <td>-0.000000e+00</td>\n",
       "      <td>-0.000000e+00</td>\n",
       "      <td>-0.000000e+00</td>\n",
       "      <td>0.000009</td>\n",
       "      <td>-0.000000e+00</td>\n",
       "      <td>21.98</td>\n",
       "      <td>14.66</td>\n",
       "      <td>0.49</td>\n",
       "      <td>0.49</td>\n",
       "      <td>0.541</td>\n",
       "      <td>2.243</td>\n",
       "      <td>2</td>\n",
       "      <td>1</td>\n",
       "      <td>30</td>\n",
       "      <td>0</td>\n",
       "      <td>1</td>\n",
       "      <td>0</td>\n",
       "      <td>0</td>\n",
       "      <td>0</td>\n",
       "      <td>1</td>\n",
       "      <td>0</td>\n",
       "      <td>0</td>\n",
       "      <td>1</td>\n",
       "      <td>1</td>\n",
       "      <td>0</td>\n",
       "    </tr>\n",
       "    <tr>\n",
       "      <td>23017</td>\n",
       "      <td>0.000009</td>\n",
       "      <td>5.461</td>\n",
       "      <td>-0.013</td>\n",
       "      <td>0.000009</td>\n",
       "      <td>0.000009</td>\n",
       "      <td>0.000009</td>\n",
       "      <td>-0.000000e+00</td>\n",
       "      <td>-0.000000e+00</td>\n",
       "      <td>-0.000000e+00</td>\n",
       "      <td>0.000009</td>\n",
       "      <td>-0.000000e+00</td>\n",
       "      <td>19.87</td>\n",
       "      <td>16.34</td>\n",
       "      <td>0.29</td>\n",
       "      <td>0.00</td>\n",
       "      <td>0.093</td>\n",
       "      <td>1.713</td>\n",
       "      <td>2</td>\n",
       "      <td>2</td>\n",
       "      <td>15</td>\n",
       "      <td>1</td>\n",
       "      <td>0</td>\n",
       "      <td>0</td>\n",
       "      <td>0</td>\n",
       "      <td>0</td>\n",
       "      <td>1</td>\n",
       "      <td>0</td>\n",
       "      <td>0</td>\n",
       "      <td>1</td>\n",
       "      <td>1</td>\n",
       "      <td>0</td>\n",
       "    </tr>\n",
       "    <tr>\n",
       "      <td>14973</td>\n",
       "      <td>0.000389</td>\n",
       "      <td>4.002</td>\n",
       "      <td>-0.008</td>\n",
       "      <td>0.000380</td>\n",
       "      <td>0.000395</td>\n",
       "      <td>0.000387</td>\n",
       "      <td>3.000000e-08</td>\n",
       "      <td>1.000000e-08</td>\n",
       "      <td>2.000000e-08</td>\n",
       "      <td>0.000389</td>\n",
       "      <td>2.000000e-08</td>\n",
       "      <td>16.27</td>\n",
       "      <td>12.60</td>\n",
       "      <td>0.23</td>\n",
       "      <td>0.02</td>\n",
       "      <td>0.180</td>\n",
       "      <td>1.602</td>\n",
       "      <td>2</td>\n",
       "      <td>19</td>\n",
       "      <td>15</td>\n",
       "      <td>0</td>\n",
       "      <td>1</td>\n",
       "      <td>0</td>\n",
       "      <td>0</td>\n",
       "      <td>0</td>\n",
       "      <td>0</td>\n",
       "      <td>1</td>\n",
       "      <td>0</td>\n",
       "      <td>1</td>\n",
       "      <td>1</td>\n",
       "      <td>0</td>\n",
       "    </tr>\n",
       "    <tr>\n",
       "      <td>22340</td>\n",
       "      <td>0.000015</td>\n",
       "      <td>10.349</td>\n",
       "      <td>-0.143</td>\n",
       "      <td>0.000013</td>\n",
       "      <td>0.000015</td>\n",
       "      <td>0.000014</td>\n",
       "      <td>2.000000e-08</td>\n",
       "      <td>-1.000000e-08</td>\n",
       "      <td>0.000000e+00</td>\n",
       "      <td>0.000014</td>\n",
       "      <td>-0.000000e+00</td>\n",
       "      <td>21.39</td>\n",
       "      <td>9.78</td>\n",
       "      <td>1.38</td>\n",
       "      <td>0.20</td>\n",
       "      <td>1.453</td>\n",
       "      <td>3.859</td>\n",
       "      <td>2</td>\n",
       "      <td>23</td>\n",
       "      <td>32</td>\n",
       "      <td>0</td>\n",
       "      <td>0</td>\n",
       "      <td>0</td>\n",
       "      <td>0</td>\n",
       "      <td>1</td>\n",
       "      <td>0</td>\n",
       "      <td>1</td>\n",
       "      <td>0</td>\n",
       "      <td>1</td>\n",
       "      <td>0</td>\n",
       "      <td>1</td>\n",
       "    </tr>\n",
       "    <tr>\n",
       "      <td>...</td>\n",
       "      <td>...</td>\n",
       "      <td>...</td>\n",
       "      <td>...</td>\n",
       "      <td>...</td>\n",
       "      <td>...</td>\n",
       "      <td>...</td>\n",
       "      <td>...</td>\n",
       "      <td>...</td>\n",
       "      <td>...</td>\n",
       "      <td>...</td>\n",
       "      <td>...</td>\n",
       "      <td>...</td>\n",
       "      <td>...</td>\n",
       "      <td>...</td>\n",
       "      <td>...</td>\n",
       "      <td>...</td>\n",
       "      <td>...</td>\n",
       "      <td>...</td>\n",
       "      <td>...</td>\n",
       "      <td>...</td>\n",
       "      <td>...</td>\n",
       "      <td>...</td>\n",
       "      <td>...</td>\n",
       "      <td>...</td>\n",
       "      <td>...</td>\n",
       "      <td>...</td>\n",
       "      <td>...</td>\n",
       "      <td>...</td>\n",
       "      <td>...</td>\n",
       "      <td>...</td>\n",
       "      <td>...</td>\n",
       "    </tr>\n",
       "    <tr>\n",
       "      <td>1846</td>\n",
       "      <td>0.000003</td>\n",
       "      <td>4.482</td>\n",
       "      <td>0.015</td>\n",
       "      <td>0.000003</td>\n",
       "      <td>0.000003</td>\n",
       "      <td>0.000003</td>\n",
       "      <td>-0.000000e+00</td>\n",
       "      <td>0.000000e+00</td>\n",
       "      <td>-0.000000e+00</td>\n",
       "      <td>0.000003</td>\n",
       "      <td>-0.000000e+00</td>\n",
       "      <td>12.72</td>\n",
       "      <td>8.40</td>\n",
       "      <td>0.29</td>\n",
       "      <td>0.25</td>\n",
       "      <td>0.183</td>\n",
       "      <td>1.634</td>\n",
       "      <td>1</td>\n",
       "      <td>6</td>\n",
       "      <td>47</td>\n",
       "      <td>0</td>\n",
       "      <td>1</td>\n",
       "      <td>0</td>\n",
       "      <td>0</td>\n",
       "      <td>0</td>\n",
       "      <td>1</td>\n",
       "      <td>0</td>\n",
       "      <td>0</td>\n",
       "      <td>1</td>\n",
       "      <td>1</td>\n",
       "      <td>0</td>\n",
       "    </tr>\n",
       "    <tr>\n",
       "      <td>4881</td>\n",
       "      <td>0.000003</td>\n",
       "      <td>4.069</td>\n",
       "      <td>0.019</td>\n",
       "      <td>0.000003</td>\n",
       "      <td>0.000003</td>\n",
       "      <td>0.000003</td>\n",
       "      <td>-0.000000e+00</td>\n",
       "      <td>-0.000000e+00</td>\n",
       "      <td>-0.000000e+00</td>\n",
       "      <td>0.000003</td>\n",
       "      <td>-0.000000e+00</td>\n",
       "      <td>28.70</td>\n",
       "      <td>17.33</td>\n",
       "      <td>0.63</td>\n",
       "      <td>0.15</td>\n",
       "      <td>0.726</td>\n",
       "      <td>2.717</td>\n",
       "      <td>1</td>\n",
       "      <td>6</td>\n",
       "      <td>57</td>\n",
       "      <td>0</td>\n",
       "      <td>0</td>\n",
       "      <td>0</td>\n",
       "      <td>0</td>\n",
       "      <td>1</td>\n",
       "      <td>1</td>\n",
       "      <td>0</td>\n",
       "      <td>1</td>\n",
       "      <td>0</td>\n",
       "      <td>1</td>\n",
       "      <td>0</td>\n",
       "    </tr>\n",
       "    <tr>\n",
       "      <td>7095</td>\n",
       "      <td>0.000338</td>\n",
       "      <td>4.252</td>\n",
       "      <td>0.021</td>\n",
       "      <td>0.000336</td>\n",
       "      <td>0.000350</td>\n",
       "      <td>0.000343</td>\n",
       "      <td>-5.000000e-08</td>\n",
       "      <td>0.000000e+00</td>\n",
       "      <td>-2.000000e-08</td>\n",
       "      <td>0.000340</td>\n",
       "      <td>-3.000000e-08</td>\n",
       "      <td>12.10</td>\n",
       "      <td>6.30</td>\n",
       "      <td>0.35</td>\n",
       "      <td>0.27</td>\n",
       "      <td>1.062</td>\n",
       "      <td>1.623</td>\n",
       "      <td>1</td>\n",
       "      <td>7</td>\n",
       "      <td>7</td>\n",
       "      <td>0</td>\n",
       "      <td>0</td>\n",
       "      <td>0</td>\n",
       "      <td>0</td>\n",
       "      <td>1</td>\n",
       "      <td>1</td>\n",
       "      <td>0</td>\n",
       "      <td>1</td>\n",
       "      <td>0</td>\n",
       "      <td>1</td>\n",
       "      <td>0</td>\n",
       "    </tr>\n",
       "    <tr>\n",
       "      <td>715</td>\n",
       "      <td>0.000428</td>\n",
       "      <td>4.432</td>\n",
       "      <td>0.020</td>\n",
       "      <td>0.000426</td>\n",
       "      <td>0.000444</td>\n",
       "      <td>0.000435</td>\n",
       "      <td>-1.100000e-07</td>\n",
       "      <td>3.000000e-08</td>\n",
       "      <td>-4.000000e-08</td>\n",
       "      <td>0.000431</td>\n",
       "      <td>-8.000000e-08</td>\n",
       "      <td>10.29</td>\n",
       "      <td>4.24</td>\n",
       "      <td>0.69</td>\n",
       "      <td>0.17</td>\n",
       "      <td>1.172</td>\n",
       "      <td>1.657</td>\n",
       "      <td>1</td>\n",
       "      <td>7</td>\n",
       "      <td>10</td>\n",
       "      <td>0</td>\n",
       "      <td>0</td>\n",
       "      <td>0</td>\n",
       "      <td>0</td>\n",
       "      <td>1</td>\n",
       "      <td>1</td>\n",
       "      <td>0</td>\n",
       "      <td>0</td>\n",
       "      <td>1</td>\n",
       "      <td>1</td>\n",
       "      <td>0</td>\n",
       "    </tr>\n",
       "    <tr>\n",
       "      <td>2430</td>\n",
       "      <td>0.000003</td>\n",
       "      <td>15.191</td>\n",
       "      <td>0.045</td>\n",
       "      <td>0.000003</td>\n",
       "      <td>0.000003</td>\n",
       "      <td>0.000003</td>\n",
       "      <td>-0.000000e+00</td>\n",
       "      <td>-0.000000e+00</td>\n",
       "      <td>-0.000000e+00</td>\n",
       "      <td>0.000003</td>\n",
       "      <td>-0.000000e+00</td>\n",
       "      <td>12.75</td>\n",
       "      <td>10.16</td>\n",
       "      <td>0.15</td>\n",
       "      <td>0.14</td>\n",
       "      <td>1.193</td>\n",
       "      <td>6.107</td>\n",
       "      <td>1</td>\n",
       "      <td>7</td>\n",
       "      <td>10</td>\n",
       "      <td>0</td>\n",
       "      <td>0</td>\n",
       "      <td>0</td>\n",
       "      <td>0</td>\n",
       "      <td>1</td>\n",
       "      <td>1</td>\n",
       "      <td>0</td>\n",
       "      <td>0</td>\n",
       "      <td>1</td>\n",
       "      <td>1</td>\n",
       "      <td>0</td>\n",
       "    </tr>\n",
       "  </tbody>\n",
       "</table>\n",
       "<p>37052 rows × 31 columns</p>\n",
       "</div>"
      ],
      "text/plain": [
       "          price  ranging  d_ranging     lower     upper    middle  \\\n",
       "23015  0.000009    5.248      0.022  0.000009  0.000009  0.000009   \n",
       "23016  0.000009    5.210     -0.003  0.000009  0.000009  0.000009   \n",
       "23017  0.000009    5.461     -0.013  0.000009  0.000009  0.000009   \n",
       "14973  0.000389    4.002     -0.008  0.000380  0.000395  0.000387   \n",
       "22340  0.000015   10.349     -0.143  0.000013  0.000015  0.000014   \n",
       "...         ...      ...        ...       ...       ...       ...   \n",
       "1846   0.000003    4.482      0.015  0.000003  0.000003  0.000003   \n",
       "4881   0.000003    4.069      0.019  0.000003  0.000003  0.000003   \n",
       "7095   0.000338    4.252      0.021  0.000336  0.000350  0.000343   \n",
       "715    0.000428    4.432      0.020  0.000426  0.000444  0.000435   \n",
       "2430   0.000003   15.191      0.045  0.000003  0.000003  0.000003   \n",
       "\n",
       "            d_lower       d_upper      d_middle    ema_10      d_ema_10  \\\n",
       "23015 -0.000000e+00  0.000000e+00 -0.000000e+00  0.000009 -0.000000e+00   \n",
       "23016 -0.000000e+00 -0.000000e+00 -0.000000e+00  0.000009 -0.000000e+00   \n",
       "23017 -0.000000e+00 -0.000000e+00 -0.000000e+00  0.000009 -0.000000e+00   \n",
       "14973  3.000000e-08  1.000000e-08  2.000000e-08  0.000389  2.000000e-08   \n",
       "22340  2.000000e-08 -1.000000e-08  0.000000e+00  0.000014 -0.000000e+00   \n",
       "...             ...           ...           ...       ...           ...   \n",
       "1846  -0.000000e+00  0.000000e+00 -0.000000e+00  0.000003 -0.000000e+00   \n",
       "4881  -0.000000e+00 -0.000000e+00 -0.000000e+00  0.000003 -0.000000e+00   \n",
       "7095  -5.000000e-08  0.000000e+00 -2.000000e-08  0.000340 -3.000000e-08   \n",
       "715   -1.100000e-07  3.000000e-08 -4.000000e-08  0.000431 -8.000000e-08   \n",
       "2430  -0.000000e+00 -0.000000e+00 -0.000000e+00  0.000003 -0.000000e+00   \n",
       "\n",
       "        k_15   d_15  d_k_15  d_d_15  vol_inc  dist_to_BB  day  hour  minute  \\\n",
       "23015  14.66   7.33    0.49    0.15    0.290       2.422    2     1      15   \n",
       "23016  21.98  14.66    0.49    0.49    0.541       2.243    2     1      30   \n",
       "23017  19.87  16.34    0.29    0.00    0.093       1.713    2     2      15   \n",
       "14973  16.27  12.60    0.23    0.02    0.180       1.602    2    19      15   \n",
       "22340  21.39   9.78    1.38    0.20    1.453       3.859    2    23      32   \n",
       "...      ...    ...     ...     ...      ...         ...  ...   ...     ...   \n",
       "1846   12.72   8.40    0.29    0.25    0.183       1.634    1     6      47   \n",
       "4881   28.70  17.33    0.63    0.15    0.726       2.717    1     6      57   \n",
       "7095   12.10   6.30    0.35    0.27    1.062       1.623    1     7       7   \n",
       "715    10.29   4.24    0.69    0.17    1.172       1.657    1     7      10   \n",
       "2430   12.75  10.16    0.15    0.14    1.193       6.107    1     7      10   \n",
       "\n",
       "       pattern_Bullish eng.  pattern_Doji  pattern_Hammer  pattern_Harami  \\\n",
       "23015                     0             0               0               0   \n",
       "23016                     0             1               0               0   \n",
       "23017                     1             0               0               0   \n",
       "14973                     0             1               0               0   \n",
       "22340                     0             0               0               0   \n",
       "...                     ...           ...             ...             ...   \n",
       "1846                      0             1               0               0   \n",
       "4881                      0             0               0               0   \n",
       "7095                      0             0               0               0   \n",
       "715                       0             0               0               0   \n",
       "2430                      0             0               0               0   \n",
       "\n",
       "       pattern_no  origin_lower  origin_upper  stoch_cond_5_False  \\\n",
       "23015           1             1             0                   0   \n",
       "23016           0             1             0                   0   \n",
       "23017           0             1             0                   0   \n",
       "14973           0             0             1                   0   \n",
       "22340           1             0             1                   0   \n",
       "...           ...           ...           ...                 ...   \n",
       "1846            0             1             0                   0   \n",
       "4881            1             1             0                   1   \n",
       "7095            1             1             0                   1   \n",
       "715             1             1             0                   0   \n",
       "2430            1             1             0                   0   \n",
       "\n",
       "       stoch_cond_5_True  candle_color_green  candle_color_red  \n",
       "23015                  1                   1                 0  \n",
       "23016                  1                   1                 0  \n",
       "23017                  1                   1                 0  \n",
       "14973                  1                   1                 0  \n",
       "22340                  1                   0                 1  \n",
       "...                  ...                 ...               ...  \n",
       "1846                   1                   1                 0  \n",
       "4881                   0                   1                 0  \n",
       "7095                   0                   1                 0  \n",
       "715                    1                   1                 0  \n",
       "2430                   1                   1                 0  \n",
       "\n",
       "[37052 rows x 31 columns]"
      ]
     },
     "execution_count": 34,
     "metadata": {},
     "output_type": "execute_result"
    }
   ],
   "source": [
    "X_train"
   ]
  },
  {
   "cell_type": "code",
   "execution_count": null,
   "metadata": {},
   "outputs": [],
   "source": []
  },
  {
   "cell_type": "markdown",
   "metadata": {},
   "source": [
    "### Define a function to compare different methods"
   ]
  },
  {
   "cell_type": "code",
   "execution_count": 55,
   "metadata": {},
   "outputs": [],
   "source": [
    "# function for comparing different approaches\n",
    "def score_dataset(model, X_train, X_val, y_train, y_val, **kwargs):\n",
    "    '''Trains a model, makes predictions. \n",
    "    Prints classification report\n",
    "    Returns mean absolute error'''\n",
    "    #Modified from: https://www.kaggle.com/alexisbcook/exercise-categorical-variables\n",
    "    model.fit(X_train, y_train, **kwargs)\n",
    "    preds = model.predict(X_val)\n",
    "    print(classification_report(y_val,preds))\n",
    "    return mean_absolute_error(y_val, preds)"
   ]
  },
  {
   "cell_type": "markdown",
   "metadata": {},
   "source": [
    "4. Let's already try some methods:"
   ]
  },
  {
   "cell_type": "markdown",
   "metadata": {},
   "source": [
    "### Random Forest"
   ]
  },
  {
   "cell_type": "code",
   "execution_count": 36,
   "metadata": {},
   "outputs": [],
   "source": [
    "random_forest_basic = RandomForestClassifier(n_estimators=500, max_depth=5, random_state=1)"
   ]
  },
  {
   "cell_type": "code",
   "execution_count": 37,
   "metadata": {},
   "outputs": [
    {
     "name": "stdout",
     "output_type": "stream",
     "text": [
      "Random Forest :\n",
      "              precision    recall  f1-score   support\n",
      "\n",
      "           0       0.63      0.88      0.74      1179\n",
      "           1       0.61      0.26      0.36       821\n",
      "\n",
      "    accuracy                           0.63      2000\n",
      "   macro avg       0.62      0.57      0.55      2000\n",
      "weighted avg       0.62      0.63      0.58      2000\n",
      "\n"
     ]
    },
    {
     "data": {
      "text/plain": [
       "0.373"
      ]
     },
     "execution_count": 37,
     "metadata": {},
     "output_type": "execute_result"
    }
   ],
   "source": [
    "print(\"Random Forest :\")\n",
    "score_dataset(random_forest_basic, X_train, X_val, y_train, y_val)"
   ]
  },
  {
   "cell_type": "markdown",
   "metadata": {},
   "source": [
    "### Logistic regression"
   ]
  },
  {
   "cell_type": "code",
   "execution_count": 38,
   "metadata": {},
   "outputs": [],
   "source": [
    "logmodel_basic = LogisticRegression(solver='warn')"
   ]
  },
  {
   "cell_type": "code",
   "execution_count": 39,
   "metadata": {},
   "outputs": [
    {
     "name": "stdout",
     "output_type": "stream",
     "text": [
      "Logistic regression :\n"
     ]
    },
    {
     "name": "stderr",
     "output_type": "stream",
     "text": [
      "C:\\Users\\Taras\\Anaconda3\\lib\\site-packages\\sklearn\\linear_model\\logistic.py:432: FutureWarning: Default solver will be changed to 'lbfgs' in 0.22. Specify a solver to silence this warning.\n",
      "  FutureWarning)\n"
     ]
    },
    {
     "name": "stdout",
     "output_type": "stream",
     "text": [
      "              precision    recall  f1-score   support\n",
      "\n",
      "           0       0.65      0.89      0.76      1179\n",
      "           1       0.68      0.32      0.43       821\n",
      "\n",
      "    accuracy                           0.66      2000\n",
      "   macro avg       0.67      0.61      0.59      2000\n",
      "weighted avg       0.66      0.66      0.62      2000\n",
      "\n"
     ]
    },
    {
     "data": {
      "text/plain": [
       "0.3415"
      ]
     },
     "execution_count": 39,
     "metadata": {},
     "output_type": "execute_result"
    }
   ],
   "source": [
    "\n",
    "print(\"Logistic regression :\")\n",
    "score_dataset(logmodel_basic, X_train, X_val, y_train, y_val)"
   ]
  },
  {
   "cell_type": "markdown",
   "metadata": {},
   "source": [
    "Check feature importance"
   ]
  },
  {
   "cell_type": "code",
   "execution_count": 40,
   "metadata": {},
   "outputs": [
    {
     "name": "stderr",
     "output_type": "stream",
     "text": [
      "C:\\Users\\Taras\\Anaconda3\\lib\\site-packages\\sklearn\\linear_model\\logistic.py:432: FutureWarning: Default solver will be changed to 'lbfgs' in 0.22. Specify a solver to silence this warning.\n",
      "  FutureWarning)\n"
     ]
    },
    {
     "data": {
      "text/plain": [
       "LogisticRegression(C=1.0, class_weight=None, dual=False, fit_intercept=True,\n",
       "                   intercept_scaling=1, l1_ratio=None, max_iter=100,\n",
       "                   multi_class='warn', n_jobs=None, penalty='l2',\n",
       "                   random_state=None, solver='warn', tol=0.0001, verbose=0,\n",
       "                   warm_start=False)"
      ]
     },
     "execution_count": 40,
     "metadata": {},
     "output_type": "execute_result"
    }
   ],
   "source": [
    "logmodel_basic.fit(X_train, y_train)"
   ]
  },
  {
   "cell_type": "code",
   "execution_count": 41,
   "metadata": {},
   "outputs": [],
   "source": [
    "importance = logmodel_basic.coef_[0]"
   ]
  },
  {
   "cell_type": "code",
   "execution_count": 42,
   "metadata": {},
   "outputs": [
    {
     "data": {
      "image/png": "[encoded data removed]",
      "text/plain": [
       "<Figure size 432x288 with 1 Axes>"
      ]
     },
     "metadata": {
      "needs_background": "light"
     },
     "output_type": "display_data"
    }
   ],
   "source": [
    "plt.bar([x for x in range(len(importance))], importance)\n",
    "plt.show()"
   ]
  },
  {
   "cell_type": "code",
   "execution_count": 43,
   "metadata": {},
   "outputs": [
    {
     "data": {
      "text/plain": [
       "31"
      ]
     },
     "execution_count": 43,
     "metadata": {},
     "output_type": "execute_result"
    }
   ],
   "source": [
    "len(importance)"
   ]
  },
  {
   "cell_type": "code",
   "execution_count": 44,
   "metadata": {},
   "outputs": [],
   "source": [
    "# try different solvers for logostic regression\n",
    "# solvers = {'newton-cg', 'lbfgs', 'liblinear', 'sag', 'saga'}\n",
    "# for solver in solvers:\n",
    "#     logmodel_solv = LogisticRegression(solver=solver)\n",
    "#     print(f\"Solver : {solver}\")\n",
    "#     score_dataset(logmodel_solv, X_train, X_val, y_train, y_val)"
   ]
  },
  {
   "cell_type": "markdown",
   "metadata": {},
   "source": [
    "### XG Boost"
   ]
  },
  {
   "cell_type": "code",
   "execution_count": 45,
   "metadata": {},
   "outputs": [],
   "source": [
    "XGB_basic = XGBClassifier(n_estimators=1000, learning_rate=0.01, random_state=0)"
   ]
  },
  {
   "cell_type": "code",
   "execution_count": 46,
   "metadata": {},
   "outputs": [],
   "source": [
    "# XGB_basic.fit(X_train, y_train,\n",
    "#              early_stopping_rounds=5, \n",
    "#              eval_set=[(X_val, y_val)], \n",
    "#              verbose=False)"
   ]
  },
  {
   "cell_type": "code",
   "execution_count": null,
   "metadata": {},
   "outputs": [],
   "source": []
  },
  {
   "cell_type": "code",
   "execution_count": 57,
   "metadata": {},
   "outputs": [
    {
     "name": "stdout",
     "output_type": "stream",
     "text": [
      "XG Boost :\n",
      "              precision    recall  f1-score   support\n",
      "\n",
      "           0       0.72      0.72      0.72      1179\n",
      "           1       0.60      0.60      0.60       821\n",
      "\n",
      "    accuracy                           0.67      2000\n",
      "   macro avg       0.66      0.66      0.66      2000\n",
      "weighted avg       0.67      0.67      0.67      2000\n",
      "\n"
     ]
    },
    {
     "data": {
      "text/plain": [
       "0.331"
      ]
     },
     "execution_count": 57,
     "metadata": {},
     "output_type": "execute_result"
    }
   ],
   "source": [
    "print(\"XG Boost :\")\n",
    "score_dataset(XGB_basic, X_train, X_val, y_train, y_val,\n",
    "             early_stopping_rounds=10,\n",
    "             eval_set=[(X_val, y_val)],\n",
    "             verbose=False)"
   ]
  },
  {
   "cell_type": "code",
   "execution_count": null,
   "metadata": {},
   "outputs": [],
   "source": []
  },
  {
   "cell_type": "code",
   "execution_count": 48,
   "metadata": {},
   "outputs": [],
   "source": [
    "#val_preds_XGB = XGB_basic.predict(X_val)"
   ]
  },
  {
   "cell_type": "code",
   "execution_count": 49,
   "metadata": {},
   "outputs": [],
   "source": [
    "#mae = mean_absolute_error(val_preds_XGB, y_val)"
   ]
  },
  {
   "cell_type": "code",
   "execution_count": 50,
   "metadata": {},
   "outputs": [],
   "source": [
    "#print(f\"MAE for the XG Boost without categorical features: {mae}\")"
   ]
  },
  {
   "cell_type": "markdown",
   "metadata": {},
   "source": [
    "### The best model\n",
    "\n",
    "According to the classification reports, the best model that predicts succesfull trasdes is happened to be logistic regression.\n",
    "Now, save this model using `pickle`"
   ]
  },
  {
   "cell_type": "code",
   "execution_count": 51,
   "metadata": {},
   "outputs": [
    {
     "name": "stderr",
     "output_type": "stream",
     "text": [
      "C:\\Users\\Taras\\Anaconda3\\lib\\site-packages\\sklearn\\linear_model\\logistic.py:432: FutureWarning: Default solver will be changed to 'lbfgs' in 0.22. Specify a solver to silence this warning.\n",
      "  FutureWarning)\n"
     ]
    },
    {
     "data": {
      "text/plain": [
       "LogisticRegression(C=1.0, class_weight=None, dual=False, fit_intercept=True,\n",
       "                   intercept_scaling=1, l1_ratio=None, max_iter=100,\n",
       "                   multi_class='warn', n_jobs=None, penalty='l2',\n",
       "                   random_state=None, solver='warn', tol=0.0001, verbose=0,\n",
       "                   warm_start=False)"
      ]
     },
     "execution_count": 51,
     "metadata": {},
     "output_type": "execute_result"
    }
   ],
   "source": [
    "# let's train the model again:\n",
    "logmodel_basic = LogisticRegression(solver='warn')\n",
    "logmodel_basic.fit(X_train, y_train)\n"
   ]
  },
  {
   "cell_type": "code",
   "execution_count": 52,
   "metadata": {},
   "outputs": [],
   "source": [
    "## Load pre-trained model:\n",
    "# with open('logregression.pickle', 'wb') as f:\n",
    "#     pickle.dump(logmodel_basic, f)"
   ]
  },
  {
   "cell_type": "code",
   "execution_count": 53,
   "metadata": {},
   "outputs": [],
   "source": [
    "# Open pre-trained model:\n",
    "pickle_in = open('logregression.pickle', 'rb')\n",
    "logmodel_loaded = pickle.load(pickle_in)"
   ]
  },
  {
   "cell_type": "code",
   "execution_count": 54,
   "metadata": {},
   "outputs": [
    {
     "name": "stderr",
     "output_type": "stream",
     "text": [
      "C:\\Users\\Taras\\Anaconda3\\lib\\site-packages\\sklearn\\linear_model\\logistic.py:432: FutureWarning: Default solver will be changed to 'lbfgs' in 0.22. Specify a solver to silence this warning.\n",
      "  FutureWarning)\n"
     ]
    },
    {
     "name": "stdout",
     "output_type": "stream",
     "text": [
      "              precision    recall  f1-score   support\n",
      "\n",
      "           0       0.65      0.89      0.76      1179\n",
      "           1       0.68      0.32      0.43       821\n",
      "\n",
      "    accuracy                           0.66      2000\n",
      "   macro avg       0.67      0.61      0.59      2000\n",
      "weighted avg       0.66      0.66      0.62      2000\n",
      "\n"
     ]
    },
    {
     "data": {
      "text/plain": [
       "0.3415"
      ]
     },
     "execution_count": 54,
     "metadata": {},
     "output_type": "execute_result"
    }
   ],
   "source": [
    "# Check if loaded model shows the same results:\n",
    "score_dataset(logmodel_loaded, X_train, X_val, y_train, y_val)"
   ]
  },
  {
   "cell_type": "markdown",
   "metadata": {},
   "source": [
    "<b> Note. </b> `XGBoost` shows better accuracy in general, but it better predicts loosing trades rather than succesfull. "
   ]
  },
  {
   "cell_type": "code",
   "execution_count": null,
   "metadata": {},
   "outputs": [],
   "source": []
  }
 ],
 "metadata": {
  "kernelspec": {
   "display_name": "Python 3",
   "language": "python",
   "name": "python3"
  },
  "language_info": {
   "codemirror_mode": {
    "name": "ipython",
    "version": 3
   },
   "file_extension": ".py",
   "mimetype": "text/x-python",
   "name": "python",
   "nbconvert_exporter": "python",
   "pygments_lexer": "ipython3",
   "version": "3.7.4"
  }
 },
 "nbformat": 4,
 "nbformat_minor": 2
}
