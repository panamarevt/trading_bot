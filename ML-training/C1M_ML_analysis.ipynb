{
 "cells": [
  {
   "cell_type": "code",
   "execution_count": 1,
   "metadata": {},
   "outputs": [],
   "source": [
    "import numpy as np\n",
    "import pandas as pd\n",
    "import matplotlib.pyplot as plt\n",
    "\n",
    "# Import ML libraries\n",
    "from sklearn.ensemble import RandomForestClassifier\n",
    "from sklearn.metrics import mean_absolute_error, classification_report\n",
    "from sklearn.model_selection import train_test_split\n",
    "from sklearn.linear_model import LogisticRegression\n",
    "from sklearn import preprocessing\n",
    "from xgboost import XGBClassifier\n",
    "\n",
    "import pickle # to save and load pre-trained models"
   ]
  },
  {
   "cell_type": "code",
   "execution_count": 2,
   "metadata": {},
   "outputs": [],
   "source": [
    "%matplotlib inline"
   ]
  },
  {
   "cell_type": "code",
   "execution_count": 3,
   "metadata": {},
   "outputs": [],
   "source": [
    "#trades_df = pd.read_csv('buy_signals_backtest_ML_July-Aug2020.dat')\n",
    "trades_df = pd.read_csv('buy_signals_backtest_ML_Jan2019-Aug2020.dat')\n",
    "#trades_df.set_index('time_curr', inplace=True)\n",
    "#trades_df.index=pd.to_datetime(trades_df.index)"
   ]
  },
  {
   "cell_type": "code",
   "execution_count": 4,
   "metadata": {},
   "outputs": [
    {
     "data": {
      "text/plain": [
       "Index(['time_curr', 'symbol', 'price', 'pattern', 'origin', 'ranging',\n",
       "       'd_ranging', 'lower', 'upper', 'middle', 'd_lower', 'd_upper',\n",
       "       'd_middle', 'ema_10', 'ema_200', 'd_ema_10', 'd_ema_200', 'k_15',\n",
       "       'd_15', 'd_k_15', 'd_d_15', 'stoch_cond_5', 'candle_color', 'vol_inc',\n",
       "       'dist_to_BB', 'profit', 'elapsed', 'min_price', 'max_price',\n",
       "       'profit_s15', 'elapsed_s15', 'min_price_s15', 'max_price_s15',\n",
       "       'Unnamed: 33'],\n",
       "      dtype='object')"
      ]
     },
     "execution_count": 4,
     "metadata": {},
     "output_type": "execute_result"
    }
   ],
   "source": [
    "trades_df.columns"
   ]
  },
  {
   "cell_type": "code",
   "execution_count": 5,
   "metadata": {},
   "outputs": [],
   "source": [
    "profitability = [0 if item < 0 else 1 for item in trades_df['profit']]\n",
    "trades_df['profitability'] = profitability\n",
    "profitability_s15 = [0 if item < 0 else 1 for item in trades_df['profit_s15']]\n",
    "trades_df['profitability_s15'] = profitability_s15\n"
   ]
  },
  {
   "cell_type": "markdown",
   "metadata": {},
   "source": [
    "Convert 'time_curr' to `datetime` object"
   ]
  },
  {
   "cell_type": "code",
   "execution_count": 6,
   "metadata": {},
   "outputs": [],
   "source": [
    "trades_df['time_curr'] = pd.to_datetime(trades_df['time_curr'])"
   ]
  },
  {
   "cell_type": "code",
   "execution_count": 7,
   "metadata": {},
   "outputs": [],
   "source": [
    "# Sort the dataframe by the date:\n",
    "trades_df.sort_values(by=['time_curr'], inplace=True)"
   ]
  },
  {
   "cell_type": "code",
   "execution_count": 8,
   "metadata": {},
   "outputs": [
    {
     "data": {
      "text/plain": [
       "Index(['time_curr', 'symbol', 'price', 'pattern', 'origin', 'ranging',\n",
       "       'd_ranging', 'lower', 'upper', 'middle', 'd_lower', 'd_upper',\n",
       "       'd_middle', 'ema_10', 'ema_200', 'd_ema_10', 'd_ema_200', 'k_15',\n",
       "       'd_15', 'd_k_15', 'd_d_15', 'stoch_cond_5', 'candle_color', 'vol_inc',\n",
       "       'dist_to_BB', 'profit', 'elapsed', 'min_price', 'max_price',\n",
       "       'profit_s15', 'elapsed_s15', 'min_price_s15', 'max_price_s15',\n",
       "       'Unnamed: 33', 'profitability', 'profitability_s15'],\n",
       "      dtype='object')"
      ]
     },
     "execution_count": 8,
     "metadata": {},
     "output_type": "execute_result"
    }
   ],
   "source": [
    "trades_df.columns"
   ]
  },
  {
   "cell_type": "code",
   "execution_count": 9,
   "metadata": {},
   "outputs": [
    {
     "name": "stdout",
     "output_type": "stream",
     "text": [
      "Total profitability in 617 days 10:45:00:  0.6138994161630646\n",
      "total n trades:  39052\n",
      "Total profitability in 617 days 10:45:00 with 0.15 stop loss:  0.4338318139916009\n",
      "total n trades:  39052\n"
     ]
    }
   ],
   "source": [
    "time_span = trades_df.time_curr.iloc[-1] - trades_df.time_curr.iloc[0]\n",
    "print(f\"Total profitability in {time_span}: \", trades_df['profitability'].sum()/len(trades_df['profitability']) )\n",
    "print(\"total n trades: \", len(trades_df['profitability']))\n",
    "print(f\"Total profitability in {time_span} with 0.15 stop loss: \", trades_df['profitability_s15'].sum()/len(trades_df['profitability_s15']) )\n",
    "print(\"total n trades: \", len(trades_df['profitability_s15']))"
   ]
  },
  {
   "cell_type": "code",
   "execution_count": 10,
   "metadata": {},
   "outputs": [],
   "source": [
    "trades_df.drop(['Unnamed: 33'], axis=1, inplace=True)"
   ]
  },
  {
   "cell_type": "code",
   "execution_count": 11,
   "metadata": {},
   "outputs": [
    {
     "data": {
      "text/plain": [
       "23015    1\n",
       "23016    1\n",
       "23017    1\n",
       "14973    0\n",
       "22340    1\n",
       "        ..\n",
       "9339     1\n",
       "9340     1\n",
       "2661     1\n",
       "10106    1\n",
       "3250     1\n",
       "Name: profitability, Length: 39052, dtype: int64"
      ]
     },
     "execution_count": 11,
     "metadata": {},
     "output_type": "execute_result"
    }
   ],
   "source": [
    "trades_df['profitability']"
   ]
  },
  {
   "cell_type": "code",
   "execution_count": 12,
   "metadata": {},
   "outputs": [],
   "source": [
    "pd.set_option('max_columns',100)"
   ]
  },
  {
   "cell_type": "code",
   "execution_count": 13,
   "metadata": {},
   "outputs": [],
   "source": [
    "#trades_df.dropna(axis=1, inplace=True)\n",
    "trades_df.fillna(-9999, inplace=True)"
   ]
  },
  {
   "cell_type": "code",
   "execution_count": 14,
   "metadata": {},
   "outputs": [],
   "source": [
    "trades_df = trades_df[trades_df.d_ema_200 != -9999]"
   ]
  },
  {
   "cell_type": "code",
   "execution_count": 15,
   "metadata": {},
   "outputs": [],
   "source": [
    "# Remove the problematic coin that has been identified later\n",
    "#trades_df = trades_df[trades_df.symbol != 'UMABTC']"
   ]
  },
  {
   "cell_type": "code",
   "execution_count": 16,
   "metadata": {},
   "outputs": [
    {
     "data": {
      "text/html": [
       "<div>\n",
       "<style scoped>\n",
       "    .dataframe tbody tr th:only-of-type {\n",
       "        vertical-align: middle;\n",
       "    }\n",
       "\n",
       "    .dataframe tbody tr th {\n",
       "        vertical-align: top;\n",
       "    }\n",
       "\n",
       "    .dataframe thead th {\n",
       "        text-align: right;\n",
       "    }\n",
       "</style>\n",
       "<table border=\"1\" class=\"dataframe\">\n",
       "  <thead>\n",
       "    <tr style=\"text-align: right;\">\n",
       "      <th></th>\n",
       "      <th>price</th>\n",
       "      <th>ranging</th>\n",
       "      <th>d_ranging</th>\n",
       "      <th>lower</th>\n",
       "      <th>upper</th>\n",
       "      <th>middle</th>\n",
       "      <th>d_lower</th>\n",
       "      <th>d_upper</th>\n",
       "      <th>d_middle</th>\n",
       "      <th>ema_10</th>\n",
       "      <th>ema_200</th>\n",
       "      <th>d_ema_10</th>\n",
       "      <th>d_ema_200</th>\n",
       "      <th>k_15</th>\n",
       "      <th>d_15</th>\n",
       "      <th>d_k_15</th>\n",
       "      <th>d_d_15</th>\n",
       "      <th>vol_inc</th>\n",
       "      <th>dist_to_BB</th>\n",
       "      <th>profit</th>\n",
       "      <th>elapsed</th>\n",
       "      <th>min_price</th>\n",
       "      <th>max_price</th>\n",
       "      <th>profit_s15</th>\n",
       "      <th>elapsed_s15</th>\n",
       "      <th>min_price_s15</th>\n",
       "      <th>max_price_s15</th>\n",
       "      <th>profitability</th>\n",
       "      <th>profitability_s15</th>\n",
       "    </tr>\n",
       "  </thead>\n",
       "  <tbody>\n",
       "    <tr>\n",
       "      <td>count</td>\n",
       "      <td>38673.000000</td>\n",
       "      <td>38673.000000</td>\n",
       "      <td>38673.000000</td>\n",
       "      <td>38673.000000</td>\n",
       "      <td>38673.000000</td>\n",
       "      <td>38673.000000</td>\n",
       "      <td>3.867300e+04</td>\n",
       "      <td>3.867300e+04</td>\n",
       "      <td>3.867300e+04</td>\n",
       "      <td>38673.000000</td>\n",
       "      <td>38673.000000</td>\n",
       "      <td>3.867300e+04</td>\n",
       "      <td>3.867300e+04</td>\n",
       "      <td>38673.000000</td>\n",
       "      <td>38673.000000</td>\n",
       "      <td>38673.000000</td>\n",
       "      <td>38673.000000</td>\n",
       "      <td>38673.000000</td>\n",
       "      <td>38673.000000</td>\n",
       "      <td>38673.000000</td>\n",
       "      <td>38673.000000</td>\n",
       "      <td>38673.000000</td>\n",
       "      <td>38673.000000</td>\n",
       "      <td>38673.000000</td>\n",
       "      <td>38673.000000</td>\n",
       "      <td>38673.000000</td>\n",
       "      <td>38673.000000</td>\n",
       "      <td>38673.000000</td>\n",
       "      <td>38673.000000</td>\n",
       "    </tr>\n",
       "    <tr>\n",
       "      <td>mean</td>\n",
       "      <td>0.000259</td>\n",
       "      <td>8.132035</td>\n",
       "      <td>0.015274</td>\n",
       "      <td>0.000257</td>\n",
       "      <td>0.000275</td>\n",
       "      <td>0.000266</td>\n",
       "      <td>-6.956378e-08</td>\n",
       "      <td>5.781294e-09</td>\n",
       "      <td>-3.160784e-08</td>\n",
       "      <td>0.000262</td>\n",
       "      <td>0.000265</td>\n",
       "      <td>-5.806764e-08</td>\n",
       "      <td>-4.493574e-09</td>\n",
       "      <td>17.991926</td>\n",
       "      <td>11.614167</td>\n",
       "      <td>0.505600</td>\n",
       "      <td>0.267060</td>\n",
       "      <td>1.315766</td>\n",
       "      <td>3.156596</td>\n",
       "      <td>-0.236328</td>\n",
       "      <td>152.000776</td>\n",
       "      <td>-1.483952</td>\n",
       "      <td>1.519735</td>\n",
       "      <td>-0.198006</td>\n",
       "      <td>75.169265</td>\n",
       "      <td>-0.916117</td>\n",
       "      <td>1.194247</td>\n",
       "      <td>0.614149</td>\n",
       "      <td>0.433998</td>\n",
       "    </tr>\n",
       "    <tr>\n",
       "      <td>std</td>\n",
       "      <td>0.000901</td>\n",
       "      <td>4.929595</td>\n",
       "      <td>0.052520</td>\n",
       "      <td>0.000895</td>\n",
       "      <td>0.000954</td>\n",
       "      <td>0.000924</td>\n",
       "      <td>3.697506e-07</td>\n",
       "      <td>1.564281e-07</td>\n",
       "      <td>1.482744e-07</td>\n",
       "      <td>0.000912</td>\n",
       "      <td>0.000928</td>\n",
       "      <td>2.523498e-07</td>\n",
       "      <td>4.049922e-08</td>\n",
       "      <td>6.259305</td>\n",
       "      <td>5.698897</td>\n",
       "      <td>0.269057</td>\n",
       "      <td>0.162142</td>\n",
       "      <td>5.187358</td>\n",
       "      <td>2.017446</td>\n",
       "      <td>2.190608</td>\n",
       "      <td>277.567596</td>\n",
       "      <td>0.980151</td>\n",
       "      <td>1.295275</td>\n",
       "      <td>1.486893</td>\n",
       "      <td>140.239091</td>\n",
       "      <td>0.458446</td>\n",
       "      <td>1.180594</td>\n",
       "      <td>0.486802</td>\n",
       "      <td>0.495631</td>\n",
       "    </tr>\n",
       "    <tr>\n",
       "      <td>min</td>\n",
       "      <td>0.000002</td>\n",
       "      <td>4.000000</td>\n",
       "      <td>-1.393000</td>\n",
       "      <td>0.000001</td>\n",
       "      <td>0.000002</td>\n",
       "      <td>0.000002</td>\n",
       "      <td>-1.039000e-05</td>\n",
       "      <td>-6.480000e-06</td>\n",
       "      <td>-3.520000e-06</td>\n",
       "      <td>0.000002</td>\n",
       "      <td>0.000001</td>\n",
       "      <td>-6.850000e-06</td>\n",
       "      <td>-9.500000e-07</td>\n",
       "      <td>10.000000</td>\n",
       "      <td>3.330000</td>\n",
       "      <td>0.000000</td>\n",
       "      <td>0.000000</td>\n",
       "      <td>0.000000</td>\n",
       "      <td>1.500000</td>\n",
       "      <td>-3.000000</td>\n",
       "      <td>1.000000</td>\n",
       "      <td>-2.500000</td>\n",
       "      <td>-4.500000</td>\n",
       "      <td>-1.500000</td>\n",
       "      <td>1.000000</td>\n",
       "      <td>-1.250000</td>\n",
       "      <td>-4.460000</td>\n",
       "      <td>0.000000</td>\n",
       "      <td>0.000000</td>\n",
       "    </tr>\n",
       "    <tr>\n",
       "      <td>25%</td>\n",
       "      <td>0.000007</td>\n",
       "      <td>5.227000</td>\n",
       "      <td>0.000000</td>\n",
       "      <td>0.000007</td>\n",
       "      <td>0.000007</td>\n",
       "      <td>0.000007</td>\n",
       "      <td>-3.000000e-08</td>\n",
       "      <td>0.000000e+00</td>\n",
       "      <td>-1.000000e-08</td>\n",
       "      <td>0.000007</td>\n",
       "      <td>0.000007</td>\n",
       "      <td>-2.000000e-08</td>\n",
       "      <td>0.000000e+00</td>\n",
       "      <td>12.220000</td>\n",
       "      <td>6.940000</td>\n",
       "      <td>0.310000</td>\n",
       "      <td>0.150000</td>\n",
       "      <td>0.289000</td>\n",
       "      <td>1.955000</td>\n",
       "      <td>-3.000000</td>\n",
       "      <td>24.000000</td>\n",
       "      <td>-2.500000</td>\n",
       "      <td>0.640000</td>\n",
       "      <td>-1.500000</td>\n",
       "      <td>12.000000</td>\n",
       "      <td>-1.250000</td>\n",
       "      <td>0.320000</td>\n",
       "      <td>0.000000</td>\n",
       "      <td>0.000000</td>\n",
       "    </tr>\n",
       "    <tr>\n",
       "      <td>50%</td>\n",
       "      <td>0.000030</td>\n",
       "      <td>6.748000</td>\n",
       "      <td>0.015000</td>\n",
       "      <td>0.000029</td>\n",
       "      <td>0.000032</td>\n",
       "      <td>0.000030</td>\n",
       "      <td>-1.000000e-08</td>\n",
       "      <td>0.000000e+00</td>\n",
       "      <td>-0.000000e+00</td>\n",
       "      <td>0.000030</td>\n",
       "      <td>0.000030</td>\n",
       "      <td>-0.000000e+00</td>\n",
       "      <td>0.000000e+00</td>\n",
       "      <td>16.730000</td>\n",
       "      <td>10.620000</td>\n",
       "      <td>0.490000</td>\n",
       "      <td>0.250000</td>\n",
       "      <td>0.681000</td>\n",
       "      <td>2.579000</td>\n",
       "      <td>1.500000</td>\n",
       "      <td>64.000000</td>\n",
       "      <td>-1.590000</td>\n",
       "      <td>1.550000</td>\n",
       "      <td>-1.500000</td>\n",
       "      <td>32.000000</td>\n",
       "      <td>-1.250000</td>\n",
       "      <td>1.040000</td>\n",
       "      <td>1.000000</td>\n",
       "      <td>0.000000</td>\n",
       "    </tr>\n",
       "    <tr>\n",
       "      <td>75%</td>\n",
       "      <td>0.000124</td>\n",
       "      <td>9.356000</td>\n",
       "      <td>0.032000</td>\n",
       "      <td>0.000123</td>\n",
       "      <td>0.000131</td>\n",
       "      <td>0.000127</td>\n",
       "      <td>0.000000e+00</td>\n",
       "      <td>-0.000000e+00</td>\n",
       "      <td>-0.000000e+00</td>\n",
       "      <td>0.000125</td>\n",
       "      <td>0.000126</td>\n",
       "      <td>-0.000000e+00</td>\n",
       "      <td>0.000000e+00</td>\n",
       "      <td>23.290000</td>\n",
       "      <td>15.410000</td>\n",
       "      <td>0.690000</td>\n",
       "      <td>0.370000</td>\n",
       "      <td>1.353000</td>\n",
       "      <td>3.652000</td>\n",
       "      <td>1.500000</td>\n",
       "      <td>162.000000</td>\n",
       "      <td>-0.500000</td>\n",
       "      <td>1.960000</td>\n",
       "      <td>1.500000</td>\n",
       "      <td>80.000000</td>\n",
       "      <td>-0.530000</td>\n",
       "      <td>1.740000</td>\n",
       "      <td>1.000000</td>\n",
       "      <td>1.000000</td>\n",
       "    </tr>\n",
       "    <tr>\n",
       "      <td>max</td>\n",
       "      <td>0.008987</td>\n",
       "      <td>307.999000</td>\n",
       "      <td>3.898000</td>\n",
       "      <td>0.008979</td>\n",
       "      <td>0.009661</td>\n",
       "      <td>0.009236</td>\n",
       "      <td>9.100000e-06</td>\n",
       "      <td>7.020000e-06</td>\n",
       "      <td>2.630000e-06</td>\n",
       "      <td>0.009112</td>\n",
       "      <td>0.009531</td>\n",
       "      <td>1.160000e-06</td>\n",
       "      <td>9.800000e-07</td>\n",
       "      <td>30.000000</td>\n",
       "      <td>29.900000</td>\n",
       "      <td>2.000000</td>\n",
       "      <td>0.670000</td>\n",
       "      <td>673.619000</td>\n",
       "      <td>121.406000</td>\n",
       "      <td>1.500000</td>\n",
       "      <td>12083.000000</td>\n",
       "      <td>0.880000</td>\n",
       "      <td>36.020000</td>\n",
       "      <td>1.500000</td>\n",
       "      <td>4617.000000</td>\n",
       "      <td>0.880000</td>\n",
       "      <td>33.920000</td>\n",
       "      <td>1.000000</td>\n",
       "      <td>1.000000</td>\n",
       "    </tr>\n",
       "  </tbody>\n",
       "</table>\n",
       "</div>"
      ],
      "text/plain": [
       "              price       ranging     d_ranging         lower         upper  \\\n",
       "count  38673.000000  38673.000000  38673.000000  38673.000000  38673.000000   \n",
       "mean       0.000259      8.132035      0.015274      0.000257      0.000275   \n",
       "std        0.000901      4.929595      0.052520      0.000895      0.000954   \n",
       "min        0.000002      4.000000     -1.393000      0.000001      0.000002   \n",
       "25%        0.000007      5.227000      0.000000      0.000007      0.000007   \n",
       "50%        0.000030      6.748000      0.015000      0.000029      0.000032   \n",
       "75%        0.000124      9.356000      0.032000      0.000123      0.000131   \n",
       "max        0.008987    307.999000      3.898000      0.008979      0.009661   \n",
       "\n",
       "             middle       d_lower       d_upper      d_middle        ema_10  \\\n",
       "count  38673.000000  3.867300e+04  3.867300e+04  3.867300e+04  38673.000000   \n",
       "mean       0.000266 -6.956378e-08  5.781294e-09 -3.160784e-08      0.000262   \n",
       "std        0.000924  3.697506e-07  1.564281e-07  1.482744e-07      0.000912   \n",
       "min        0.000002 -1.039000e-05 -6.480000e-06 -3.520000e-06      0.000002   \n",
       "25%        0.000007 -3.000000e-08  0.000000e+00 -1.000000e-08      0.000007   \n",
       "50%        0.000030 -1.000000e-08  0.000000e+00 -0.000000e+00      0.000030   \n",
       "75%        0.000127  0.000000e+00 -0.000000e+00 -0.000000e+00      0.000125   \n",
       "max        0.009236  9.100000e-06  7.020000e-06  2.630000e-06      0.009112   \n",
       "\n",
       "            ema_200      d_ema_10     d_ema_200          k_15          d_15  \\\n",
       "count  38673.000000  3.867300e+04  3.867300e+04  38673.000000  38673.000000   \n",
       "mean       0.000265 -5.806764e-08 -4.493574e-09     17.991926     11.614167   \n",
       "std        0.000928  2.523498e-07  4.049922e-08      6.259305      5.698897   \n",
       "min        0.000001 -6.850000e-06 -9.500000e-07     10.000000      3.330000   \n",
       "25%        0.000007 -2.000000e-08  0.000000e+00     12.220000      6.940000   \n",
       "50%        0.000030 -0.000000e+00  0.000000e+00     16.730000     10.620000   \n",
       "75%        0.000126 -0.000000e+00  0.000000e+00     23.290000     15.410000   \n",
       "max        0.009531  1.160000e-06  9.800000e-07     30.000000     29.900000   \n",
       "\n",
       "             d_k_15        d_d_15       vol_inc    dist_to_BB        profit  \\\n",
       "count  38673.000000  38673.000000  38673.000000  38673.000000  38673.000000   \n",
       "mean       0.505600      0.267060      1.315766      3.156596     -0.236328   \n",
       "std        0.269057      0.162142      5.187358      2.017446      2.190608   \n",
       "min        0.000000      0.000000      0.000000      1.500000     -3.000000   \n",
       "25%        0.310000      0.150000      0.289000      1.955000     -3.000000   \n",
       "50%        0.490000      0.250000      0.681000      2.579000      1.500000   \n",
       "75%        0.690000      0.370000      1.353000      3.652000      1.500000   \n",
       "max        2.000000      0.670000    673.619000    121.406000      1.500000   \n",
       "\n",
       "            elapsed     min_price     max_price    profit_s15   elapsed_s15  \\\n",
       "count  38673.000000  38673.000000  38673.000000  38673.000000  38673.000000   \n",
       "mean     152.000776     -1.483952      1.519735     -0.198006     75.169265   \n",
       "std      277.567596      0.980151      1.295275      1.486893    140.239091   \n",
       "min        1.000000     -2.500000     -4.500000     -1.500000      1.000000   \n",
       "25%       24.000000     -2.500000      0.640000     -1.500000     12.000000   \n",
       "50%       64.000000     -1.590000      1.550000     -1.500000     32.000000   \n",
       "75%      162.000000     -0.500000      1.960000      1.500000     80.000000   \n",
       "max    12083.000000      0.880000     36.020000      1.500000   4617.000000   \n",
       "\n",
       "       min_price_s15  max_price_s15  profitability  profitability_s15  \n",
       "count   38673.000000   38673.000000   38673.000000       38673.000000  \n",
       "mean       -0.916117       1.194247       0.614149           0.433998  \n",
       "std         0.458446       1.180594       0.486802           0.495631  \n",
       "min        -1.250000      -4.460000       0.000000           0.000000  \n",
       "25%        -1.250000       0.320000       0.000000           0.000000  \n",
       "50%        -1.250000       1.040000       1.000000           0.000000  \n",
       "75%        -0.530000       1.740000       1.000000           1.000000  \n",
       "max         0.880000      33.920000       1.000000           1.000000  "
      ]
     },
     "execution_count": 16,
     "metadata": {},
     "output_type": "execute_result"
    }
   ],
   "source": [
    "trades_df.describe()"
   ]
  },
  {
   "cell_type": "markdown",
   "metadata": {},
   "source": [
    "### Now we start preparing the dataset to train a model using various Machine Learning methods"
   ]
  },
  {
   "cell_type": "markdown",
   "metadata": {},
   "source": [
    "1. Features:"
   ]
  },
  {
   "cell_type": "code",
   "execution_count": 17,
   "metadata": {},
   "outputs": [],
   "source": [
    "X = trades_df.drop(['symbol','profit',\n",
    "                    'stoch_cond_5','vol_inc',\n",
    "       'elapsed', 'min_price', 'max_price', 'profit_s15', 'elapsed_s15',\n",
    "       'min_price_s15', 'max_price_s15',  'profitability',\n",
    "       'profitability_s15'], axis=1)\n",
    "\n",
    "# For the 1st trial, let us also drop all categorical variables:\n",
    "# X = trades_df.drop(['time_curr','profit',\n",
    "#                     'pattern','origin','symbol','stoch_cond_5','candle_color',\n",
    "#        'elapsed', 'min_price', 'max_price', 'profit_s15', 'elapsed_s15',\n",
    "#        'min_price_s15', 'max_price_s15',  'profitability',\n",
    "#        'profitability_s15'], axis=1)"
   ]
  },
  {
   "cell_type": "code",
   "execution_count": 18,
   "metadata": {},
   "outputs": [],
   "source": [
    "#X['stoch_cond_5'] = X['stoch_cond_5'].astype('str')"
   ]
  },
  {
   "cell_type": "code",
   "execution_count": 19,
   "metadata": {},
   "outputs": [],
   "source": [
    "### Looks like features from timestamps don't help\n",
    "# X['day'] = X.time_curr.dt.day.astype('uint8')\n",
    "# X['hour'] = X.time_curr.dt.hour.astype('uint8')\n",
    "# X['minute'] = X.time_curr.dt.minute.astype('uint8')"
   ]
  },
  {
   "cell_type": "code",
   "execution_count": 20,
   "metadata": {},
   "outputs": [],
   "source": [
    "X.drop(['time_curr'], axis=1, inplace=True)"
   ]
  },
  {
   "cell_type": "code",
   "execution_count": 21,
   "metadata": {},
   "outputs": [
    {
     "data": {
      "text/plain": [
       "Index(['price', 'pattern', 'origin', 'ranging', 'd_ranging', 'lower', 'upper',\n",
       "       'middle', 'd_lower', 'd_upper', 'd_middle', 'ema_10', 'ema_200',\n",
       "       'd_ema_10', 'd_ema_200', 'k_15', 'd_15', 'd_k_15', 'd_d_15',\n",
       "       'candle_color', 'dist_to_BB'],\n",
       "      dtype='object')"
      ]
     },
     "execution_count": 21,
     "metadata": {},
     "output_type": "execute_result"
    }
   ],
   "source": [
    "X.columns"
   ]
  },
  {
   "cell_type": "code",
   "execution_count": 22,
   "metadata": {},
   "outputs": [],
   "source": [
    "# Let's try to drop all prices and keep only the slopes and percentages: (No!)\n",
    "## X = X.drop(['price', 'lower', 'upper', 'middle', 'ema_10'], axis=1)"
   ]
  },
  {
   "cell_type": "code",
   "execution_count": 23,
   "metadata": {},
   "outputs": [],
   "source": [
    "for col in ['d_lower', 'd_upper', 'd_middle', 'd_ema_10', 'd_ema_200' ]: X[col] = X[col]*100000"
   ]
  },
  {
   "cell_type": "code",
   "execution_count": 24,
   "metadata": {},
   "outputs": [
    {
     "data": {
      "text/html": [
       "<div>\n",
       "<style scoped>\n",
       "    .dataframe tbody tr th:only-of-type {\n",
       "        vertical-align: middle;\n",
       "    }\n",
       "\n",
       "    .dataframe tbody tr th {\n",
       "        vertical-align: top;\n",
       "    }\n",
       "\n",
       "    .dataframe thead th {\n",
       "        text-align: right;\n",
       "    }\n",
       "</style>\n",
       "<table border=\"1\" class=\"dataframe\">\n",
       "  <thead>\n",
       "    <tr style=\"text-align: right;\">\n",
       "      <th></th>\n",
       "      <th>price</th>\n",
       "      <th>pattern</th>\n",
       "      <th>origin</th>\n",
       "      <th>ranging</th>\n",
       "      <th>d_ranging</th>\n",
       "      <th>lower</th>\n",
       "      <th>upper</th>\n",
       "      <th>middle</th>\n",
       "      <th>d_lower</th>\n",
       "      <th>d_upper</th>\n",
       "      <th>d_middle</th>\n",
       "      <th>ema_10</th>\n",
       "      <th>ema_200</th>\n",
       "      <th>d_ema_10</th>\n",
       "      <th>d_ema_200</th>\n",
       "      <th>k_15</th>\n",
       "      <th>d_15</th>\n",
       "      <th>d_k_15</th>\n",
       "      <th>d_d_15</th>\n",
       "      <th>candle_color</th>\n",
       "      <th>dist_to_BB</th>\n",
       "    </tr>\n",
       "  </thead>\n",
       "  <tbody>\n",
       "    <tr>\n",
       "      <td>30297</td>\n",
       "      <td>0.000013</td>\n",
       "      <td>no</td>\n",
       "      <td>upper</td>\n",
       "      <td>7.312</td>\n",
       "      <td>0.019</td>\n",
       "      <td>0.000012</td>\n",
       "      <td>0.000013</td>\n",
       "      <td>0.000013</td>\n",
       "      <td>0.000</td>\n",
       "      <td>0.000</td>\n",
       "      <td>0.000</td>\n",
       "      <td>0.000013</td>\n",
       "      <td>0.000012</td>\n",
       "      <td>0.000</td>\n",
       "      <td>0.000</td>\n",
       "      <td>27.18</td>\n",
       "      <td>16.80</td>\n",
       "      <td>0.85</td>\n",
       "      <td>0.43</td>\n",
       "      <td>green</td>\n",
       "      <td>1.928</td>\n",
       "    </tr>\n",
       "    <tr>\n",
       "      <td>22022</td>\n",
       "      <td>0.000076</td>\n",
       "      <td>no</td>\n",
       "      <td>upper</td>\n",
       "      <td>9.851</td>\n",
       "      <td>-0.153</td>\n",
       "      <td>0.000072</td>\n",
       "      <td>0.000081</td>\n",
       "      <td>0.000076</td>\n",
       "      <td>0.006</td>\n",
       "      <td>-0.003</td>\n",
       "      <td>0.002</td>\n",
       "      <td>0.000076</td>\n",
       "      <td>0.000065</td>\n",
       "      <td>-0.001</td>\n",
       "      <td>0.001</td>\n",
       "      <td>10.95</td>\n",
       "      <td>10.45</td>\n",
       "      <td>0.05</td>\n",
       "      <td>0.24</td>\n",
       "      <td>red</td>\n",
       "      <td>6.454</td>\n",
       "    </tr>\n",
       "    <tr>\n",
       "      <td>22023</td>\n",
       "      <td>0.000072</td>\n",
       "      <td>Hammer</td>\n",
       "      <td>lower</td>\n",
       "      <td>13.827</td>\n",
       "      <td>0.062</td>\n",
       "      <td>0.000071</td>\n",
       "      <td>0.000080</td>\n",
       "      <td>0.000075</td>\n",
       "      <td>-0.003</td>\n",
       "      <td>-0.001</td>\n",
       "      <td>-0.002</td>\n",
       "      <td>0.000073</td>\n",
       "      <td>0.000066</td>\n",
       "      <td>-0.002</td>\n",
       "      <td>0.000</td>\n",
       "      <td>12.69</td>\n",
       "      <td>7.72</td>\n",
       "      <td>0.35</td>\n",
       "      <td>0.28</td>\n",
       "      <td>green</td>\n",
       "      <td>4.254</td>\n",
       "    </tr>\n",
       "    <tr>\n",
       "      <td>22344</td>\n",
       "      <td>0.000013</td>\n",
       "      <td>Harami</td>\n",
       "      <td>lower</td>\n",
       "      <td>6.464</td>\n",
       "      <td>0.026</td>\n",
       "      <td>0.000013</td>\n",
       "      <td>0.000014</td>\n",
       "      <td>0.000013</td>\n",
       "      <td>-0.000</td>\n",
       "      <td>-0.000</td>\n",
       "      <td>-0.000</td>\n",
       "      <td>0.000013</td>\n",
       "      <td>0.000012</td>\n",
       "      <td>-0.000</td>\n",
       "      <td>0.000</td>\n",
       "      <td>21.00</td>\n",
       "      <td>14.84</td>\n",
       "      <td>0.41</td>\n",
       "      <td>0.04</td>\n",
       "      <td>green</td>\n",
       "      <td>2.795</td>\n",
       "    </tr>\n",
       "    <tr>\n",
       "      <td>22346</td>\n",
       "      <td>0.000013</td>\n",
       "      <td>no</td>\n",
       "      <td>lower</td>\n",
       "      <td>6.569</td>\n",
       "      <td>0.007</td>\n",
       "      <td>0.000013</td>\n",
       "      <td>0.000014</td>\n",
       "      <td>0.000013</td>\n",
       "      <td>-0.000</td>\n",
       "      <td>-0.000</td>\n",
       "      <td>-0.000</td>\n",
       "      <td>0.000013</td>\n",
       "      <td>0.000012</td>\n",
       "      <td>-0.000</td>\n",
       "      <td>0.000</td>\n",
       "      <td>19.36</td>\n",
       "      <td>17.33</td>\n",
       "      <td>0.10</td>\n",
       "      <td>0.24</td>\n",
       "      <td>red</td>\n",
       "      <td>2.470</td>\n",
       "    </tr>\n",
       "  </tbody>\n",
       "</table>\n",
       "</div>"
      ],
      "text/plain": [
       "          price pattern origin  ranging  d_ranging     lower     upper  \\\n",
       "30297  0.000013      no  upper    7.312      0.019  0.000012  0.000013   \n",
       "22022  0.000076      no  upper    9.851     -0.153  0.000072  0.000081   \n",
       "22023  0.000072  Hammer  lower   13.827      0.062  0.000071  0.000080   \n",
       "22344  0.000013  Harami  lower    6.464      0.026  0.000013  0.000014   \n",
       "22346  0.000013      no  lower    6.569      0.007  0.000013  0.000014   \n",
       "\n",
       "         middle  d_lower  d_upper  d_middle    ema_10   ema_200  d_ema_10  \\\n",
       "30297  0.000013    0.000    0.000     0.000  0.000013  0.000012     0.000   \n",
       "22022  0.000076    0.006   -0.003     0.002  0.000076  0.000065    -0.001   \n",
       "22023  0.000075   -0.003   -0.001    -0.002  0.000073  0.000066    -0.002   \n",
       "22344  0.000013   -0.000   -0.000    -0.000  0.000013  0.000012    -0.000   \n",
       "22346  0.000013   -0.000   -0.000    -0.000  0.000013  0.000012    -0.000   \n",
       "\n",
       "       d_ema_200   k_15   d_15  d_k_15  d_d_15 candle_color  dist_to_BB  \n",
       "30297      0.000  27.18  16.80    0.85    0.43        green       1.928  \n",
       "22022      0.001  10.95  10.45    0.05    0.24          red       6.454  \n",
       "22023      0.000  12.69   7.72    0.35    0.28        green       4.254  \n",
       "22344      0.000  21.00  14.84    0.41    0.04        green       2.795  \n",
       "22346      0.000  19.36  17.33    0.10    0.24          red       2.470  "
      ]
     },
     "execution_count": 24,
     "metadata": {},
     "output_type": "execute_result"
    }
   ],
   "source": [
    "X.head()"
   ]
  },
  {
   "cell_type": "markdown",
   "metadata": {},
   "source": [
    "2. Target:"
   ]
  },
  {
   "cell_type": "markdown",
   "metadata": {},
   "source": [
    "Here we predict whether the trade is going to be profitable or not."
   ]
  },
  {
   "cell_type": "code",
   "execution_count": 25,
   "metadata": {},
   "outputs": [],
   "source": [
    "y = trades_df.profitability_s15\n",
    "# what if we predict profitability for stop loss 0.3?\n",
    "#y = trades_df.profitability"
   ]
  },
  {
   "cell_type": "code",
   "execution_count": 26,
   "metadata": {},
   "outputs": [
    {
     "data": {
      "text/plain": [
       "30297    0\n",
       "22022    0\n",
       "22023    0\n",
       "22344    1\n",
       "22346    1\n",
       "        ..\n",
       "9339     1\n",
       "9340     1\n",
       "2661     1\n",
       "10106    1\n",
       "3250     1\n",
       "Name: profitability_s15, Length: 38673, dtype: int64"
      ]
     },
     "execution_count": 26,
     "metadata": {},
     "output_type": "execute_result"
    }
   ],
   "source": [
    "y"
   ]
  },
  {
   "cell_type": "code",
   "execution_count": 27,
   "metadata": {},
   "outputs": [],
   "source": [
    "#test_size = 2000\n",
    "\n",
    "# Make sure that there are no new symbols in the test dataset\n",
    "\n",
    "# for item_val in X.symbol.tail(test_size).unique():\n",
    "#     if item_val not in X.symbol.iloc[:-test_size].unique(): print(item_val)\n",
    "\n",
    "    \n",
    "    "
   ]
  },
  {
   "cell_type": "code",
   "execution_count": 28,
   "metadata": {},
   "outputs": [],
   "source": [
    "# X = X[X.symbol != 'UMABTC']\n",
    "# y = y[X.symbol != 'UMABTC']"
   ]
  },
  {
   "cell_type": "code",
   "execution_count": 29,
   "metadata": {},
   "outputs": [],
   "source": [
    "\n",
    "# for item_val in X.symbol.tail(test_size).unique():\n",
    "#     if item_val not in X.symbol.iloc[:-test_size].unique(): print(item_val)\n",
    "\n",
    " "
   ]
  },
  {
   "cell_type": "markdown",
   "metadata": {},
   "source": [
    "### Train and test split"
   ]
  },
  {
   "cell_type": "code",
   "execution_count": 30,
   "metadata": {},
   "outputs": [],
   "source": [
    "# Random split\n",
    "#X_train, X_val, y_train, y_val = train_test_split(X, y, test_size=0.1, random_state=101)\n",
    "\n",
    "# More realistic split is where we choose the latest deals as test data. Remove last rows:\n",
    "test_size = 2000\n",
    "# Remove last rows from the dataset\n",
    "X_train, y_train = X.iloc[:-test_size], y.iloc[:-test_size]\n",
    "X_val, y_val = X.tail(test_size), y.tail(test_size)"
   ]
  },
  {
   "cell_type": "markdown",
   "metadata": {},
   "source": [
    "### Categorical encoding"
   ]
  },
  {
   "cell_type": "markdown",
   "metadata": {},
   "source": [
    "3. Now it's time to make cathegorical encodings (or wait, let's do it later!) :-)"
   ]
  },
  {
   "cell_type": "code",
   "execution_count": 31,
   "metadata": {},
   "outputs": [],
   "source": [
    "# from sklearn.preprocessing import LabelEncoder\n",
    "# label_encoder = LabelEncoder()"
   ]
  },
  {
   "cell_type": "code",
   "execution_count": 32,
   "metadata": {},
   "outputs": [],
   "source": [
    "# categorical = ['pattern', 'origin', 'stoch_cond_5', 'candle_color']\n",
    "# label = ['symbol']"
   ]
  },
  {
   "cell_type": "code",
   "execution_count": 33,
   "metadata": {},
   "outputs": [],
   "source": [
    "# for col in label:\n",
    "#     X_train[col] = label_encoder.fit_transform(X_train[col])\n",
    "#     X_val[col] = label_encoder.transform(X_val[col])"
   ]
  },
  {
   "cell_type": "code",
   "execution_count": 34,
   "metadata": {},
   "outputs": [],
   "source": [
    "# For now go with the simplest One-Hot encoding provided by pandas:\n",
    "X_train, X_val = pd.get_dummies(X_train), pd.get_dummies(X_val)"
   ]
  },
  {
   "cell_type": "code",
   "execution_count": 35,
   "metadata": {},
   "outputs": [],
   "source": [
    "#X_train, X_val = preprocessing.scale(X_train), preprocessing.scale(X_val)"
   ]
  },
  {
   "cell_type": "code",
   "execution_count": 36,
   "metadata": {},
   "outputs": [
    {
     "data": {
      "text/html": [
       "<div>\n",
       "<style scoped>\n",
       "    .dataframe tbody tr th:only-of-type {\n",
       "        vertical-align: middle;\n",
       "    }\n",
       "\n",
       "    .dataframe tbody tr th {\n",
       "        vertical-align: top;\n",
       "    }\n",
       "\n",
       "    .dataframe thead th {\n",
       "        text-align: right;\n",
       "    }\n",
       "</style>\n",
       "<table border=\"1\" class=\"dataframe\">\n",
       "  <thead>\n",
       "    <tr style=\"text-align: right;\">\n",
       "      <th></th>\n",
       "      <th>price</th>\n",
       "      <th>ranging</th>\n",
       "      <th>d_ranging</th>\n",
       "      <th>lower</th>\n",
       "      <th>upper</th>\n",
       "      <th>middle</th>\n",
       "      <th>d_lower</th>\n",
       "      <th>d_upper</th>\n",
       "      <th>d_middle</th>\n",
       "      <th>ema_10</th>\n",
       "      <th>ema_200</th>\n",
       "      <th>d_ema_10</th>\n",
       "      <th>d_ema_200</th>\n",
       "      <th>k_15</th>\n",
       "      <th>d_15</th>\n",
       "      <th>d_k_15</th>\n",
       "      <th>d_d_15</th>\n",
       "      <th>dist_to_BB</th>\n",
       "      <th>pattern_Bullish eng.</th>\n",
       "      <th>pattern_Doji</th>\n",
       "      <th>pattern_Hammer</th>\n",
       "      <th>pattern_Harami</th>\n",
       "      <th>pattern_no</th>\n",
       "      <th>origin_lower</th>\n",
       "      <th>origin_upper</th>\n",
       "      <th>candle_color_green</th>\n",
       "      <th>candle_color_red</th>\n",
       "    </tr>\n",
       "  </thead>\n",
       "  <tbody>\n",
       "    <tr>\n",
       "      <td>30297</td>\n",
       "      <td>0.000013</td>\n",
       "      <td>7.312</td>\n",
       "      <td>0.019</td>\n",
       "      <td>0.000012</td>\n",
       "      <td>0.000013</td>\n",
       "      <td>0.000013</td>\n",
       "      <td>0.000</td>\n",
       "      <td>0.000</td>\n",
       "      <td>0.000</td>\n",
       "      <td>0.000013</td>\n",
       "      <td>0.000012</td>\n",
       "      <td>0.000</td>\n",
       "      <td>0.000</td>\n",
       "      <td>27.18</td>\n",
       "      <td>16.80</td>\n",
       "      <td>0.85</td>\n",
       "      <td>0.43</td>\n",
       "      <td>1.928</td>\n",
       "      <td>0</td>\n",
       "      <td>0</td>\n",
       "      <td>0</td>\n",
       "      <td>0</td>\n",
       "      <td>1</td>\n",
       "      <td>0</td>\n",
       "      <td>1</td>\n",
       "      <td>1</td>\n",
       "      <td>0</td>\n",
       "    </tr>\n",
       "    <tr>\n",
       "      <td>22022</td>\n",
       "      <td>0.000076</td>\n",
       "      <td>9.851</td>\n",
       "      <td>-0.153</td>\n",
       "      <td>0.000072</td>\n",
       "      <td>0.000081</td>\n",
       "      <td>0.000076</td>\n",
       "      <td>0.006</td>\n",
       "      <td>-0.003</td>\n",
       "      <td>0.002</td>\n",
       "      <td>0.000076</td>\n",
       "      <td>0.000065</td>\n",
       "      <td>-0.001</td>\n",
       "      <td>0.001</td>\n",
       "      <td>10.95</td>\n",
       "      <td>10.45</td>\n",
       "      <td>0.05</td>\n",
       "      <td>0.24</td>\n",
       "      <td>6.454</td>\n",
       "      <td>0</td>\n",
       "      <td>0</td>\n",
       "      <td>0</td>\n",
       "      <td>0</td>\n",
       "      <td>1</td>\n",
       "      <td>0</td>\n",
       "      <td>1</td>\n",
       "      <td>0</td>\n",
       "      <td>1</td>\n",
       "    </tr>\n",
       "    <tr>\n",
       "      <td>22023</td>\n",
       "      <td>0.000072</td>\n",
       "      <td>13.827</td>\n",
       "      <td>0.062</td>\n",
       "      <td>0.000071</td>\n",
       "      <td>0.000080</td>\n",
       "      <td>0.000075</td>\n",
       "      <td>-0.003</td>\n",
       "      <td>-0.001</td>\n",
       "      <td>-0.002</td>\n",
       "      <td>0.000073</td>\n",
       "      <td>0.000066</td>\n",
       "      <td>-0.002</td>\n",
       "      <td>0.000</td>\n",
       "      <td>12.69</td>\n",
       "      <td>7.72</td>\n",
       "      <td>0.35</td>\n",
       "      <td>0.28</td>\n",
       "      <td>4.254</td>\n",
       "      <td>0</td>\n",
       "      <td>0</td>\n",
       "      <td>1</td>\n",
       "      <td>0</td>\n",
       "      <td>0</td>\n",
       "      <td>1</td>\n",
       "      <td>0</td>\n",
       "      <td>1</td>\n",
       "      <td>0</td>\n",
       "    </tr>\n",
       "    <tr>\n",
       "      <td>22344</td>\n",
       "      <td>0.000013</td>\n",
       "      <td>6.464</td>\n",
       "      <td>0.026</td>\n",
       "      <td>0.000013</td>\n",
       "      <td>0.000014</td>\n",
       "      <td>0.000013</td>\n",
       "      <td>-0.000</td>\n",
       "      <td>-0.000</td>\n",
       "      <td>-0.000</td>\n",
       "      <td>0.000013</td>\n",
       "      <td>0.000012</td>\n",
       "      <td>-0.000</td>\n",
       "      <td>0.000</td>\n",
       "      <td>21.00</td>\n",
       "      <td>14.84</td>\n",
       "      <td>0.41</td>\n",
       "      <td>0.04</td>\n",
       "      <td>2.795</td>\n",
       "      <td>0</td>\n",
       "      <td>0</td>\n",
       "      <td>0</td>\n",
       "      <td>1</td>\n",
       "      <td>0</td>\n",
       "      <td>1</td>\n",
       "      <td>0</td>\n",
       "      <td>1</td>\n",
       "      <td>0</td>\n",
       "    </tr>\n",
       "    <tr>\n",
       "      <td>22346</td>\n",
       "      <td>0.000013</td>\n",
       "      <td>6.569</td>\n",
       "      <td>0.007</td>\n",
       "      <td>0.000013</td>\n",
       "      <td>0.000014</td>\n",
       "      <td>0.000013</td>\n",
       "      <td>-0.000</td>\n",
       "      <td>-0.000</td>\n",
       "      <td>-0.000</td>\n",
       "      <td>0.000013</td>\n",
       "      <td>0.000012</td>\n",
       "      <td>-0.000</td>\n",
       "      <td>0.000</td>\n",
       "      <td>19.36</td>\n",
       "      <td>17.33</td>\n",
       "      <td>0.10</td>\n",
       "      <td>0.24</td>\n",
       "      <td>2.470</td>\n",
       "      <td>0</td>\n",
       "      <td>0</td>\n",
       "      <td>0</td>\n",
       "      <td>0</td>\n",
       "      <td>1</td>\n",
       "      <td>1</td>\n",
       "      <td>0</td>\n",
       "      <td>0</td>\n",
       "      <td>1</td>\n",
       "    </tr>\n",
       "    <tr>\n",
       "      <td>...</td>\n",
       "      <td>...</td>\n",
       "      <td>...</td>\n",
       "      <td>...</td>\n",
       "      <td>...</td>\n",
       "      <td>...</td>\n",
       "      <td>...</td>\n",
       "      <td>...</td>\n",
       "      <td>...</td>\n",
       "      <td>...</td>\n",
       "      <td>...</td>\n",
       "      <td>...</td>\n",
       "      <td>...</td>\n",
       "      <td>...</td>\n",
       "      <td>...</td>\n",
       "      <td>...</td>\n",
       "      <td>...</td>\n",
       "      <td>...</td>\n",
       "      <td>...</td>\n",
       "      <td>...</td>\n",
       "      <td>...</td>\n",
       "      <td>...</td>\n",
       "      <td>...</td>\n",
       "      <td>...</td>\n",
       "      <td>...</td>\n",
       "      <td>...</td>\n",
       "      <td>...</td>\n",
       "      <td>...</td>\n",
       "    </tr>\n",
       "    <tr>\n",
       "      <td>2471</td>\n",
       "      <td>0.000004</td>\n",
       "      <td>7.814</td>\n",
       "      <td>-0.020</td>\n",
       "      <td>0.000004</td>\n",
       "      <td>0.000005</td>\n",
       "      <td>0.000004</td>\n",
       "      <td>-0.000</td>\n",
       "      <td>-0.000</td>\n",
       "      <td>-0.000</td>\n",
       "      <td>0.000004</td>\n",
       "      <td>0.000003</td>\n",
       "      <td>-0.000</td>\n",
       "      <td>0.000</td>\n",
       "      <td>13.77</td>\n",
       "      <td>7.38</td>\n",
       "      <td>0.64</td>\n",
       "      <td>0.31</td>\n",
       "      <td>2.021</td>\n",
       "      <td>0</td>\n",
       "      <td>0</td>\n",
       "      <td>0</td>\n",
       "      <td>0</td>\n",
       "      <td>1</td>\n",
       "      <td>1</td>\n",
       "      <td>0</td>\n",
       "      <td>0</td>\n",
       "      <td>1</td>\n",
       "    </tr>\n",
       "    <tr>\n",
       "      <td>9596</td>\n",
       "      <td>0.000709</td>\n",
       "      <td>5.502</td>\n",
       "      <td>-0.008</td>\n",
       "      <td>0.000689</td>\n",
       "      <td>0.000727</td>\n",
       "      <td>0.000708</td>\n",
       "      <td>0.004</td>\n",
       "      <td>-0.000</td>\n",
       "      <td>0.002</td>\n",
       "      <td>0.000708</td>\n",
       "      <td>0.000700</td>\n",
       "      <td>-0.003</td>\n",
       "      <td>0.000</td>\n",
       "      <td>26.45</td>\n",
       "      <td>21.19</td>\n",
       "      <td>0.33</td>\n",
       "      <td>0.44</td>\n",
       "      <td>2.519</td>\n",
       "      <td>0</td>\n",
       "      <td>0</td>\n",
       "      <td>0</td>\n",
       "      <td>0</td>\n",
       "      <td>1</td>\n",
       "      <td>0</td>\n",
       "      <td>1</td>\n",
       "      <td>0</td>\n",
       "      <td>1</td>\n",
       "    </tr>\n",
       "    <tr>\n",
       "      <td>2473</td>\n",
       "      <td>0.000004</td>\n",
       "      <td>11.116</td>\n",
       "      <td>0.041</td>\n",
       "      <td>0.000004</td>\n",
       "      <td>0.000005</td>\n",
       "      <td>0.000004</td>\n",
       "      <td>-0.000</td>\n",
       "      <td>0.000</td>\n",
       "      <td>-0.000</td>\n",
       "      <td>0.000004</td>\n",
       "      <td>0.000003</td>\n",
       "      <td>-0.000</td>\n",
       "      <td>0.000</td>\n",
       "      <td>10.90</td>\n",
       "      <td>5.09</td>\n",
       "      <td>0.44</td>\n",
       "      <td>0.15</td>\n",
       "      <td>4.186</td>\n",
       "      <td>0</td>\n",
       "      <td>0</td>\n",
       "      <td>0</td>\n",
       "      <td>1</td>\n",
       "      <td>0</td>\n",
       "      <td>1</td>\n",
       "      <td>0</td>\n",
       "      <td>1</td>\n",
       "      <td>0</td>\n",
       "    </tr>\n",
       "    <tr>\n",
       "      <td>2474</td>\n",
       "      <td>0.000004</td>\n",
       "      <td>10.969</td>\n",
       "      <td>-0.010</td>\n",
       "      <td>0.000004</td>\n",
       "      <td>0.000005</td>\n",
       "      <td>0.000004</td>\n",
       "      <td>-0.000</td>\n",
       "      <td>0.000</td>\n",
       "      <td>-0.000</td>\n",
       "      <td>0.000004</td>\n",
       "      <td>0.000003</td>\n",
       "      <td>-0.000</td>\n",
       "      <td>0.000</td>\n",
       "      <td>20.64</td>\n",
       "      <td>12.32</td>\n",
       "      <td>0.58</td>\n",
       "      <td>0.46</td>\n",
       "      <td>3.521</td>\n",
       "      <td>0</td>\n",
       "      <td>0</td>\n",
       "      <td>0</td>\n",
       "      <td>1</td>\n",
       "      <td>0</td>\n",
       "      <td>1</td>\n",
       "      <td>0</td>\n",
       "      <td>1</td>\n",
       "      <td>0</td>\n",
       "    </tr>\n",
       "    <tr>\n",
       "      <td>9542</td>\n",
       "      <td>0.000047</td>\n",
       "      <td>4.394</td>\n",
       "      <td>-0.026</td>\n",
       "      <td>0.000047</td>\n",
       "      <td>0.000049</td>\n",
       "      <td>0.000048</td>\n",
       "      <td>-0.000</td>\n",
       "      <td>-0.000</td>\n",
       "      <td>-0.000</td>\n",
       "      <td>0.000048</td>\n",
       "      <td>0.000050</td>\n",
       "      <td>-0.000</td>\n",
       "      <td>-0.000</td>\n",
       "      <td>27.77</td>\n",
       "      <td>14.69</td>\n",
       "      <td>0.83</td>\n",
       "      <td>0.52</td>\n",
       "      <td>1.514</td>\n",
       "      <td>0</td>\n",
       "      <td>0</td>\n",
       "      <td>0</td>\n",
       "      <td>0</td>\n",
       "      <td>1</td>\n",
       "      <td>1</td>\n",
       "      <td>0</td>\n",
       "      <td>1</td>\n",
       "      <td>0</td>\n",
       "    </tr>\n",
       "  </tbody>\n",
       "</table>\n",
       "<p>36673 rows × 27 columns</p>\n",
       "</div>"
      ],
      "text/plain": [
       "          price  ranging  d_ranging     lower     upper    middle  d_lower  \\\n",
       "30297  0.000013    7.312      0.019  0.000012  0.000013  0.000013    0.000   \n",
       "22022  0.000076    9.851     -0.153  0.000072  0.000081  0.000076    0.006   \n",
       "22023  0.000072   13.827      0.062  0.000071  0.000080  0.000075   -0.003   \n",
       "22344  0.000013    6.464      0.026  0.000013  0.000014  0.000013   -0.000   \n",
       "22346  0.000013    6.569      0.007  0.000013  0.000014  0.000013   -0.000   \n",
       "...         ...      ...        ...       ...       ...       ...      ...   \n",
       "2471   0.000004    7.814     -0.020  0.000004  0.000005  0.000004   -0.000   \n",
       "9596   0.000709    5.502     -0.008  0.000689  0.000727  0.000708    0.004   \n",
       "2473   0.000004   11.116      0.041  0.000004  0.000005  0.000004   -0.000   \n",
       "2474   0.000004   10.969     -0.010  0.000004  0.000005  0.000004   -0.000   \n",
       "9542   0.000047    4.394     -0.026  0.000047  0.000049  0.000048   -0.000   \n",
       "\n",
       "       d_upper  d_middle    ema_10   ema_200  d_ema_10  d_ema_200   k_15  \\\n",
       "30297    0.000     0.000  0.000013  0.000012     0.000      0.000  27.18   \n",
       "22022   -0.003     0.002  0.000076  0.000065    -0.001      0.001  10.95   \n",
       "22023   -0.001    -0.002  0.000073  0.000066    -0.002      0.000  12.69   \n",
       "22344   -0.000    -0.000  0.000013  0.000012    -0.000      0.000  21.00   \n",
       "22346   -0.000    -0.000  0.000013  0.000012    -0.000      0.000  19.36   \n",
       "...        ...       ...       ...       ...       ...        ...    ...   \n",
       "2471    -0.000    -0.000  0.000004  0.000003    -0.000      0.000  13.77   \n",
       "9596    -0.000     0.002  0.000708  0.000700    -0.003      0.000  26.45   \n",
       "2473     0.000    -0.000  0.000004  0.000003    -0.000      0.000  10.90   \n",
       "2474     0.000    -0.000  0.000004  0.000003    -0.000      0.000  20.64   \n",
       "9542    -0.000    -0.000  0.000048  0.000050    -0.000     -0.000  27.77   \n",
       "\n",
       "        d_15  d_k_15  d_d_15  dist_to_BB  pattern_Bullish eng.  pattern_Doji  \\\n",
       "30297  16.80    0.85    0.43       1.928                     0             0   \n",
       "22022  10.45    0.05    0.24       6.454                     0             0   \n",
       "22023   7.72    0.35    0.28       4.254                     0             0   \n",
       "22344  14.84    0.41    0.04       2.795                     0             0   \n",
       "22346  17.33    0.10    0.24       2.470                     0             0   \n",
       "...      ...     ...     ...         ...                   ...           ...   \n",
       "2471    7.38    0.64    0.31       2.021                     0             0   \n",
       "9596   21.19    0.33    0.44       2.519                     0             0   \n",
       "2473    5.09    0.44    0.15       4.186                     0             0   \n",
       "2474   12.32    0.58    0.46       3.521                     0             0   \n",
       "9542   14.69    0.83    0.52       1.514                     0             0   \n",
       "\n",
       "       pattern_Hammer  pattern_Harami  pattern_no  origin_lower  origin_upper  \\\n",
       "30297               0               0           1             0             1   \n",
       "22022               0               0           1             0             1   \n",
       "22023               1               0           0             1             0   \n",
       "22344               0               1           0             1             0   \n",
       "22346               0               0           1             1             0   \n",
       "...               ...             ...         ...           ...           ...   \n",
       "2471                0               0           1             1             0   \n",
       "9596                0               0           1             0             1   \n",
       "2473                0               1           0             1             0   \n",
       "2474                0               1           0             1             0   \n",
       "9542                0               0           1             1             0   \n",
       "\n",
       "       candle_color_green  candle_color_red  \n",
       "30297                   1                 0  \n",
       "22022                   0                 1  \n",
       "22023                   1                 0  \n",
       "22344                   1                 0  \n",
       "22346                   0                 1  \n",
       "...                   ...               ...  \n",
       "2471                    0                 1  \n",
       "9596                    0                 1  \n",
       "2473                    1                 0  \n",
       "2474                    1                 0  \n",
       "9542                    1                 0  \n",
       "\n",
       "[36673 rows x 27 columns]"
      ]
     },
     "execution_count": 36,
     "metadata": {},
     "output_type": "execute_result"
    }
   ],
   "source": [
    "X_train"
   ]
  },
  {
   "cell_type": "code",
   "execution_count": null,
   "metadata": {},
   "outputs": [],
   "source": []
  },
  {
   "cell_type": "markdown",
   "metadata": {},
   "source": [
    "### Define a function to compare different methods"
   ]
  },
  {
   "cell_type": "code",
   "execution_count": 37,
   "metadata": {},
   "outputs": [],
   "source": [
    "# function for comparing different approaches\n",
    "def score_dataset(model, X_train, X_val, y_train, y_val, **kwargs):\n",
    "    '''Trains a model, makes predictions. \n",
    "    Prints classification report\n",
    "    Returns mean absolute error'''\n",
    "    #Modified from: https://www.kaggle.com/alexisbcook/exercise-categorical-variables\n",
    "    model.fit(X_train, y_train, **kwargs)\n",
    "    preds = model.predict(X_val)\n",
    "    print(classification_report(y_val,preds))\n",
    "    return mean_absolute_error(y_val, preds)"
   ]
  },
  {
   "cell_type": "markdown",
   "metadata": {},
   "source": [
    "4. Let's already try some methods:"
   ]
  },
  {
   "cell_type": "markdown",
   "metadata": {},
   "source": [
    "### Random Forest"
   ]
  },
  {
   "cell_type": "code",
   "execution_count": 38,
   "metadata": {},
   "outputs": [],
   "source": [
    "random_forest_basic = RandomForestClassifier(n_estimators=500, max_depth=5, random_state=1)"
   ]
  },
  {
   "cell_type": "code",
   "execution_count": 39,
   "metadata": {},
   "outputs": [
    {
     "name": "stdout",
     "output_type": "stream",
     "text": [
      "Random Forest :\n",
      "              precision    recall  f1-score   support\n",
      "\n",
      "           0       0.64      0.86      0.73      1183\n",
      "           1       0.60      0.31      0.41       817\n",
      "\n",
      "    accuracy                           0.63      2000\n",
      "   macro avg       0.62      0.58      0.57      2000\n",
      "weighted avg       0.62      0.63      0.60      2000\n",
      "\n"
     ]
    },
    {
     "data": {
      "text/plain": [
       "0.368"
      ]
     },
     "execution_count": 39,
     "metadata": {},
     "output_type": "execute_result"
    }
   ],
   "source": [
    "print(\"Random Forest :\")\n",
    "score_dataset(random_forest_basic, X_train, X_val, y_train, y_val)"
   ]
  },
  {
   "cell_type": "markdown",
   "metadata": {},
   "source": [
    "### Logistic regression"
   ]
  },
  {
   "cell_type": "code",
   "execution_count": 40,
   "metadata": {},
   "outputs": [],
   "source": [
    "logmodel_basic = LogisticRegression(solver='warn')"
   ]
  },
  {
   "cell_type": "code",
   "execution_count": 41,
   "metadata": {},
   "outputs": [
    {
     "name": "stdout",
     "output_type": "stream",
     "text": [
      "Logistic regression :\n"
     ]
    },
    {
     "name": "stderr",
     "output_type": "stream",
     "text": [
      "C:\\Users\\Taras\\Anaconda3\\lib\\site-packages\\sklearn\\linear_model\\logistic.py:432: FutureWarning: Default solver will be changed to 'lbfgs' in 0.22. Specify a solver to silence this warning.\n",
      "  FutureWarning)\n"
     ]
    },
    {
     "name": "stdout",
     "output_type": "stream",
     "text": [
      "              precision    recall  f1-score   support\n",
      "\n",
      "           0       0.65      0.89      0.76      1183\n",
      "           1       0.67      0.32      0.43       817\n",
      "\n",
      "    accuracy                           0.66      2000\n",
      "   macro avg       0.66      0.60      0.59      2000\n",
      "weighted avg       0.66      0.66      0.62      2000\n",
      "\n"
     ]
    },
    {
     "data": {
      "text/plain": [
       "0.3425"
      ]
     },
     "execution_count": 41,
     "metadata": {},
     "output_type": "execute_result"
    }
   ],
   "source": [
    "\n",
    "print(\"Logistic regression :\")\n",
    "score_dataset(logmodel_basic, X_train, X_val, y_train, y_val)"
   ]
  },
  {
   "cell_type": "markdown",
   "metadata": {},
   "source": [
    "Check feature importance"
   ]
  },
  {
   "cell_type": "code",
   "execution_count": 42,
   "metadata": {},
   "outputs": [
    {
     "name": "stderr",
     "output_type": "stream",
     "text": [
      "C:\\Users\\Taras\\Anaconda3\\lib\\site-packages\\sklearn\\linear_model\\logistic.py:432: FutureWarning: Default solver will be changed to 'lbfgs' in 0.22. Specify a solver to silence this warning.\n",
      "  FutureWarning)\n"
     ]
    },
    {
     "data": {
      "text/plain": [
       "LogisticRegression(C=1.0, class_weight=None, dual=False, fit_intercept=True,\n",
       "                   intercept_scaling=1, l1_ratio=None, max_iter=100,\n",
       "                   multi_class='warn', n_jobs=None, penalty='l2',\n",
       "                   random_state=None, solver='warn', tol=0.0001, verbose=0,\n",
       "                   warm_start=False)"
      ]
     },
     "execution_count": 42,
     "metadata": {},
     "output_type": "execute_result"
    }
   ],
   "source": [
    "logmodel_basic.fit(X_train, y_train)"
   ]
  },
  {
   "cell_type": "code",
   "execution_count": 43,
   "metadata": {},
   "outputs": [],
   "source": [
    "importance = logmodel_basic.coef_[0]"
   ]
  },
  {
   "cell_type": "code",
   "execution_count": 44,
   "metadata": {},
   "outputs": [
    {
     "data": {
      "image/png": "[encoded data removed]",
      "text/plain": [
       "<Figure size 864x576 with 1 Axes>"
      ]
     },
     "metadata": {
      "needs_background": "light"
     },
     "output_type": "display_data"
    }
   ],
   "source": [
    "plt.figure(figsize=(12,8))\n",
    "plt.bar([x for x in range(len(importance))], importance)\n",
    "plt.xticks(np.arange(len(importance)), X_val.columns, rotation=60)\n",
    "plt.ylim([-0.5,0.5])\n",
    "plt.grid()\n",
    "plt.show()"
   ]
  },
  {
   "cell_type": "code",
   "execution_count": 45,
   "metadata": {},
   "outputs": [
    {
     "data": {
      "text/plain": [
       "27"
      ]
     },
     "execution_count": 45,
     "metadata": {},
     "output_type": "execute_result"
    }
   ],
   "source": [
    "len(importance)"
   ]
  },
  {
   "cell_type": "code",
   "execution_count": 46,
   "metadata": {},
   "outputs": [],
   "source": [
    "# try different solvers for logostic regression\n",
    "# solvers = {'newton-cg', 'lbfgs', 'liblinear', 'sag', 'saga'}\n",
    "# for solver in solvers:\n",
    "#     logmodel_solv = LogisticRegression(solver=solver)\n",
    "#     print(f\"Solver : {solver}\")\n",
    "#     score_dataset(logmodel_solv, X_train, X_val, y_train, y_val)"
   ]
  },
  {
   "cell_type": "markdown",
   "metadata": {},
   "source": [
    "### XG Boost"
   ]
  },
  {
   "cell_type": "code",
   "execution_count": 47,
   "metadata": {},
   "outputs": [],
   "source": [
    "XGB_basic = XGBClassifier(n_estimators=1000, learning_rate=0.01, random_state=0)"
   ]
  },
  {
   "cell_type": "code",
   "execution_count": 48,
   "metadata": {},
   "outputs": [],
   "source": [
    "# XGB_basic.fit(X_train, y_train,\n",
    "#              early_stopping_rounds=5, \n",
    "#              eval_set=[(X_val, y_val)], \n",
    "#              verbose=False)"
   ]
  },
  {
   "cell_type": "code",
   "execution_count": null,
   "metadata": {},
   "outputs": [],
   "source": []
  },
  {
   "cell_type": "code",
   "execution_count": 49,
   "metadata": {},
   "outputs": [
    {
     "name": "stdout",
     "output_type": "stream",
     "text": [
      "XG Boost :\n",
      "              precision    recall  f1-score   support\n",
      "\n",
      "           0       0.71      0.73      0.72      1183\n",
      "           1       0.60      0.57      0.59       817\n",
      "\n",
      "    accuracy                           0.67      2000\n",
      "   macro avg       0.66      0.65      0.65      2000\n",
      "weighted avg       0.67      0.67      0.67      2000\n",
      "\n"
     ]
    },
    {
     "data": {
      "text/plain": [
       "0.332"
      ]
     },
     "execution_count": 49,
     "metadata": {},
     "output_type": "execute_result"
    }
   ],
   "source": [
    "print(\"XG Boost :\")\n",
    "score_dataset(XGB_basic, X_train, X_val, y_train, y_val,\n",
    "             early_stopping_rounds=10,\n",
    "             eval_set=[(X_val, y_val)],\n",
    "             verbose=False)"
   ]
  },
  {
   "cell_type": "code",
   "execution_count": null,
   "metadata": {},
   "outputs": [],
   "source": []
  },
  {
   "cell_type": "code",
   "execution_count": 50,
   "metadata": {},
   "outputs": [],
   "source": [
    "#val_preds_XGB = XGB_basic.predict(X_val)"
   ]
  },
  {
   "cell_type": "code",
   "execution_count": 51,
   "metadata": {},
   "outputs": [],
   "source": [
    "#mae = mean_absolute_error(val_preds_XGB, y_val)"
   ]
  },
  {
   "cell_type": "code",
   "execution_count": 52,
   "metadata": {},
   "outputs": [],
   "source": [
    "#print(f\"MAE for the XG Boost without categorical features: {mae}\")"
   ]
  },
  {
   "cell_type": "markdown",
   "metadata": {},
   "source": [
    "### The best model\n",
    "\n",
    "According to the classification reports, the best model that predicts succesfull trasdes is happened to be logistic regression.\n",
    "Now, save this model using `pickle`"
   ]
  },
  {
   "cell_type": "code",
   "execution_count": 53,
   "metadata": {},
   "outputs": [
    {
     "name": "stderr",
     "output_type": "stream",
     "text": [
      "C:\\Users\\Taras\\Anaconda3\\lib\\site-packages\\sklearn\\linear_model\\logistic.py:432: FutureWarning: Default solver will be changed to 'lbfgs' in 0.22. Specify a solver to silence this warning.\n",
      "  FutureWarning)\n"
     ]
    },
    {
     "data": {
      "text/plain": [
       "LogisticRegression(C=1.0, class_weight=None, dual=False, fit_intercept=True,\n",
       "                   intercept_scaling=1, l1_ratio=None, max_iter=100,\n",
       "                   multi_class='warn', n_jobs=None, penalty='l2',\n",
       "                   random_state=None, solver='warn', tol=0.0001, verbose=0,\n",
       "                   warm_start=False)"
      ]
     },
     "execution_count": 53,
     "metadata": {},
     "output_type": "execute_result"
    }
   ],
   "source": [
    "# let's train the model again:\n",
    "logmodel_basic = LogisticRegression(solver='warn')\n",
    "logmodel_basic.fit(X_train, y_train)\n"
   ]
  },
  {
   "cell_type": "code",
   "execution_count": 54,
   "metadata": {},
   "outputs": [],
   "source": [
    "# Load pre-trained model:\n",
    "with open('logregression.pickle', 'wb') as f:\n",
    "    pickle.dump(logmodel_basic, f)"
   ]
  },
  {
   "cell_type": "code",
   "execution_count": 55,
   "metadata": {},
   "outputs": [],
   "source": [
    "# Open pre-trained model:\n",
    "pickle_in = open('logregression.pickle', 'rb')\n",
    "logmodel_loaded = pickle.load(pickle_in)"
   ]
  },
  {
   "cell_type": "code",
   "execution_count": 56,
   "metadata": {},
   "outputs": [
    {
     "name": "stderr",
     "output_type": "stream",
     "text": [
      "C:\\Users\\Taras\\Anaconda3\\lib\\site-packages\\sklearn\\linear_model\\logistic.py:432: FutureWarning: Default solver will be changed to 'lbfgs' in 0.22. Specify a solver to silence this warning.\n",
      "  FutureWarning)\n"
     ]
    },
    {
     "name": "stdout",
     "output_type": "stream",
     "text": [
      "              precision    recall  f1-score   support\n",
      "\n",
      "           0       0.65      0.89      0.76      1183\n",
      "           1       0.67      0.32      0.43       817\n",
      "\n",
      "    accuracy                           0.66      2000\n",
      "   macro avg       0.66      0.60      0.59      2000\n",
      "weighted avg       0.66      0.66      0.62      2000\n",
      "\n"
     ]
    },
    {
     "data": {
      "text/plain": [
       "0.3425"
      ]
     },
     "execution_count": 56,
     "metadata": {},
     "output_type": "execute_result"
    }
   ],
   "source": [
    "# Check if loaded model shows the same results:\n",
    "score_dataset(logmodel_loaded, X_train, X_val, y_train, y_val)"
   ]
  },
  {
   "cell_type": "markdown",
   "metadata": {},
   "source": [
    "<b> Note. </b> `XGBoost` shows better accuracy in general, but it better predicts loosing trades rather than succesfull. "
   ]
  },
  {
   "cell_type": "code",
   "execution_count": 57,
   "metadata": {},
   "outputs": [
    {
     "ename": "ValueError",
     "evalue": "Expected 2D array, got 1D array instead:\narray=[1.2510e-05 2.6836e+01 2.5900e-01 1.0610e-05 1.3050e-05 1.1830e-05\n 1.0000e-03 0.0000e+00 0.0000e+00 1.2120e-05 9.8000e-06 0.0000e+00\n 0.0000e+00 1.8050e+01 1.1040e+01 6.5000e-01 1.8000e-01 4.3010e+00\n 0.0000e+00 0.0000e+00 0.0000e+00 0.0000e+00 1.0000e+00 0.0000e+00\n 1.0000e+00 1.0000e+00 0.0000e+00].\nReshape your data either using array.reshape(-1, 1) if your data has a single feature or array.reshape(1, -1) if it contains a single sample.",
     "output_type": "error",
     "traceback": [
      "\u001b[1;31m---------------------------------------------------------------------------\u001b[0m",
      "\u001b[1;31mValueError\u001b[0m                                Traceback (most recent call last)",
      "\u001b[1;32m<ipython-input-57-ec544382e5a3>\u001b[0m in \u001b[0;36m<module>\u001b[1;34m\u001b[0m\n\u001b[1;32m----> 1\u001b[1;33m \u001b[0mlogmodel_loaded\u001b[0m\u001b[1;33m.\u001b[0m\u001b[0mpredict\u001b[0m\u001b[1;33m(\u001b[0m\u001b[0mX_val\u001b[0m\u001b[1;33m.\u001b[0m\u001b[0miloc\u001b[0m\u001b[1;33m[\u001b[0m\u001b[1;33m-\u001b[0m\u001b[1;36m1\u001b[0m\u001b[1;33m]\u001b[0m\u001b[1;33m)\u001b[0m\u001b[1;33m\u001b[0m\u001b[1;33m\u001b[0m\u001b[0m\n\u001b[0m",
      "\u001b[1;32m~\\Anaconda3\\lib\\site-packages\\sklearn\\linear_model\\base.py\u001b[0m in \u001b[0;36mpredict\u001b[1;34m(self, X)\u001b[0m\n\u001b[0;32m    287\u001b[0m             \u001b[0mPredicted\u001b[0m \u001b[1;32mclass\u001b[0m \u001b[0mlabel\u001b[0m \u001b[0mper\u001b[0m \u001b[0msample\u001b[0m\u001b[1;33m.\u001b[0m\u001b[1;33m\u001b[0m\u001b[1;33m\u001b[0m\u001b[0m\n\u001b[0;32m    288\u001b[0m         \"\"\"\n\u001b[1;32m--> 289\u001b[1;33m         \u001b[0mscores\u001b[0m \u001b[1;33m=\u001b[0m \u001b[0mself\u001b[0m\u001b[1;33m.\u001b[0m\u001b[0mdecision_function\u001b[0m\u001b[1;33m(\u001b[0m\u001b[0mX\u001b[0m\u001b[1;33m)\u001b[0m\u001b[1;33m\u001b[0m\u001b[1;33m\u001b[0m\u001b[0m\n\u001b[0m\u001b[0;32m    290\u001b[0m         \u001b[1;32mif\u001b[0m \u001b[0mlen\u001b[0m\u001b[1;33m(\u001b[0m\u001b[0mscores\u001b[0m\u001b[1;33m.\u001b[0m\u001b[0mshape\u001b[0m\u001b[1;33m)\u001b[0m \u001b[1;33m==\u001b[0m \u001b[1;36m1\u001b[0m\u001b[1;33m:\u001b[0m\u001b[1;33m\u001b[0m\u001b[1;33m\u001b[0m\u001b[0m\n\u001b[0;32m    291\u001b[0m             \u001b[0mindices\u001b[0m \u001b[1;33m=\u001b[0m \u001b[1;33m(\u001b[0m\u001b[0mscores\u001b[0m \u001b[1;33m>\u001b[0m \u001b[1;36m0\u001b[0m\u001b[1;33m)\u001b[0m\u001b[1;33m.\u001b[0m\u001b[0mastype\u001b[0m\u001b[1;33m(\u001b[0m\u001b[0mnp\u001b[0m\u001b[1;33m.\u001b[0m\u001b[0mint\u001b[0m\u001b[1;33m)\u001b[0m\u001b[1;33m\u001b[0m\u001b[1;33m\u001b[0m\u001b[0m\n",
      "\u001b[1;32m~\\Anaconda3\\lib\\site-packages\\sklearn\\linear_model\\base.py\u001b[0m in \u001b[0;36mdecision_function\u001b[1;34m(self, X)\u001b[0m\n\u001b[0;32m    263\u001b[0m                                  \"yet\" % {'name': type(self).__name__})\n\u001b[0;32m    264\u001b[0m \u001b[1;33m\u001b[0m\u001b[0m\n\u001b[1;32m--> 265\u001b[1;33m         \u001b[0mX\u001b[0m \u001b[1;33m=\u001b[0m \u001b[0mcheck_array\u001b[0m\u001b[1;33m(\u001b[0m\u001b[0mX\u001b[0m\u001b[1;33m,\u001b[0m \u001b[0maccept_sparse\u001b[0m\u001b[1;33m=\u001b[0m\u001b[1;34m'csr'\u001b[0m\u001b[1;33m)\u001b[0m\u001b[1;33m\u001b[0m\u001b[1;33m\u001b[0m\u001b[0m\n\u001b[0m\u001b[0;32m    266\u001b[0m \u001b[1;33m\u001b[0m\u001b[0m\n\u001b[0;32m    267\u001b[0m         \u001b[0mn_features\u001b[0m \u001b[1;33m=\u001b[0m \u001b[0mself\u001b[0m\u001b[1;33m.\u001b[0m\u001b[0mcoef_\u001b[0m\u001b[1;33m.\u001b[0m\u001b[0mshape\u001b[0m\u001b[1;33m[\u001b[0m\u001b[1;36m1\u001b[0m\u001b[1;33m]\u001b[0m\u001b[1;33m\u001b[0m\u001b[1;33m\u001b[0m\u001b[0m\n",
      "\u001b[1;32m~\\Anaconda3\\lib\\site-packages\\sklearn\\utils\\validation.py\u001b[0m in \u001b[0;36mcheck_array\u001b[1;34m(array, accept_sparse, accept_large_sparse, dtype, order, copy, force_all_finite, ensure_2d, allow_nd, ensure_min_samples, ensure_min_features, warn_on_dtype, estimator)\u001b[0m\n\u001b[0;32m    519\u001b[0m                     \u001b[1;34m\"Reshape your data either using array.reshape(-1, 1) if \"\u001b[0m\u001b[1;33m\u001b[0m\u001b[1;33m\u001b[0m\u001b[0m\n\u001b[0;32m    520\u001b[0m                     \u001b[1;34m\"your data has a single feature or array.reshape(1, -1) \"\u001b[0m\u001b[1;33m\u001b[0m\u001b[1;33m\u001b[0m\u001b[0m\n\u001b[1;32m--> 521\u001b[1;33m                     \"if it contains a single sample.\".format(array))\n\u001b[0m\u001b[0;32m    522\u001b[0m \u001b[1;33m\u001b[0m\u001b[0m\n\u001b[0;32m    523\u001b[0m         \u001b[1;31m# in the future np.flexible dtypes will be handled like object dtypes\u001b[0m\u001b[1;33m\u001b[0m\u001b[1;33m\u001b[0m\u001b[1;33m\u001b[0m\u001b[0m\n",
      "\u001b[1;31mValueError\u001b[0m: Expected 2D array, got 1D array instead:\narray=[1.2510e-05 2.6836e+01 2.5900e-01 1.0610e-05 1.3050e-05 1.1830e-05\n 1.0000e-03 0.0000e+00 0.0000e+00 1.2120e-05 9.8000e-06 0.0000e+00\n 0.0000e+00 1.8050e+01 1.1040e+01 6.5000e-01 1.8000e-01 4.3010e+00\n 0.0000e+00 0.0000e+00 0.0000e+00 0.0000e+00 1.0000e+00 0.0000e+00\n 1.0000e+00 1.0000e+00 0.0000e+00].\nReshape your data either using array.reshape(-1, 1) if your data has a single feature or array.reshape(1, -1) if it contains a single sample."
     ]
    }
   ],
   "source": [
    "logmodel_loaded.predict(X_val.iloc[-1])"
   ]
  },
  {
   "cell_type": "code",
   "execution_count": 58,
   "metadata": {},
   "outputs": [
    {
     "data": {
      "text/plain": [
       "0"
      ]
     },
     "execution_count": 58,
     "metadata": {},
     "output_type": "execute_result"
    }
   ],
   "source": [
    "logmodel_loaded.predict( np.array(X_val.iloc[-1]).reshape(1, -1) )[-1]"
   ]
  },
  {
   "cell_type": "code",
   "execution_count": 59,
   "metadata": {},
   "outputs": [
    {
     "data": {
      "text/plain": [
       "price                    0.000013\n",
       "ranging                 26.836000\n",
       "d_ranging                0.259000\n",
       "lower                    0.000011\n",
       "upper                    0.000013\n",
       "middle                   0.000012\n",
       "d_lower                  0.001000\n",
       "d_upper                  0.000000\n",
       "d_middle                 0.000000\n",
       "ema_10                   0.000012\n",
       "ema_200                  0.000010\n",
       "d_ema_10                 0.000000\n",
       "d_ema_200                0.000000\n",
       "k_15                    18.050000\n",
       "d_15                    11.040000\n",
       "d_k_15                   0.650000\n",
       "d_d_15                   0.180000\n",
       "dist_to_BB               4.301000\n",
       "pattern_Bullish eng.     0.000000\n",
       "pattern_Doji             0.000000\n",
       "pattern_Hammer           0.000000\n",
       "pattern_Harami           0.000000\n",
       "pattern_no               1.000000\n",
       "origin_lower             0.000000\n",
       "origin_upper             1.000000\n",
       "candle_color_green       1.000000\n",
       "candle_color_red         0.000000\n",
       "Name: 3250, dtype: float64"
      ]
     },
     "execution_count": 59,
     "metadata": {},
     "output_type": "execute_result"
    }
   ],
   "source": [
    "X_val.iloc[-1]"
   ]
  },
  {
   "cell_type": "code",
   "execution_count": null,
   "metadata": {},
   "outputs": [],
   "source": [
    "[0 for _ in range(27)]"
   ]
  },
  {
   "cell_type": "code",
   "execution_count": null,
   "metadata": {},
   "outputs": [],
   "source": []
  },
  {
   "cell_type": "code",
   "execution_count": null,
   "metadata": {},
   "outputs": [],
   "source": []
  }
 ],
 "metadata": {
  "kernelspec": {
   "display_name": "Python 3",
   "language": "python",
   "name": "python3"
  },
  "language_info": {
   "codemirror_mode": {
    "name": "ipython",
    "version": 3
   },
   "file_extension": ".py",
   "mimetype": "text/x-python",
   "name": "python",
   "nbconvert_exporter": "python",
   "pygments_lexer": "ipython3",
   "version": "3.7.4"
  }
 },
 "nbformat": 4,
 "nbformat_minor": 2
}
